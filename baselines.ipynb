{
  "cells": [
    {
      "cell_type": "markdown",
      "metadata": {
        "id": "VLnYMkab1Uw5"
      },
      "source": [
        "## GP-TopFreq"
      ]
    },
    {
      "cell_type": "markdown",
      "metadata": {
        "id": "h22Q9JFN2PU0"
      },
      "source": [
        "GP-TopFreq – a combination of P-TopFreq and G-TopFreq that first uses\n",
        "P-TopFreq to fill the basket, then uses G-TopFeq to fill any remaining slots."
      ]
    },
    {
      "cell_type": "code",
      "execution_count": 4,
      "metadata": {
        "colab": {
          "base_uri": "https://localhost:8080/"
        },
        "id": "wqQ1cZFTfO8y",
        "outputId": "92d5d1dc-f4a1-452d-9f52-ff216be11597"
      },
      "outputs": [
        {
          "output_type": "stream",
          "name": "stdout",
          "text": [
            "Drive already mounted at /content/drive; to attempt to forcibly remount, call drive.mount(\"/content/drive\", force_remount=True).\n"
          ]
        }
      ],
      "source": [
        "from google.colab import drive\n",
        "drive.mount('/content/drive')\n",
        "\n",
        "#%cd /content/drive/MyDrive/recsys"
      ]
    },
    {
      "cell_type": "code",
      "source": [
        "import os\n",
        "os.chdir(\"/content/drive/MyDrive/recsys\")\n",
        "!ls"
      ],
      "metadata": {
        "colab": {
          "base_uri": "https://localhost:8080/"
        },
        "id": "wD83LFYuvpNF",
        "outputId": "4d48d85f-3896-4f4f-c27b-6c1692f3e9d3"
      },
      "execution_count": 5,
      "outputs": [
        {
          "output_type": "stream",
          "name": "stdout",
          "text": [
            "checkpoints  metrics.py  __pycache__\t      recanet_model.py\n",
            "data\t     preprocess  recanet_datasets.py\n"
          ]
        }
      ]
    },
    {
      "cell_type": "code",
      "execution_count": 6,
      "metadata": {
        "id": "YNLRyVlKe9k8"
      },
      "outputs": [],
      "source": [
        "import matplotlib.pyplot as plt\n",
        "import seaborn as sns\n",
        "sns.set(style='darkgrid', font_scale=1.2)\n",
        "\n",
        "from IPython.display import clear_output\n",
        "%matplotlib inline\n",
        "\n",
        "import pandas as pd\n",
        "import plotly.express as px\n",
        "import numpy as np\n",
        "from tqdm import tqdm\n",
        "\n",
        "tqdm.pandas()\n",
        "\n",
        "from sklearn.metrics import accuracy_score, roc_auc_score"
      ]
    },
    {
      "cell_type": "markdown",
      "metadata": {
        "id": "gkKFW6see9k9"
      },
      "source": [
        "## Dataloader+dataset"
      ]
    },
    {
      "cell_type": "code",
      "execution_count": 8,
      "metadata": {
        "id": "lIyfjbQoe9lB"
      },
      "outputs": [],
      "source": [
        "history_len=20\n",
        "item_embed_size=128\n",
        "user_embed_size=32\n",
        "\n",
        "h1 = 128\n",
        "h2 = 128\n",
        "h3 = 128\n",
        "h4 = 128\n",
        "h5 = 128\n",
        "\n",
        "dataset_name = 'dunnhumby_cj'"
      ]
    },
    {
      "cell_type": "code",
      "execution_count": 9,
      "metadata": {
        "id": "gJm5YiWAK4DG"
      },
      "outputs": [],
      "source": [
        "from metrics import recall_k, ndcg_k, repeat_score_item, repeat_score_user\n",
        "from recanet_datasets import PreDataset, RCNDataset, DeviceDataLoader"
      ]
    },
    {
      "cell_type": "code",
      "execution_count": 12,
      "metadata": {
        "id": "fofSmlgYe9k-"
      },
      "outputs": [],
      "source": [
        "path_train = f'data/{dataset_name}/baskets/train_baskets.csv'\n",
        "path_test = f'data/{dataset_name}/baskets/test_baskets.csv'\n",
        "path_val = f'data/{dataset_name}/baskets/valid_baskets.csv'"
      ]
    },
    {
      "cell_type": "code",
      "execution_count": 13,
      "metadata": {
        "colab": {
          "base_uri": "https://localhost:8080/"
        },
        "id": "71Pf5N5He9lA",
        "outputId": "393eed6c-acbc-45b2-c41b-129d50fef29b"
      },
      "outputs": [
        {
          "output_type": "stream",
          "name": "stdout",
          "text": [
            "number of test users: 2483\n",
            "items: 91764\n",
            "filtered items: 36963\n"
          ]
        }
      ],
      "source": [
        "dataset = PreDataset(path_train,path_val, path_test, dataset=dataset_name, history_len=history_len,basket_count_min=3, min_item_count = 5)"
      ]
    },
    {
      "cell_type": "code",
      "source": [
        "train = pd.read_csv(path_train)\n",
        "test_users = dataset.test_users"
      ],
      "metadata": {
        "id": "KCtT1hAbORv4"
      },
      "execution_count": 14,
      "outputs": []
    },
    {
      "cell_type": "code",
      "source": [
        "max_bucket_len = max(train.groupby('basket_id').item_id.count())\n",
        "max_num_baskets = max(train.groupby('user_id').basket_id.nunique())"
      ],
      "metadata": {
        "id": "nUJq8uTTithX"
      },
      "execution_count": 36,
      "outputs": []
    },
    {
      "cell_type": "code",
      "source": [
        "def gp_topfreq(train, test_users, n=max_num_baskets):\n",
        "    result = {}\n",
        "    top_popular = train.item_id.value_counts().index.tolist()[:max_bucket_len]\n",
        "    train = train.sort_values(by='date')\n",
        "    \n",
        "    for user in tqdm(test_users):\n",
        "        items = train[train.user_id==user]\n",
        "        dates = items.date.unique()[-n:]\n",
        "        top_personal = items[items.date.isin(dates)].item_id.value_counts().index.tolist()[:max_bucket_len]\n",
        "        \n",
        "        if len(top_personal)<max_bucket_len:\n",
        "            gp_top = (top_personal + top_popular)[:max_bucket_len]\n",
        "            result[user] = gp_top\n",
        "        else:\n",
        "            result[user] = top_personal\n",
        "        \n",
        "    return result"
      ],
      "metadata": {
        "id": "I4HYgiOKgZYj"
      },
      "execution_count": 72,
      "outputs": []
    },
    {
      "cell_type": "code",
      "source": [
        "res = gp_topfreq(train, test_users, n=50)"
      ],
      "metadata": {
        "id": "5onBygmOOC96",
        "colab": {
          "base_uri": "https://localhost:8080/",
          "height": 49,
          "referenced_widgets": [
            "0b76afb6548f48ef8b4247317c5f81c5",
            "7d5134492c394ee8beb05ada6f48a23b",
            "bacb5618ece341a9a8cfe83c45d25a2c",
            "b470d4bafc9a4b4bb3960e27b6715cbd",
            "ad0d284aee5f44aebadd1653adee23b7",
            "760d386ac3b343e98c2f9ae32f76f919",
            "5e434790957d4975844b996736b629d5",
            "cd9615263aea437cb80b786e55c5337a",
            "52e3b85bd06446cdadc3d46525844b79",
            "76cf847499094797a77066d7a8413930",
            "9da18f4989f149f8ad8d172eb8b15f8e"
          ]
        },
        "outputId": "c2671ac1-2ec6-408c-961a-ce91f3a101f3"
      },
      "execution_count": 75,
      "outputs": [
        {
          "output_type": "display_data",
          "data": {
            "text/plain": [
              "  0%|          | 0/2483 [00:00<?, ?it/s]"
            ],
            "application/vnd.jupyter.widget-view+json": {
              "version_major": 2,
              "version_minor": 0,
              "model_id": "0b76afb6548f48ef8b4247317c5f81c5"
            }
          },
          "metadata": {}
        }
      ]
    },
    {
      "cell_type": "code",
      "execution_count": 76,
      "metadata": {
        "id": "lS9_0BI5K4DM",
        "colab": {
          "base_uri": "https://localhost:8080/"
        },
        "outputId": "90f065d4-8c82-40a2-ec3c-7a78c86cb60e"
      },
      "outputs": [
        {
          "output_type": "stream",
          "name": "stdout",
          "text": [
            "predictions ready 2483\n",
            "number of final test users: 1243\n",
            "5\n",
            "recall: 0.1122471587550507\n",
            "ndcg: 0.1710109936246384\n",
            "10\n",
            "recall: 0.14732749868705472\n",
            "ndcg: 0.14012473594393066\n",
            "20\n",
            "recall: 0.20017823183717073\n",
            "ndcg: 0.11050241486255191\n",
            "B\n",
            "recall: 0.12149068839735666\n",
            "ndcg: 0.13985002689423645\n"
          ]
        }
      ],
      "source": [
        "test_baskets = pd.read_csv(path_test)\n",
        "user_test_baskets_df = test_baskets.groupby('user_id')['item_id'].apply(list).reset_index()\n",
        "user_test_baskets_dict = dict(zip( user_test_baskets_df['user_id'],user_test_baskets_df['item_id']))\n",
        "\n",
        "user_predictions = res\n",
        "final_users = set(dataset.test_users).intersection(set(list(user_test_baskets_dict.keys())))\n",
        "print('predictions ready',len(user_predictions))\n",
        "print('number of final test users:',len(final_users))\n",
        "for k in [5,10,20,'B']:\n",
        "    print(k)\n",
        "    recall_scores = {}\n",
        "    ndcg_scores = {}\n",
        "    #zero = 0\n",
        "    for user in final_users:\n",
        "\n",
        "        top_items = []\n",
        "        if user in user_predictions:\n",
        "            top_items = user_predictions[user]\n",
        "        else:\n",
        "            zero+=1\n",
        "\n",
        "        if k == 'B':\n",
        "            recall_scores[user] = recall_k(user_test_baskets_dict[user],top_items,len(user_test_baskets_dict[user]))\n",
        "            ndcg_scores[user] = ndcg_k(user_test_baskets_dict[user],top_items,len(user_test_baskets_dict[user]))\n",
        "        else:\n",
        "            recall_scores[user] = recall_k(user_test_baskets_dict[user],top_items,k)\n",
        "            ndcg_scores[user] = ndcg_k(user_test_baskets_dict[user],top_items,k)\n",
        "    #print(zero)\n",
        "    print('recall:',np.mean(list(recall_scores.values())))\n",
        "    print('ndcg:',np.mean(list(ndcg_scores.values())))"
      ]
    },
    {
      "cell_type": "code",
      "source": [
        "    "
      ],
      "metadata": {
        "id": "fJgOizGrI5Uq"
      },
      "execution_count": null,
      "outputs": []
    }
  ],
  "metadata": {
    "colab": {
      "provenance": []
    },
    "gpuClass": "standard",
    "kernelspec": {
      "display_name": "Python 3 (ipykernel)",
      "language": "python",
      "name": "python3"
    },
    "language_info": {
      "codemirror_mode": {
        "name": "ipython",
        "version": 3
      },
      "file_extension": ".py",
      "mimetype": "text/x-python",
      "name": "python",
      "nbconvert_exporter": "python",
      "pygments_lexer": "ipython3",
      "version": "3.9.7"
    },
    "toc": {
      "base_numbering": 1,
      "nav_menu": {},
      "number_sections": true,
      "sideBar": true,
      "skip_h1_title": false,
      "title_cell": "Table of Contents",
      "title_sidebar": "Contents",
      "toc_cell": false,
      "toc_position": {},
      "toc_section_display": true,
      "toc_window_display": false
    },
    "widgets": {
      "application/vnd.jupyter.widget-state+json": {
        "0b76afb6548f48ef8b4247317c5f81c5": {
          "model_module": "@jupyter-widgets/controls",
          "model_name": "HBoxModel",
          "model_module_version": "1.5.0",
          "state": {
            "_dom_classes": [],
            "_model_module": "@jupyter-widgets/controls",
            "_model_module_version": "1.5.0",
            "_model_name": "HBoxModel",
            "_view_count": null,
            "_view_module": "@jupyter-widgets/controls",
            "_view_module_version": "1.5.0",
            "_view_name": "HBoxView",
            "box_style": "",
            "children": [
              "IPY_MODEL_7d5134492c394ee8beb05ada6f48a23b",
              "IPY_MODEL_bacb5618ece341a9a8cfe83c45d25a2c",
              "IPY_MODEL_b470d4bafc9a4b4bb3960e27b6715cbd"
            ],
            "layout": "IPY_MODEL_ad0d284aee5f44aebadd1653adee23b7"
          }
        },
        "7d5134492c394ee8beb05ada6f48a23b": {
          "model_module": "@jupyter-widgets/controls",
          "model_name": "HTMLModel",
          "model_module_version": "1.5.0",
          "state": {
            "_dom_classes": [],
            "_model_module": "@jupyter-widgets/controls",
            "_model_module_version": "1.5.0",
            "_model_name": "HTMLModel",
            "_view_count": null,
            "_view_module": "@jupyter-widgets/controls",
            "_view_module_version": "1.5.0",
            "_view_name": "HTMLView",
            "description": "",
            "description_tooltip": null,
            "layout": "IPY_MODEL_760d386ac3b343e98c2f9ae32f76f919",
            "placeholder": "​",
            "style": "IPY_MODEL_5e434790957d4975844b996736b629d5",
            "value": "100%"
          }
        },
        "bacb5618ece341a9a8cfe83c45d25a2c": {
          "model_module": "@jupyter-widgets/controls",
          "model_name": "FloatProgressModel",
          "model_module_version": "1.5.0",
          "state": {
            "_dom_classes": [],
            "_model_module": "@jupyter-widgets/controls",
            "_model_module_version": "1.5.0",
            "_model_name": "FloatProgressModel",
            "_view_count": null,
            "_view_module": "@jupyter-widgets/controls",
            "_view_module_version": "1.5.0",
            "_view_name": "ProgressView",
            "bar_style": "success",
            "description": "",
            "description_tooltip": null,
            "layout": "IPY_MODEL_cd9615263aea437cb80b786e55c5337a",
            "max": 2483,
            "min": 0,
            "orientation": "horizontal",
            "style": "IPY_MODEL_52e3b85bd06446cdadc3d46525844b79",
            "value": 2483
          }
        },
        "b470d4bafc9a4b4bb3960e27b6715cbd": {
          "model_module": "@jupyter-widgets/controls",
          "model_name": "HTMLModel",
          "model_module_version": "1.5.0",
          "state": {
            "_dom_classes": [],
            "_model_module": "@jupyter-widgets/controls",
            "_model_module_version": "1.5.0",
            "_model_name": "HTMLModel",
            "_view_count": null,
            "_view_module": "@jupyter-widgets/controls",
            "_view_module_version": "1.5.0",
            "_view_name": "HTMLView",
            "description": "",
            "description_tooltip": null,
            "layout": "IPY_MODEL_76cf847499094797a77066d7a8413930",
            "placeholder": "​",
            "style": "IPY_MODEL_9da18f4989f149f8ad8d172eb8b15f8e",
            "value": " 2483/2483 [00:16&lt;00:00, 170.59it/s]"
          }
        },
        "ad0d284aee5f44aebadd1653adee23b7": {
          "model_module": "@jupyter-widgets/base",
          "model_name": "LayoutModel",
          "model_module_version": "1.2.0",
          "state": {
            "_model_module": "@jupyter-widgets/base",
            "_model_module_version": "1.2.0",
            "_model_name": "LayoutModel",
            "_view_count": null,
            "_view_module": "@jupyter-widgets/base",
            "_view_module_version": "1.2.0",
            "_view_name": "LayoutView",
            "align_content": null,
            "align_items": null,
            "align_self": null,
            "border": null,
            "bottom": null,
            "display": null,
            "flex": null,
            "flex_flow": null,
            "grid_area": null,
            "grid_auto_columns": null,
            "grid_auto_flow": null,
            "grid_auto_rows": null,
            "grid_column": null,
            "grid_gap": null,
            "grid_row": null,
            "grid_template_areas": null,
            "grid_template_columns": null,
            "grid_template_rows": null,
            "height": null,
            "justify_content": null,
            "justify_items": null,
            "left": null,
            "margin": null,
            "max_height": null,
            "max_width": null,
            "min_height": null,
            "min_width": null,
            "object_fit": null,
            "object_position": null,
            "order": null,
            "overflow": null,
            "overflow_x": null,
            "overflow_y": null,
            "padding": null,
            "right": null,
            "top": null,
            "visibility": null,
            "width": null
          }
        },
        "760d386ac3b343e98c2f9ae32f76f919": {
          "model_module": "@jupyter-widgets/base",
          "model_name": "LayoutModel",
          "model_module_version": "1.2.0",
          "state": {
            "_model_module": "@jupyter-widgets/base",
            "_model_module_version": "1.2.0",
            "_model_name": "LayoutModel",
            "_view_count": null,
            "_view_module": "@jupyter-widgets/base",
            "_view_module_version": "1.2.0",
            "_view_name": "LayoutView",
            "align_content": null,
            "align_items": null,
            "align_self": null,
            "border": null,
            "bottom": null,
            "display": null,
            "flex": null,
            "flex_flow": null,
            "grid_area": null,
            "grid_auto_columns": null,
            "grid_auto_flow": null,
            "grid_auto_rows": null,
            "grid_column": null,
            "grid_gap": null,
            "grid_row": null,
            "grid_template_areas": null,
            "grid_template_columns": null,
            "grid_template_rows": null,
            "height": null,
            "justify_content": null,
            "justify_items": null,
            "left": null,
            "margin": null,
            "max_height": null,
            "max_width": null,
            "min_height": null,
            "min_width": null,
            "object_fit": null,
            "object_position": null,
            "order": null,
            "overflow": null,
            "overflow_x": null,
            "overflow_y": null,
            "padding": null,
            "right": null,
            "top": null,
            "visibility": null,
            "width": null
          }
        },
        "5e434790957d4975844b996736b629d5": {
          "model_module": "@jupyter-widgets/controls",
          "model_name": "DescriptionStyleModel",
          "model_module_version": "1.5.0",
          "state": {
            "_model_module": "@jupyter-widgets/controls",
            "_model_module_version": "1.5.0",
            "_model_name": "DescriptionStyleModel",
            "_view_count": null,
            "_view_module": "@jupyter-widgets/base",
            "_view_module_version": "1.2.0",
            "_view_name": "StyleView",
            "description_width": ""
          }
        },
        "cd9615263aea437cb80b786e55c5337a": {
          "model_module": "@jupyter-widgets/base",
          "model_name": "LayoutModel",
          "model_module_version": "1.2.0",
          "state": {
            "_model_module": "@jupyter-widgets/base",
            "_model_module_version": "1.2.0",
            "_model_name": "LayoutModel",
            "_view_count": null,
            "_view_module": "@jupyter-widgets/base",
            "_view_module_version": "1.2.0",
            "_view_name": "LayoutView",
            "align_content": null,
            "align_items": null,
            "align_self": null,
            "border": null,
            "bottom": null,
            "display": null,
            "flex": null,
            "flex_flow": null,
            "grid_area": null,
            "grid_auto_columns": null,
            "grid_auto_flow": null,
            "grid_auto_rows": null,
            "grid_column": null,
            "grid_gap": null,
            "grid_row": null,
            "grid_template_areas": null,
            "grid_template_columns": null,
            "grid_template_rows": null,
            "height": null,
            "justify_content": null,
            "justify_items": null,
            "left": null,
            "margin": null,
            "max_height": null,
            "max_width": null,
            "min_height": null,
            "min_width": null,
            "object_fit": null,
            "object_position": null,
            "order": null,
            "overflow": null,
            "overflow_x": null,
            "overflow_y": null,
            "padding": null,
            "right": null,
            "top": null,
            "visibility": null,
            "width": null
          }
        },
        "52e3b85bd06446cdadc3d46525844b79": {
          "model_module": "@jupyter-widgets/controls",
          "model_name": "ProgressStyleModel",
          "model_module_version": "1.5.0",
          "state": {
            "_model_module": "@jupyter-widgets/controls",
            "_model_module_version": "1.5.0",
            "_model_name": "ProgressStyleModel",
            "_view_count": null,
            "_view_module": "@jupyter-widgets/base",
            "_view_module_version": "1.2.0",
            "_view_name": "StyleView",
            "bar_color": null,
            "description_width": ""
          }
        },
        "76cf847499094797a77066d7a8413930": {
          "model_module": "@jupyter-widgets/base",
          "model_name": "LayoutModel",
          "model_module_version": "1.2.0",
          "state": {
            "_model_module": "@jupyter-widgets/base",
            "_model_module_version": "1.2.0",
            "_model_name": "LayoutModel",
            "_view_count": null,
            "_view_module": "@jupyter-widgets/base",
            "_view_module_version": "1.2.0",
            "_view_name": "LayoutView",
            "align_content": null,
            "align_items": null,
            "align_self": null,
            "border": null,
            "bottom": null,
            "display": null,
            "flex": null,
            "flex_flow": null,
            "grid_area": null,
            "grid_auto_columns": null,
            "grid_auto_flow": null,
            "grid_auto_rows": null,
            "grid_column": null,
            "grid_gap": null,
            "grid_row": null,
            "grid_template_areas": null,
            "grid_template_columns": null,
            "grid_template_rows": null,
            "height": null,
            "justify_content": null,
            "justify_items": null,
            "left": null,
            "margin": null,
            "max_height": null,
            "max_width": null,
            "min_height": null,
            "min_width": null,
            "object_fit": null,
            "object_position": null,
            "order": null,
            "overflow": null,
            "overflow_x": null,
            "overflow_y": null,
            "padding": null,
            "right": null,
            "top": null,
            "visibility": null,
            "width": null
          }
        },
        "9da18f4989f149f8ad8d172eb8b15f8e": {
          "model_module": "@jupyter-widgets/controls",
          "model_name": "DescriptionStyleModel",
          "model_module_version": "1.5.0",
          "state": {
            "_model_module": "@jupyter-widgets/controls",
            "_model_module_version": "1.5.0",
            "_model_name": "DescriptionStyleModel",
            "_view_count": null,
            "_view_module": "@jupyter-widgets/base",
            "_view_module_version": "1.2.0",
            "_view_name": "StyleView",
            "description_width": ""
          }
        }
      }
    }
  },
  "nbformat": 4,
  "nbformat_minor": 0
}