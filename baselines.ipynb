{
 "cells": [
  {
   "cell_type": "markdown",
   "metadata": {},
   "source": [
    "В этом блокноте рассмотрены бейзлайны Top popular и Top Personal"
   ]
  },
  {
   "cell_type": "code",
   "execution_count": 4,
   "metadata": {
    "colab": {
     "base_uri": "https://localhost:8080/"
    },
    "id": "wqQ1cZFTfO8y",
    "outputId": "92d5d1dc-f4a1-452d-9f52-ff216be11597"
   },
   "outputs": [
    {
     "name": "stdout",
     "output_type": "stream",
     "text": [
      "Drive already mounted at /content/drive; to attempt to forcibly remount, call drive.mount(\"/content/drive\", force_remount=True).\n"
     ]
    }
   ],
   "source": [
    "from google.colab import drive\n",
    "drive.mount('/content/drive')\n",
    "\n",
    "#%cd /content/drive/MyDrive/recsys"
   ]
  },
  {
   "cell_type": "code",
   "execution_count": 5,
   "metadata": {
    "colab": {
     "base_uri": "https://localhost:8080/"
    },
    "id": "wD83LFYuvpNF",
    "outputId": "4d48d85f-3896-4f4f-c27b-6c1692f3e9d3"
   },
   "outputs": [
    {
     "name": "stdout",
     "output_type": "stream",
     "text": [
      "checkpoints  metrics.py  __pycache__\t      recanet_model.py\n",
      "data\t     preprocess  recanet_datasets.py\n"
     ]
    }
   ],
   "source": [
    "import os\n",
    "os.chdir(\"/content/drive/MyDrive/recsys\")\n",
    "!ls"
   ]
  },
  {
   "cell_type": "code",
   "execution_count": 11,
   "metadata": {
    "id": "YNLRyVlKe9k8"
   },
   "outputs": [],
   "source": [
    "import matplotlib.pyplot as plt\n",
    "import seaborn as sns\n",
    "sns.set(style='darkgrid', font_scale=1.2)\n",
    "\n",
    "from IPython.display import clear_output\n",
    "%matplotlib inline\n",
    "\n",
    "import pandas as pd\n",
    "import plotly.express as px\n",
    "import numpy as np\n",
    "from tqdm import tqdm\n",
    "\n",
    "tqdm.pandas()\n",
    "\n",
    "from sklearn.metrics import accuracy_score, roc_auc_score\n",
    "\n",
    "from metrics import recall_k,precision_k, hitrate_k, ndcg_k, repeat_score_item, repeat_score_user\n",
    "from recanet.recanet_datasets import PreDataset, RCNDataset, DeviceDataLoader\n",
    "\n",
    "from metrics import recall_k, ndcg_k, repeat_score_item, repeat_score_user\n",
    "from boosting.create_dataset import Dataset\n"
   ]
  },
  {
   "cell_type": "code",
   "execution_count": 6,
   "metadata": {},
   "outputs": [],
   "source": [
    "def top_pop(train, test_users):\n",
    "    result = {}\n",
    "    top_popular = train.item_id.value_counts().index.tolist()\n",
    "    train = train.sort_values(by='date')\n",
    "    for user in tqdm(test_users):\n",
    "        result[user] = top_popular\n",
    "        \n",
    "    return result"
   ]
  },
  {
   "cell_type": "code",
   "execution_count": 7,
   "metadata": {},
   "outputs": [],
   "source": [
    "def top_person(train, test_users):\n",
    "    result = {}\n",
    "    train = train.sort_values(by='date')\n",
    "    \n",
    "    for user in tqdm(test_users):\n",
    "        items = train[train.user_id==user]\n",
    "        top_personal = items.item_id.value_counts().index.tolist()\n",
    "        result[user] = top_personal\n",
    "        \n",
    "    return result"
   ]
  },
  {
   "cell_type": "code",
   "execution_count": 8,
   "metadata": {},
   "outputs": [],
   "source": [
    "def calculate_metrics(path_test, test_users, res):\n",
    "    test_baskets = pd.read_csv(path_test)\n",
    "    user_test_baskets_df = test_baskets.groupby('user_id')['item_id'].apply(list).reset_index()\n",
    "    user_test_baskets_dict = dict(zip(user_test_baskets_df['user_id'],user_test_baskets_df['item_id']))\n",
    "\n",
    "    user_predictions = res\n",
    "    final_users = test_users\n",
    "    print('predictions ready',len(user_predictions))\n",
    "    print('number of final test users:',len(final_users))\n",
    "    for k in [5,10,20,'B']:\n",
    "        print(k)\n",
    "        recall_scores = {}\n",
    "        ndcg_scores = {}\n",
    "        precision_scores = {}\n",
    "        hitrate_scores = {}\n",
    "        zero = 0\n",
    "        for user in final_users:\n",
    "\n",
    "            top_items = []\n",
    "            if user in user_predictions:\n",
    "                top_items = user_predictions[user]\n",
    "            else:\n",
    "                zero+=1\n",
    "\n",
    "            if k == 'B':\n",
    "                recall_scores[user] = recall_k(user_test_baskets_dict[user],top_items,len(user_test_baskets_dict[user]))\n",
    "                ndcg_scores[user] = ndcg_k(user_test_baskets_dict[user],top_items,len(user_test_baskets_dict[user]))\n",
    "                precision_scores[user] = precision_k(user_test_baskets_dict[user],top_items,len(user_test_baskets_dict[user]))\n",
    "                hitrate_scores[user] = hitrate_k(user_test_baskets_dict[user],top_items,len(user_test_baskets_dict[user]))\n",
    "            else:\n",
    "                recall_scores[user] = recall_k(user_test_baskets_dict[user],top_items,k)\n",
    "                ndcg_scores[user] = ndcg_k(user_test_baskets_dict[user],top_items,k)\n",
    "                precision_scores[user] = precision_k(user_test_baskets_dict[user],top_items,k)\n",
    "                hitrate_scores[user] = hitrate_k(user_test_baskets_dict[user],top_items,k)\n",
    "        #print(zero)\n",
    "        print('recall:',np.mean(list(recall_scores.values())))\n",
    "        print('ndcg:',np.mean(list(ndcg_scores.values())))\n",
    "        print('precision:',np.mean(list(precision_scores.values())))\n",
    "        print('hitrate:',np.mean(list(hitrate_scores.values())))\n"
   ]
  },
  {
   "cell_type": "markdown",
   "metadata": {
    "id": "gkKFW6see9k9"
   },
   "source": [
    "## Ta-Feng"
   ]
  },
  {
   "cell_type": "code",
   "execution_count": 2,
   "metadata": {
    "id": "lIyfjbQoe9lB"
   },
   "outputs": [],
   "source": [
    "dataset_name = 'tafeng'"
   ]
  },
  {
   "cell_type": "code",
   "execution_count": 5,
   "metadata": {
    "id": "fofSmlgYe9k-"
   },
   "outputs": [],
   "source": [
    "path_train = f'data/{dataset_name}/baskets/train_baskets.csv'\n",
    "path_test = f'data/{dataset_name}/baskets/test_baskets.csv'\n",
    "path_val = f'data/{dataset_name}/baskets/valid_baskets.csv'"
   ]
  },
  {
   "cell_type": "code",
   "execution_count": 6,
   "metadata": {
    "colab": {
     "base_uri": "https://localhost:8080/"
    },
    "id": "71Pf5N5He9lA",
    "outputId": "393eed6c-acbc-45b2-c41b-129d50fef29b"
   },
   "outputs": [
    {
     "name": "stdout",
     "output_type": "stream",
     "text": [
      "Total users: 10205\n",
      "Total items: 13521\n"
     ]
    }
   ],
   "source": [
    "dataset = Dataset(path_train,path_val, path_test, dataset=dataset_name, history_len=50, basket_len=20)"
   ]
  },
  {
   "cell_type": "code",
   "execution_count": 7,
   "metadata": {
    "id": "KCtT1hAbORv4"
   },
   "outputs": [],
   "source": [
    "train = pd.read_csv(path_train)\n",
    "test = dataset.test_cleaned\n",
    "test_users = np.intersect1d(train.user_id.unique(), test.user_id.unique(), assume_unique=True)"
   ]
  },
  {
   "cell_type": "code",
   "execution_count": 21,
   "metadata": {},
   "outputs": [
    {
     "data": {
      "text/plain": [
       "5007"
      ]
     },
     "execution_count": 21,
     "metadata": {},
     "output_type": "execute_result"
    }
   ],
   "source": [
    "len(test_users)"
   ]
  },
  {
   "cell_type": "markdown",
   "metadata": {},
   "source": [
    "### Top popular"
   ]
  },
  {
   "cell_type": "code",
   "execution_count": 23,
   "metadata": {
    "colab": {
     "base_uri": "https://localhost:8080/",
     "height": 49,
     "referenced_widgets": [
      "0b76afb6548f48ef8b4247317c5f81c5",
      "7d5134492c394ee8beb05ada6f48a23b",
      "bacb5618ece341a9a8cfe83c45d25a2c",
      "b470d4bafc9a4b4bb3960e27b6715cbd",
      "ad0d284aee5f44aebadd1653adee23b7",
      "760d386ac3b343e98c2f9ae32f76f919",
      "5e434790957d4975844b996736b629d5",
      "cd9615263aea437cb80b786e55c5337a",
      "52e3b85bd06446cdadc3d46525844b79",
      "76cf847499094797a77066d7a8413930",
      "9da18f4989f149f8ad8d172eb8b15f8e"
     ]
    },
    "id": "5onBygmOOC96",
    "outputId": "c2671ac1-2ec6-408c-961a-ce91f3a101f3"
   },
   "outputs": [
    {
     "name": "stderr",
     "output_type": "stream",
     "text": [
      "100%|██████████████████████████████████| 5007/5007 [00:00<00:00, 2671867.70it/s]\n"
     ]
    }
   ],
   "source": [
    "res = top_pop(train, test_users)"
   ]
  },
  {
   "cell_type": "code",
   "execution_count": 27,
   "metadata": {},
   "outputs": [
    {
     "name": "stdout",
     "output_type": "stream",
     "text": [
      "predictions ready 5007\n",
      "number of final test users: 5007\n",
      "5\n",
      "recall: 0.06932809448375854\n",
      "ndcg: 0.0667396039248835\n",
      "precision: 0.04801278210505293\n",
      "hitrate: 0.21070501298182545\n",
      "10\n",
      "recall: 0.0803614198488835\n",
      "ndcg: 0.048200582947222036\n",
      "precision: 0.03089674455761933\n",
      "hitrate: 0.2590373477132015\n",
      "20\n",
      "recall: 0.1085616074831435\n",
      "ndcg: 0.03521215691537222\n",
      "precision: 0.0213600958657879\n",
      "hitrate: 0.3373277411623727\n",
      "B\n",
      "recall: 0.06523485242251235\n",
      "ndcg: 0.07956851264869756\n",
      "precision: 0.06523485242251235\n",
      "hitrate: 0.24405831835430397\n"
     ]
    }
   ],
   "source": [
    "calculate_metrics(path_test, test_users, res)"
   ]
  },
  {
   "cell_type": "markdown",
   "metadata": {},
   "source": [
    "### Top personal"
   ]
  },
  {
   "cell_type": "code",
   "execution_count": 32,
   "metadata": {},
   "outputs": [
    {
     "name": "stderr",
     "output_type": "stream",
     "text": [
      "100%|█████████████████████████████████████| 5007/5007 [00:02<00:00, 2304.18it/s]\n"
     ]
    }
   ],
   "source": [
    "res = top_person(train, test_users)"
   ]
  },
  {
   "cell_type": "code",
   "execution_count": 33,
   "metadata": {
    "scrolled": true
   },
   "outputs": [
    {
     "name": "stdout",
     "output_type": "stream",
     "text": [
      "predictions ready 5007\n",
      "number of final test users: 5007\n",
      "5\n",
      "recall: 0.07940832980618531\n",
      "ndcg: 0.08502510232554195\n",
      "precision: 0.074415817855003\n",
      "hitrate: 0.28080687038146596\n",
      "10\n",
      "recall: 0.10956279446942792\n",
      "ndcg: 0.06727576025325029\n",
      "precision: 0.05430397443578989\n",
      "hitrate: 0.3664869183143599\n",
      "20\n",
      "recall: 0.14488960390695454\n",
      "ndcg: 0.05115722617325702\n",
      "precision: 0.03800679049330937\n",
      "hitrate: 0.4519672458558019\n",
      "B\n",
      "recall: 0.06954457276485522\n",
      "ndcg: 0.07992055958958502\n",
      "precision: 0.06954457276485522\n",
      "hitrate: 0.30197723187537445\n"
     ]
    }
   ],
   "source": [
    "calculate_metrics(path_test, test_users, res)"
   ]
  },
  {
   "cell_type": "markdown",
   "metadata": {},
   "source": [
    "## Dunnhumby"
   ]
  },
  {
   "cell_type": "code",
   "execution_count": 34,
   "metadata": {
    "id": "lIyfjbQoe9lB"
   },
   "outputs": [],
   "source": [
    "dataset_name = 'dunnhumby_cj'"
   ]
  },
  {
   "cell_type": "code",
   "execution_count": 35,
   "metadata": {
    "id": "fofSmlgYe9k-"
   },
   "outputs": [],
   "source": [
    "path_train = f'data/{dataset_name}/baskets/train_baskets.csv'\n",
    "path_test = f'data/{dataset_name}/baskets/test_baskets.csv'\n",
    "path_val = f'data/{dataset_name}/baskets/valid_baskets.csv'"
   ]
  },
  {
   "cell_type": "code",
   "execution_count": 36,
   "metadata": {
    "colab": {
     "base_uri": "https://localhost:8080/"
    },
    "id": "71Pf5N5He9lA",
    "outputId": "393eed6c-acbc-45b2-c41b-129d50fef29b"
   },
   "outputs": [
    {
     "name": "stdout",
     "output_type": "stream",
     "text": [
      "Total users: 2483\n",
      "Total items: 36963\n"
     ]
    }
   ],
   "source": [
    "dataset = Dataset(path_train,path_val, path_test, dataset=dataset_name, history_len=50, basket_len=20)"
   ]
  },
  {
   "cell_type": "code",
   "execution_count": 37,
   "metadata": {
    "id": "KCtT1hAbORv4"
   },
   "outputs": [],
   "source": [
    "train = pd.read_csv(path_train)\n",
    "test = dataset.test_cleaned\n",
    "test_users = np.intersect1d(train.user_id.unique(), test.user_id.unique(), assume_unique=True)"
   ]
  },
  {
   "cell_type": "code",
   "execution_count": 38,
   "metadata": {},
   "outputs": [
    {
     "data": {
      "text/plain": [
       "1224"
      ]
     },
     "execution_count": 38,
     "metadata": {},
     "output_type": "execute_result"
    }
   ],
   "source": [
    "len(test_users)"
   ]
  },
  {
   "cell_type": "markdown",
   "metadata": {},
   "source": [
    "### Top popular"
   ]
  },
  {
   "cell_type": "code",
   "execution_count": 39,
   "metadata": {
    "colab": {
     "base_uri": "https://localhost:8080/",
     "height": 49,
     "referenced_widgets": [
      "0b76afb6548f48ef8b4247317c5f81c5",
      "7d5134492c394ee8beb05ada6f48a23b",
      "bacb5618ece341a9a8cfe83c45d25a2c",
      "b470d4bafc9a4b4bb3960e27b6715cbd",
      "ad0d284aee5f44aebadd1653adee23b7",
      "760d386ac3b343e98c2f9ae32f76f919",
      "5e434790957d4975844b996736b629d5",
      "cd9615263aea437cb80b786e55c5337a",
      "52e3b85bd06446cdadc3d46525844b79",
      "76cf847499094797a77066d7a8413930",
      "9da18f4989f149f8ad8d172eb8b15f8e"
     ]
    },
    "id": "5onBygmOOC96",
    "outputId": "c2671ac1-2ec6-408c-961a-ce91f3a101f3"
   },
   "outputs": [
    {
     "name": "stderr",
     "output_type": "stream",
     "text": [
      "100%|██████████████████████████████████| 1224/1224 [00:00<00:00, 1101679.85it/s]\n"
     ]
    }
   ],
   "source": [
    "res = top_pop(train, test_users)"
   ]
  },
  {
   "cell_type": "code",
   "execution_count": 40,
   "metadata": {},
   "outputs": [
    {
     "name": "stdout",
     "output_type": "stream",
     "text": [
      "predictions ready 1224\n",
      "number of final test users: 1224\n",
      "5\n",
      "recall: 0.060090665960795396\n",
      "ndcg: 0.0819196487859568\n",
      "precision: 0.06911764705882352\n",
      "hitrate: 0.29820261437908496\n",
      "10\n",
      "recall: 0.07076300894973854\n",
      "ndcg: 0.06448491548320197\n",
      "precision: 0.050490196078431374\n",
      "hitrate: 0.3570261437908497\n",
      "20\n",
      "recall: 0.0855431706906435\n",
      "ndcg: 0.04833435173703284\n",
      "precision: 0.03480392156862745\n",
      "hitrate: 0.4125816993464052\n",
      "B\n",
      "recall: 0.039262437175654884\n",
      "ndcg: 0.049106318996629456\n",
      "precision: 0.039262437175654884\n",
      "hitrate: 0.3423202614379085\n"
     ]
    }
   ],
   "source": [
    "calculate_metrics(path_test, test_users, res)"
   ]
  },
  {
   "cell_type": "markdown",
   "metadata": {},
   "source": [
    "### Top personal"
   ]
  },
  {
   "cell_type": "code",
   "execution_count": 41,
   "metadata": {},
   "outputs": [
    {
     "name": "stderr",
     "output_type": "stream",
     "text": [
      "100%|██████████████████████████████████████| 1224/1224 [00:01<00:00, 941.93it/s]\n"
     ]
    }
   ],
   "source": [
    "res = top_person(train, test_users)"
   ]
  },
  {
   "cell_type": "code",
   "execution_count": 42,
   "metadata": {
    "scrolled": true
   },
   "outputs": [
    {
     "name": "stdout",
     "output_type": "stream",
     "text": [
      "predictions ready 1224\n",
      "number of final test users: 1224\n",
      "5\n",
      "recall: 0.104969895297816\n",
      "ndcg: 0.16588679158121175\n",
      "precision: 0.1511437908496732\n",
      "hitrate: 0.4452614379084967\n",
      "10\n",
      "recall: 0.14269457018949996\n",
      "ndcg: 0.13607489247793672\n",
      "precision: 0.11576797385620914\n",
      "hitrate: 0.5277777777777778\n",
      "20\n",
      "recall: 0.193195193095419\n",
      "ndcg: 0.10746619376850698\n",
      "precision: 0.08553921568627451\n",
      "hitrate: 0.6053921568627451\n",
      "B\n",
      "recall: 0.11237609816445047\n",
      "ndcg: 0.12998199117086634\n",
      "precision: 0.11237609816445047\n",
      "hitrate: 0.4795751633986928\n"
     ]
    }
   ],
   "source": [
    "calculate_metrics(path_test, test_users, res)"
   ]
  },
  {
   "cell_type": "markdown",
   "metadata": {},
   "source": [
    "## Instacart"
   ]
  },
  {
   "cell_type": "code",
   "execution_count": 43,
   "metadata": {
    "id": "lIyfjbQoe9lB"
   },
   "outputs": [],
   "source": [
    "dataset_name = 'instacart'"
   ]
  },
  {
   "cell_type": "code",
   "execution_count": 44,
   "metadata": {
    "id": "fofSmlgYe9k-"
   },
   "outputs": [],
   "source": [
    "path_train = f'data/{dataset_name}/baskets/train_baskets_sample30k.csv'\n",
    "path_test = f'data/{dataset_name}/baskets/test_baskets_sample30k.csv'\n",
    "path_val = f'data/{dataset_name}/baskets/valid_baskets_sample30k.csv'"
   ]
  },
  {
   "cell_type": "code",
   "execution_count": 45,
   "metadata": {
    "colab": {
     "base_uri": "https://localhost:8080/"
    },
    "id": "71Pf5N5He9lA",
    "outputId": "393eed6c-acbc-45b2-c41b-129d50fef29b"
   },
   "outputs": [
    {
     "name": "stdout",
     "output_type": "stream",
     "text": [
      "Total users: 26828\n",
      "Total items: 29396\n"
     ]
    }
   ],
   "source": [
    "dataset = Dataset(path_train,path_val, path_test, dataset=dataset_name, history_len=50, basket_len=20)"
   ]
  },
  {
   "cell_type": "code",
   "execution_count": 46,
   "metadata": {
    "id": "KCtT1hAbORv4"
   },
   "outputs": [],
   "source": [
    "train = pd.read_csv(path_train)\n",
    "test = dataset.test_cleaned\n",
    "test_users = np.intersect1d(train.user_id.unique(), test.user_id.unique(), assume_unique=True)"
   ]
  },
  {
   "cell_type": "code",
   "execution_count": 47,
   "metadata": {},
   "outputs": [
    {
     "data": {
      "text/plain": [
       "13246"
      ]
     },
     "execution_count": 47,
     "metadata": {},
     "output_type": "execute_result"
    }
   ],
   "source": [
    "len(test_users)"
   ]
  },
  {
   "cell_type": "markdown",
   "metadata": {},
   "source": [
    "### Top popular"
   ]
  },
  {
   "cell_type": "code",
   "execution_count": 48,
   "metadata": {
    "colab": {
     "base_uri": "https://localhost:8080/",
     "height": 49,
     "referenced_widgets": [
      "0b76afb6548f48ef8b4247317c5f81c5",
      "7d5134492c394ee8beb05ada6f48a23b",
      "bacb5618ece341a9a8cfe83c45d25a2c",
      "b470d4bafc9a4b4bb3960e27b6715cbd",
      "ad0d284aee5f44aebadd1653adee23b7",
      "760d386ac3b343e98c2f9ae32f76f919",
      "5e434790957d4975844b996736b629d5",
      "cd9615263aea437cb80b786e55c5337a",
      "52e3b85bd06446cdadc3d46525844b79",
      "76cf847499094797a77066d7a8413930",
      "9da18f4989f149f8ad8d172eb8b15f8e"
     ]
    },
    "id": "5onBygmOOC96",
    "outputId": "c2671ac1-2ec6-408c-961a-ce91f3a101f3"
   },
   "outputs": [
    {
     "name": "stderr",
     "output_type": "stream",
     "text": [
      "100%|████████████████████████████████| 13246/13246 [00:00<00:00, 3356760.97it/s]\n"
     ]
    }
   ],
   "source": [
    "res = top_pop(train, test_users)"
   ]
  },
  {
   "cell_type": "code",
   "execution_count": 49,
   "metadata": {},
   "outputs": [
    {
     "name": "stdout",
     "output_type": "stream",
     "text": [
      "predictions ready 13246\n",
      "number of final test users: 13246\n",
      "5\n",
      "recall: 0.04543579563427041\n",
      "ndcg: 0.10459920340413938\n",
      "precision: 0.09266193567869546\n",
      "hitrate: 0.35739091046353616\n",
      "10\n",
      "recall: 0.06861499976112148\n",
      "ndcg: 0.08580843786066904\n",
      "precision: 0.07159897327495093\n",
      "hitrate: 0.4540238562584931\n",
      "20\n",
      "recall: 0.09356497021115388\n",
      "ndcg: 0.06590336719775221\n",
      "precision: 0.050502038351200366\n",
      "hitrate: 0.519477578136796\n",
      "B\n",
      "recall: 0.06607454036120189\n",
      "ndcg: 0.08003729875231046\n",
      "precision: 0.06607454036120189\n",
      "hitrate: 0.4441340782122905\n"
     ]
    }
   ],
   "source": [
    "calculate_metrics(path_test, test_users, res)"
   ]
  },
  {
   "cell_type": "markdown",
   "metadata": {},
   "source": [
    "### Top personal"
   ]
  },
  {
   "cell_type": "code",
   "execution_count": 50,
   "metadata": {},
   "outputs": [
    {
     "name": "stderr",
     "output_type": "stream",
     "text": [
      "100%|████████████████████████████████████| 13246/13246 [00:20<00:00, 638.28it/s]\n"
     ]
    }
   ],
   "source": [
    "res = top_person(train, test_users)"
   ]
  },
  {
   "cell_type": "code",
   "execution_count": 51,
   "metadata": {
    "scrolled": false
   },
   "outputs": [
    {
     "name": "stdout",
     "output_type": "stream",
     "text": [
      "predictions ready 13246\n",
      "number of final test users: 13246\n",
      "5\n",
      "recall: 0.2270130757728264\n",
      "ndcg: 0.3757888373781584\n",
      "precision: 0.3456288690925563\n",
      "hitrate: 0.7750264230711158\n",
      "10\n",
      "recall: 0.32444535083048615\n",
      "ndcg: 0.312163263463353\n",
      "precision: 0.2693341386078816\n",
      "hitrate: 0.8536161860184207\n",
      "20\n",
      "recall: 0.43183688965264927\n",
      "ndcg: 0.24446158401490178\n",
      "precision: 0.19468141325683225\n",
      "hitrate: 0.9008002415823645\n",
      "B\n",
      "recall: 0.29032154701391005\n",
      "ndcg: 0.32896974413950153\n",
      "precision: 0.29032154701391005\n",
      "hitrate: 0.7922391665408425\n"
     ]
    }
   ],
   "source": [
    "calculate_metrics(path_test, test_users, res)"
   ]
  },
  {
   "cell_type": "markdown",
   "metadata": {},
   "source": [
    "# Valued shoppers"
   ]
  },
  {
   "cell_type": "code",
   "execution_count": 2,
   "metadata": {
    "id": "lIyfjbQoe9lB"
   },
   "outputs": [],
   "source": [
    "dataset_name = 'valued_shoppers'"
   ]
  },
  {
   "cell_type": "code",
   "execution_count": 14,
   "metadata": {
    "id": "fofSmlgYe9k-"
   },
   "outputs": [],
   "source": [
    "path_train = f'data/{dataset_name}/baskets/train_baskets.csv'\n",
    "path_test = f'data/{dataset_name}/baskets/test_baskets.csv'\n",
    "path_val = f'data/{dataset_name}/baskets/valid_baskets.csv'"
   ]
  },
  {
   "cell_type": "code",
   "execution_count": 15,
   "metadata": {
    "colab": {
     "base_uri": "https://localhost:8080/"
    },
    "id": "71Pf5N5He9lA",
    "outputId": "393eed6c-acbc-45b2-c41b-129d50fef29b"
   },
   "outputs": [
    {
     "name": "stdout",
     "output_type": "stream",
     "text": [
      "Total users: 5865\n",
      "Total items: 12126\n"
     ]
    }
   ],
   "source": [
    "dataset = Dataset(path_train,path_val, path_test, dataset=dataset_name, history_len=50, basket_len=20)"
   ]
  },
  {
   "cell_type": "code",
   "execution_count": 16,
   "metadata": {
    "id": "KCtT1hAbORv4"
   },
   "outputs": [],
   "source": [
    "train = pd.read_csv(path_train)\n",
    "test = dataset.test_cleaned\n",
    "test_users = np.intersect1d(train.user_id.unique(), test.user_id.unique(), assume_unique=True)"
   ]
  },
  {
   "cell_type": "code",
   "execution_count": 17,
   "metadata": {},
   "outputs": [
    {
     "data": {
      "text/plain": [
       "2928"
      ]
     },
     "execution_count": 17,
     "metadata": {},
     "output_type": "execute_result"
    }
   ],
   "source": [
    "len(test_users)"
   ]
  },
  {
   "cell_type": "markdown",
   "metadata": {},
   "source": [
    "### Top popular"
   ]
  },
  {
   "cell_type": "code",
   "execution_count": 18,
   "metadata": {
    "colab": {
     "base_uri": "https://localhost:8080/",
     "height": 49,
     "referenced_widgets": [
      "0b76afb6548f48ef8b4247317c5f81c5",
      "7d5134492c394ee8beb05ada6f48a23b",
      "bacb5618ece341a9a8cfe83c45d25a2c",
      "b470d4bafc9a4b4bb3960e27b6715cbd",
      "ad0d284aee5f44aebadd1653adee23b7",
      "760d386ac3b343e98c2f9ae32f76f919",
      "5e434790957d4975844b996736b629d5",
      "cd9615263aea437cb80b786e55c5337a",
      "52e3b85bd06446cdadc3d46525844b79",
      "76cf847499094797a77066d7a8413930",
      "9da18f4989f149f8ad8d172eb8b15f8e"
     ]
    },
    "id": "5onBygmOOC96",
    "outputId": "c2671ac1-2ec6-408c-961a-ce91f3a101f3"
   },
   "outputs": [
    {
     "name": "stderr",
     "output_type": "stream",
     "text": [
      "100%|█████████████████████████████████████████████████████████████████████████| 2928/2928 [00:00<00:00, 2926119.16it/s]\n"
     ]
    }
   ],
   "source": [
    "res = top_pop(train, test_users)"
   ]
  },
  {
   "cell_type": "code",
   "execution_count": 19,
   "metadata": {},
   "outputs": [
    {
     "name": "stdout",
     "output_type": "stream",
     "text": [
      "predictions ready 2928\n",
      "number of final test users: 2928\n",
      "5\n",
      "recall: 0.05790227545553841\n",
      "ndcg: 0.10761658413367055\n",
      "precision: 0.09637978142076502\n",
      "hitrate: 0.35963114754098363\n",
      "10\n",
      "recall: 0.0816685766972876\n",
      "ndcg: 0.0868473621494549\n",
      "precision: 0.07226775956284154\n",
      "hitrate: 0.4504781420765027\n",
      "20\n",
      "recall: 0.11922624159285719\n",
      "ndcg: 0.06856232518218654\n",
      "precision: 0.053705601092896176\n",
      "hitrate: 0.557035519125683\n",
      "B\n",
      "recall: 0.06946317796936506\n",
      "ndcg: 0.08283653306866574\n",
      "precision: 0.06946317796936506\n",
      "hitrate: 0.42827868852459017\n"
     ]
    }
   ],
   "source": [
    "calculate_metrics(path_test, test_users, res)"
   ]
  },
  {
   "cell_type": "markdown",
   "metadata": {},
   "source": [
    "### Top personal"
   ]
  },
  {
   "cell_type": "code",
   "execution_count": 20,
   "metadata": {},
   "outputs": [
    {
     "name": "stderr",
     "output_type": "stream",
     "text": [
      "100%|█████████████████████████████████████████████████████████████████████████████| 2928/2928 [00:17<00:00, 172.20it/s]\n"
     ]
    }
   ],
   "source": [
    "res = top_person(train, test_users)"
   ]
  },
  {
   "cell_type": "code",
   "execution_count": 21,
   "metadata": {
    "scrolled": false
   },
   "outputs": [
    {
     "name": "stdout",
     "output_type": "stream",
     "text": [
      "predictions ready 2928\n",
      "number of final test users: 2928\n",
      "5\n",
      "recall: 0.14610950543025483\n",
      "ndcg: 0.24567081765768287\n",
      "precision: 0.22349726775956288\n",
      "hitrate: 0.592896174863388\n",
      "10\n",
      "recall: 0.20681950845838382\n",
      "ndcg: 0.2015245278283286\n",
      "precision: 0.17127732240437157\n",
      "hitrate: 0.6844262295081968\n",
      "20\n",
      "recall: 0.2876884628501837\n",
      "ndcg: 0.15964183989263286\n",
      "precision: 0.12699795081967213\n",
      "hitrate: 0.762636612021858\n",
      "B\n",
      "recall: 0.17671229247894704\n",
      "ndcg: 0.2047757553843304\n",
      "precision: 0.17671229247894704\n",
      "hitrate: 0.6092896174863388\n"
     ]
    }
   ],
   "source": [
    "calculate_metrics(path_test, test_users, res)"
   ]
  },
  {
   "cell_type": "code",
   "execution_count": null,
   "metadata": {},
   "outputs": [],
   "source": []
  }
 ],
 "metadata": {
  "colab": {
   "provenance": []
  },
  "gpuClass": "standard",
  "kernelspec": {
   "display_name": "Python 3 (ipykernel)",
   "language": "python",
   "name": "python3"
  },
  "language_info": {
   "codemirror_mode": {
    "name": "ipython",
    "version": 3
   },
   "file_extension": ".py",
   "mimetype": "text/x-python",
   "name": "python",
   "nbconvert_exporter": "python",
   "pygments_lexer": "ipython3",
   "version": "3.9.13"
  },
  "toc": {
   "base_numbering": 1,
   "nav_menu": {},
   "number_sections": true,
   "sideBar": true,
   "skip_h1_title": false,
   "title_cell": "Table of Contents",
   "title_sidebar": "Contents",
   "toc_cell": false,
   "toc_position": {},
   "toc_section_display": true,
   "toc_window_display": false
  },
  "widgets": {
   "application/vnd.jupyter.widget-state+json": {
    "0b76afb6548f48ef8b4247317c5f81c5": {
     "model_module": "@jupyter-widgets/controls",
     "model_module_version": "1.5.0",
     "model_name": "HBoxModel",
     "state": {
      "_dom_classes": [],
      "_model_module": "@jupyter-widgets/controls",
      "_model_module_version": "1.5.0",
      "_model_name": "HBoxModel",
      "_view_count": null,
      "_view_module": "@jupyter-widgets/controls",
      "_view_module_version": "1.5.0",
      "_view_name": "HBoxView",
      "box_style": "",
      "children": [
       "IPY_MODEL_7d5134492c394ee8beb05ada6f48a23b",
       "IPY_MODEL_bacb5618ece341a9a8cfe83c45d25a2c",
       "IPY_MODEL_b470d4bafc9a4b4bb3960e27b6715cbd"
      ],
      "layout": "IPY_MODEL_ad0d284aee5f44aebadd1653adee23b7"
     }
    },
    "52e3b85bd06446cdadc3d46525844b79": {
     "model_module": "@jupyter-widgets/controls",
     "model_module_version": "1.5.0",
     "model_name": "ProgressStyleModel",
     "state": {
      "_model_module": "@jupyter-widgets/controls",
      "_model_module_version": "1.5.0",
      "_model_name": "ProgressStyleModel",
      "_view_count": null,
      "_view_module": "@jupyter-widgets/base",
      "_view_module_version": "1.2.0",
      "_view_name": "StyleView",
      "bar_color": null,
      "description_width": ""
     }
    },
    "5e434790957d4975844b996736b629d5": {
     "model_module": "@jupyter-widgets/controls",
     "model_module_version": "1.5.0",
     "model_name": "DescriptionStyleModel",
     "state": {
      "_model_module": "@jupyter-widgets/controls",
      "_model_module_version": "1.5.0",
      "_model_name": "DescriptionStyleModel",
      "_view_count": null,
      "_view_module": "@jupyter-widgets/base",
      "_view_module_version": "1.2.0",
      "_view_name": "StyleView",
      "description_width": ""
     }
    },
    "760d386ac3b343e98c2f9ae32f76f919": {
     "model_module": "@jupyter-widgets/base",
     "model_module_version": "1.2.0",
     "model_name": "LayoutModel",
     "state": {
      "_model_module": "@jupyter-widgets/base",
      "_model_module_version": "1.2.0",
      "_model_name": "LayoutModel",
      "_view_count": null,
      "_view_module": "@jupyter-widgets/base",
      "_view_module_version": "1.2.0",
      "_view_name": "LayoutView",
      "align_content": null,
      "align_items": null,
      "align_self": null,
      "border": null,
      "bottom": null,
      "display": null,
      "flex": null,
      "flex_flow": null,
      "grid_area": null,
      "grid_auto_columns": null,
      "grid_auto_flow": null,
      "grid_auto_rows": null,
      "grid_column": null,
      "grid_gap": null,
      "grid_row": null,
      "grid_template_areas": null,
      "grid_template_columns": null,
      "grid_template_rows": null,
      "height": null,
      "justify_content": null,
      "justify_items": null,
      "left": null,
      "margin": null,
      "max_height": null,
      "max_width": null,
      "min_height": null,
      "min_width": null,
      "object_fit": null,
      "object_position": null,
      "order": null,
      "overflow": null,
      "overflow_x": null,
      "overflow_y": null,
      "padding": null,
      "right": null,
      "top": null,
      "visibility": null,
      "width": null
     }
    },
    "76cf847499094797a77066d7a8413930": {
     "model_module": "@jupyter-widgets/base",
     "model_module_version": "1.2.0",
     "model_name": "LayoutModel",
     "state": {
      "_model_module": "@jupyter-widgets/base",
      "_model_module_version": "1.2.0",
      "_model_name": "LayoutModel",
      "_view_count": null,
      "_view_module": "@jupyter-widgets/base",
      "_view_module_version": "1.2.0",
      "_view_name": "LayoutView",
      "align_content": null,
      "align_items": null,
      "align_self": null,
      "border": null,
      "bottom": null,
      "display": null,
      "flex": null,
      "flex_flow": null,
      "grid_area": null,
      "grid_auto_columns": null,
      "grid_auto_flow": null,
      "grid_auto_rows": null,
      "grid_column": null,
      "grid_gap": null,
      "grid_row": null,
      "grid_template_areas": null,
      "grid_template_columns": null,
      "grid_template_rows": null,
      "height": null,
      "justify_content": null,
      "justify_items": null,
      "left": null,
      "margin": null,
      "max_height": null,
      "max_width": null,
      "min_height": null,
      "min_width": null,
      "object_fit": null,
      "object_position": null,
      "order": null,
      "overflow": null,
      "overflow_x": null,
      "overflow_y": null,
      "padding": null,
      "right": null,
      "top": null,
      "visibility": null,
      "width": null
     }
    },
    "7d5134492c394ee8beb05ada6f48a23b": {
     "model_module": "@jupyter-widgets/controls",
     "model_module_version": "1.5.0",
     "model_name": "HTMLModel",
     "state": {
      "_dom_classes": [],
      "_model_module": "@jupyter-widgets/controls",
      "_model_module_version": "1.5.0",
      "_model_name": "HTMLModel",
      "_view_count": null,
      "_view_module": "@jupyter-widgets/controls",
      "_view_module_version": "1.5.0",
      "_view_name": "HTMLView",
      "description": "",
      "description_tooltip": null,
      "layout": "IPY_MODEL_760d386ac3b343e98c2f9ae32f76f919",
      "placeholder": "​",
      "style": "IPY_MODEL_5e434790957d4975844b996736b629d5",
      "value": "100%"
     }
    },
    "9da18f4989f149f8ad8d172eb8b15f8e": {
     "model_module": "@jupyter-widgets/controls",
     "model_module_version": "1.5.0",
     "model_name": "DescriptionStyleModel",
     "state": {
      "_model_module": "@jupyter-widgets/controls",
      "_model_module_version": "1.5.0",
      "_model_name": "DescriptionStyleModel",
      "_view_count": null,
      "_view_module": "@jupyter-widgets/base",
      "_view_module_version": "1.2.0",
      "_view_name": "StyleView",
      "description_width": ""
     }
    },
    "ad0d284aee5f44aebadd1653adee23b7": {
     "model_module": "@jupyter-widgets/base",
     "model_module_version": "1.2.0",
     "model_name": "LayoutModel",
     "state": {
      "_model_module": "@jupyter-widgets/base",
      "_model_module_version": "1.2.0",
      "_model_name": "LayoutModel",
      "_view_count": null,
      "_view_module": "@jupyter-widgets/base",
      "_view_module_version": "1.2.0",
      "_view_name": "LayoutView",
      "align_content": null,
      "align_items": null,
      "align_self": null,
      "border": null,
      "bottom": null,
      "display": null,
      "flex": null,
      "flex_flow": null,
      "grid_area": null,
      "grid_auto_columns": null,
      "grid_auto_flow": null,
      "grid_auto_rows": null,
      "grid_column": null,
      "grid_gap": null,
      "grid_row": null,
      "grid_template_areas": null,
      "grid_template_columns": null,
      "grid_template_rows": null,
      "height": null,
      "justify_content": null,
      "justify_items": null,
      "left": null,
      "margin": null,
      "max_height": null,
      "max_width": null,
      "min_height": null,
      "min_width": null,
      "object_fit": null,
      "object_position": null,
      "order": null,
      "overflow": null,
      "overflow_x": null,
      "overflow_y": null,
      "padding": null,
      "right": null,
      "top": null,
      "visibility": null,
      "width": null
     }
    },
    "b470d4bafc9a4b4bb3960e27b6715cbd": {
     "model_module": "@jupyter-widgets/controls",
     "model_module_version": "1.5.0",
     "model_name": "HTMLModel",
     "state": {
      "_dom_classes": [],
      "_model_module": "@jupyter-widgets/controls",
      "_model_module_version": "1.5.0",
      "_model_name": "HTMLModel",
      "_view_count": null,
      "_view_module": "@jupyter-widgets/controls",
      "_view_module_version": "1.5.0",
      "_view_name": "HTMLView",
      "description": "",
      "description_tooltip": null,
      "layout": "IPY_MODEL_76cf847499094797a77066d7a8413930",
      "placeholder": "​",
      "style": "IPY_MODEL_9da18f4989f149f8ad8d172eb8b15f8e",
      "value": " 2483/2483 [00:16&lt;00:00, 170.59it/s]"
     }
    },
    "bacb5618ece341a9a8cfe83c45d25a2c": {
     "model_module": "@jupyter-widgets/controls",
     "model_module_version": "1.5.0",
     "model_name": "FloatProgressModel",
     "state": {
      "_dom_classes": [],
      "_model_module": "@jupyter-widgets/controls",
      "_model_module_version": "1.5.0",
      "_model_name": "FloatProgressModel",
      "_view_count": null,
      "_view_module": "@jupyter-widgets/controls",
      "_view_module_version": "1.5.0",
      "_view_name": "ProgressView",
      "bar_style": "success",
      "description": "",
      "description_tooltip": null,
      "layout": "IPY_MODEL_cd9615263aea437cb80b786e55c5337a",
      "max": 2483,
      "min": 0,
      "orientation": "horizontal",
      "style": "IPY_MODEL_52e3b85bd06446cdadc3d46525844b79",
      "value": 2483
     }
    },
    "cd9615263aea437cb80b786e55c5337a": {
     "model_module": "@jupyter-widgets/base",
     "model_module_version": "1.2.0",
     "model_name": "LayoutModel",
     "state": {
      "_model_module": "@jupyter-widgets/base",
      "_model_module_version": "1.2.0",
      "_model_name": "LayoutModel",
      "_view_count": null,
      "_view_module": "@jupyter-widgets/base",
      "_view_module_version": "1.2.0",
      "_view_name": "LayoutView",
      "align_content": null,
      "align_items": null,
      "align_self": null,
      "border": null,
      "bottom": null,
      "display": null,
      "flex": null,
      "flex_flow": null,
      "grid_area": null,
      "grid_auto_columns": null,
      "grid_auto_flow": null,
      "grid_auto_rows": null,
      "grid_column": null,
      "grid_gap": null,
      "grid_row": null,
      "grid_template_areas": null,
      "grid_template_columns": null,
      "grid_template_rows": null,
      "height": null,
      "justify_content": null,
      "justify_items": null,
      "left": null,
      "margin": null,
      "max_height": null,
      "max_width": null,
      "min_height": null,
      "min_width": null,
      "object_fit": null,
      "object_position": null,
      "order": null,
      "overflow": null,
      "overflow_x": null,
      "overflow_y": null,
      "padding": null,
      "right": null,
      "top": null,
      "visibility": null,
      "width": null
     }
    }
   }
  }
 },
 "nbformat": 4,
 "nbformat_minor": 1
}
