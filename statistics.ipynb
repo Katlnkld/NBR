{
 "cells": [
  {
   "cell_type": "code",
   "execution_count": 1,
   "id": "ffd245d3",
   "metadata": {},
   "outputs": [],
   "source": [
    "import warnings\n",
    "warnings.filterwarnings(\"ignore\")\n",
    "\n",
    "import matplotlib.pyplot as plt\n",
    "import seaborn as sns\n",
    "sns.set(style='darkgrid', font_scale=1.2)\n",
    "\n",
    "from IPython.display import clear_output\n",
    "%matplotlib inline\n",
    "\n",
    "import pandas as pd\n",
    "import plotly.express as px\n",
    "import numpy as np\n",
    "from tqdm import tqdm\n",
    "\n",
    "tqdm.pandas()\n",
    "\n",
    "from sklearn.metrics import accuracy_score, roc_auc_score\n",
    "\n",
    "from tqdm.notebook import tqdm\n",
    "\n",
    "import os\n",
    "import scipy"
   ]
  },
  {
   "cell_type": "code",
   "execution_count": 7,
   "id": "a3f13290",
   "metadata": {},
   "outputs": [],
   "source": [
    "from metrics import repeat_rate_user, repeat_rate_item"
   ]
  },
  {
   "cell_type": "code",
   "execution_count": 10,
   "id": "9518d86e",
   "metadata": {},
   "outputs": [
    {
     "name": "stdout",
     "output_type": "stream",
     "text": [
      "Количество юзеров: 2500\n",
      "Количество айтемов: 92339\n",
      "Количество корзин: 276484\n",
      "\n",
      "\n",
      "Repeat rate по юзерам: 0.9896\n",
      "Repeat rate по айтемам: 0.39118898840143385\n"
     ]
    }
   ],
   "source": [
    "# dunnhumby\n",
    "dataset_name = 'dunnhumby_cj'\n",
    "\n",
    "path_train = f'data/{dataset_name}/baskets/train_baskets.csv'\n",
    "path_test = f'data/{dataset_name}/baskets/test_baskets.csv'\n",
    "path_val = f'data/{dataset_name}/baskets/valid_baskets.csv'\n",
    "\n",
    "train = pd.read_csv(path_train)\n",
    "val = pd.read_csv(path_val)\n",
    "test = pd.read_csv(path_test)\n",
    "\n",
    "df = pd.concat([train, val, test])\n",
    "\n",
    "print('Количество юзеров:', df.user_id.nunique())\n",
    "print('Количество айтемов:', df.item_id.nunique())\n",
    "print('Количество корзин:', df.basket_id.nunique())\n",
    "print('\\n')\n",
    "print('Repeat rate по юзерам:', repeat_rate_user(df))\n",
    "print('Repeat rate по айтемам:', repeat_rate_item(df))"
   ]
  },
  {
   "cell_type": "code",
   "execution_count": 11,
   "id": "543f61b1",
   "metadata": {},
   "outputs": [
    {
     "name": "stdout",
     "output_type": "stream",
     "text": [
      "Количество юзеров: 206209\n",
      "Количество айтемов: 49685\n",
      "Количество корзин: 3346083\n",
      "\n",
      "\n",
      "Repeat rate по юзерам: 0.9907860471657396\n",
      "Repeat rate по айтемам: 0.9178424071651404\n"
     ]
    }
   ],
   "source": [
    "# instacart полный\n",
    "dataset_name = 'instacart'\n",
    "\n",
    "path_train = f'data/{dataset_name}/baskets/train_baskets.csv'\n",
    "path_test = f'data/{dataset_name}/baskets/test_baskets.csv'\n",
    "path_val = f'data/{dataset_name}/baskets/valid_baskets.csv'\n",
    "\n",
    "train = pd.read_csv(path_train)\n",
    "val = pd.read_csv(path_val)\n",
    "test = pd.read_csv(path_test)\n",
    "\n",
    "df = pd.concat([train, val, test])\n",
    "\n",
    "print('Количество юзеров:', df.user_id.nunique())\n",
    "print('Количество айтемов:', df.item_id.nunique())\n",
    "print('Количество корзин:', df.basket_id.nunique())\n",
    "print('\\n')\n",
    "print('Repeat rate по юзерам:', repeat_rate_user(df))\n",
    "print('Repeat rate по айтемам:', repeat_rate_item(df))"
   ]
  },
  {
   "cell_type": "code",
   "execution_count": 12,
   "id": "1d81f880",
   "metadata": {},
   "outputs": [
    {
     "name": "stdout",
     "output_type": "stream",
     "text": [
      "Количество юзеров: 27945\n",
      "Количество айтемов: 43814\n",
      "Количество корзин: 455164\n",
      "\n",
      "\n",
      "Repeat rate по юзерам: 0.9910538557881553\n",
      "Repeat rate по айтемам: 0.7261605879399279\n"
     ]
    }
   ],
   "source": [
    "# instacart на сэмпле в 30к пользователей\n",
    "dataset_name = 'instacart'\n",
    "\n",
    "path_train = f'data/{dataset_name}/baskets/train_baskets_sample30k.csv'\n",
    "path_test = f'data/{dataset_name}/baskets/test_baskets_sample30k.csv'\n",
    "path_val = f'data/{dataset_name}/baskets/valid_baskets_sample30k.csv'\n",
    "\n",
    "train = pd.read_csv(path_train)\n",
    "val = pd.read_csv(path_val)\n",
    "test = pd.read_csv(path_test)\n",
    "\n",
    "df = pd.concat([train, val, test])\n",
    "\n",
    "print('Количество юзеров:', df.user_id.nunique())\n",
    "print('Количество айтемов:', df.item_id.nunique())\n",
    "print('Количество корзин:', df.basket_id.nunique())\n",
    "print('\\n')\n",
    "print('Repeat rate по юзерам:', repeat_rate_user(df))\n",
    "print('Repeat rate по айтемам:', repeat_rate_item(df))"
   ]
  },
  {
   "cell_type": "code",
   "execution_count": 14,
   "id": "4a1a3326",
   "metadata": {},
   "outputs": [
    {
     "name": "stdout",
     "output_type": "stream",
     "text": [
      "Количество юзеров: 32266\n",
      "Количество айтемов: 23812\n",
      "Количество корзин: 105753\n",
      "\n",
      "\n",
      "Repeat rate по юзерам: 0.3830657658216079\n",
      "Repeat rate по айтемам: 0.329035780278851\n"
     ]
    }
   ],
   "source": [
    "# tafeng\n",
    "dataset_name = 'tafeng'\n",
    "\n",
    "path_train = f'data/{dataset_name}/baskets/train_baskets.csv'\n",
    "path_test = f'data/{dataset_name}/baskets/test_baskets.csv'\n",
    "path_val = f'data/{dataset_name}/baskets/valid_baskets.csv'\n",
    "\n",
    "train = pd.read_csv(path_train)\n",
    "val = pd.read_csv(path_val)\n",
    "test = pd.read_csv(path_test)\n",
    "\n",
    "df = pd.concat([train, val, test])\n",
    "\n",
    "print('Количество юзеров:', df.user_id.nunique())\n",
    "print('Количество айтемов:', df.item_id.nunique())\n",
    "print('Количество корзин:', df.basket_id.nunique())\n",
    "\n",
    "print('\\n')\n",
    "print('Repeat rate по юзерам:', repeat_rate_user(df))\n",
    "print('Repeat rate по айтемам:', repeat_rate_item(df))"
   ]
  }
 ],
 "metadata": {
  "kernelspec": {
   "display_name": "Python 3 (ipykernel)",
   "language": "python",
   "name": "python3"
  },
  "language_info": {
   "codemirror_mode": {
    "name": "ipython",
    "version": 3
   },
   "file_extension": ".py",
   "mimetype": "text/x-python",
   "name": "python",
   "nbconvert_exporter": "python",
   "pygments_lexer": "ipython3",
   "version": "3.9.13"
  }
 },
 "nbformat": 4,
 "nbformat_minor": 5
}
