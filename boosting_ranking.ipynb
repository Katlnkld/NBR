{
 "cells": [
  {
   "cell_type": "markdown",
   "id": "6bd4190a",
   "metadata": {},
   "source": [
    "# Boosting models with lambda rank"
   ]
  },
  {
   "cell_type": "code",
   "execution_count": 76,
   "id": "d165a8bf",
   "metadata": {},
   "outputs": [],
   "source": [
    "import pandas as pd\n",
    "import numpy as np\n",
    "import scipy\n",
    "from tqdm import tqdm\n",
    "import os\n",
    "\n",
    "tqdm.pandas()\n",
    "\n",
    "\n",
    "class Dataset():\n",
    "    def __init__(self, path_train,path_val, path_test, dataset, history_len=100, basket_count_min=3,\\\n",
    "                                                         min_item_count = 5, basket_len = 30):\n",
    "        self.basket_count_min = basket_count_min\n",
    "        self.min_item_count = min_item_count\n",
    "        self.history_len = history_len\n",
    "        self.basket_len = basket_len\n",
    "        \n",
    "        self.train = pd.read_csv(path_train)\n",
    "        self.val = pd.read_csv(path_val)\n",
    "        self.test = pd.read_csv(path_test)\n",
    "        \n",
    "        self.model_name = 'boosting/' + 'data/' + dataset +'/'\n",
    "        \n",
    "        # используемые юзеры и айтемы\n",
    "        basket_per_user = self.train[['user_id','basket_id']].drop_duplicates() \\\n",
    "            .groupby('user_id').agg({'basket_id':'count'}).reset_index()\n",
    "        self.all_users = basket_per_user[basket_per_user['basket_id'] >= self.basket_count_min]['user_id'].tolist()\n",
    "        print('Total users:', len(self.all_users))\n",
    "        item_counts = self.train.groupby(['item_id']).size().to_frame(name = 'item_count').reset_index()\n",
    "        self.all_items = item_counts[item_counts['item_count']>= self.min_item_count].item_id\n",
    "        print('Total items:', len(self.all_items))\n",
    "        \n",
    "        ######################\n",
    "        self.train_cleaned = self.train[ (self.train.user_id.isin(self.all_users)) & (self.train.item_id.isin(self.all_items))].\\\n",
    "                    sort_values(['user_id','date'],ascending=True)\n",
    "        \n",
    "        val_cleaned = self.val[ (self.val.user_id.isin(self.all_users)) & (self.val.item_id.isin(self.all_items))].\\\n",
    "                    sort_values(['user_id','date'],ascending=True)\n",
    "        self.test_cleaned = self.test[ (self.test.user_id.isin(self.all_users)) & (self.test.item_id.isin(self.all_items))].\\\n",
    "                    sort_values(['user_id','date'],ascending=True)\n",
    "        full_df = pd.concat([self.train_cleaned, val_cleaned, self.test_cleaned]).reset_index(drop=True)\\\n",
    "                                                    .sort_values(['user_id','date'],ascending=True)\n",
    "        # необходимые аггрегаты\n",
    "        user_baskets_train = self.train_cleaned[['user_id','date','basket_id']].drop_duplicates().\\\n",
    "                groupby(['user_id'])['basket_id'].apply(list).reset_index()\n",
    "        self.user_baskets_train_dict = dict(zip(user_baskets_train['user_id'],user_baskets_train['basket_id']))\n",
    "        \n",
    "        user_baskets_val = val_cleaned[['user_id','basket_id']].drop_duplicates()\n",
    "        self.user_baskets_val_dict = dict(zip(user_baskets_val['user_id'],user_baskets_val['basket_id']))\n",
    "        \n",
    "        user_baskets_test = self.test_cleaned[['user_id','basket_id']].drop_duplicates()\n",
    "        self.user_baskets_test_dict = dict(zip(user_baskets_test['user_id'],user_baskets_test['basket_id']))\n",
    "        \n",
    "        \n",
    "        basket_items = full_df.groupby(['basket_id'])['item_id'].apply(list).reset_index()\n",
    "        self.basket_items_dict = dict(zip(basket_items['basket_id'],basket_items['item_id']))\n",
    "        self.basket_items_dict['null'] = []\n",
    "        \n",
    "        basket_date = full_df[['basket_id','date']].drop_duplicates()\n",
    "        self.basket_date_dict = dict(zip(basket_date['basket_id'],basket_date['date']))\n",
    "        \n",
    "        user_item_train = self.train_cleaned[['user_id','item_id']].drop_duplicates().\\\n",
    "                groupby(['user_id'])['item_id'].apply(list).reset_index()\n",
    "        self.user_item_train_dict = dict(zip(user_item_train['user_id'],user_item_train['item_id']))\n",
    "        \n",
    "        ##########\n",
    "        u_i_b = self.train_cleaned.groupby(['user_id', 'item_id'])['basket_id'].apply(list).reset_index()\n",
    "        self.u_i_b_dict = dict(zip(zip(u_i_b.user_id, u_i_b.item_id), u_i_b.basket_id))\n",
    "        \n",
    "    def iterate_train_users(self, user):\n",
    "        history, labels, user_id, item_id, basket_id, basket_date = [], [], [], [], [], []\n",
    "\n",
    "        user_baskets = self.user_baskets_train_dict[user]\n",
    "        user_items = self.user_item_train_dict[user]\n",
    "\n",
    "        for item in user_items:\n",
    "\n",
    "            baskets_with_item = self.u_i_b_dict[(user), (item)]\n",
    "\n",
    "            first_date = self.basket_date_dict[baskets_with_item[0]]\n",
    "\n",
    "            \n",
    "            baskets_after_item = [b for b in user_baskets if self.basket_date_dict[b]>first_date]\n",
    "     \n",
    "            for i in range(max(0,len(baskets_after_item)-self.basket_len), len(baskets_after_item)):\n",
    "                basket = baskets_after_item[i]\n",
    "                prev_baskets =  baskets_after_item[:i]\n",
    "                dates_list = [first_date]\n",
    "\n",
    "                dates_list.extend([self.basket_date_dict[b] for b in prev_baskets if b in baskets_with_item]) \n",
    "                curr_basket_date = self.basket_date_dict[basket]\n",
    "                hist = [curr_basket_date - elem for elem in dates_list]\n",
    "                    \n",
    "                if len(hist)<self.history_len:\n",
    "                    hist = np.pad(hist, [(self.history_len-len(hist), 0)], mode='constant')\n",
    "                else:\n",
    "                    hist = hist[-self.history_len:]\n",
    "\n",
    "                lab = int(basket in baskets_with_item)\n",
    "\n",
    "                history.append(hist)\n",
    "                labels.append(lab)\n",
    "                user_id.append(user) \n",
    "                item_id.append(item)\n",
    "                basket_id.append(basket) \n",
    "                basket_date.append(curr_basket_date)\n",
    "        \n",
    "        return history, labels, user_id, item_id, basket_id, basket_date\n",
    "        \n",
    "    def iterate_val_test_user(self, user, mode):\n",
    "        if mode=='test':\n",
    "            test_baskets = self.user_baskets_test_dict\n",
    "        elif mode=='val':\n",
    "            test_baskets = self.user_baskets_val_dict\n",
    "\n",
    "        history, labels, user_id, item_id, basket_id, basket_date = [], [], [], [], [], []\n",
    "\n",
    "        user_baskets = self.user_baskets_train_dict[user]\n",
    "        user_items = self.user_item_train_dict[user]\n",
    "\n",
    "        current_basket = test_baskets[user]\n",
    "\n",
    "        curr_basket_date = self.basket_date_dict[current_basket]\n",
    "        for item in user_items:\n",
    "\n",
    "            baskets_with_item = self.u_i_b_dict[(user), (item)]\n",
    "\n",
    "            dates_list = [self.basket_date_dict[b] for b in baskets_with_item]\n",
    "\n",
    "\n",
    "            curr_basket_date = self.basket_date_dict[current_basket]\n",
    "            hist = [curr_basket_date - elem for elem in dates_list]\n",
    "\n",
    "            if len(hist)<self.history_len:\n",
    "                hist = np.pad(hist, [(self.history_len-len(hist), 0)], mode='constant')\n",
    "            else:\n",
    "                hist = hist[-self.history_len:]\n",
    "\n",
    "            lab = int(item in self.basket_items_dict[current_basket])\n",
    "\n",
    "            history.append(hist)\n",
    "            labels.append(lab)\n",
    "            user_id.append(user) \n",
    "            item_id.append(item)\n",
    "            basket_id.append(current_basket) \n",
    "            basket_date.append(curr_basket_date)\n",
    "\n",
    "        return history, labels, user_id, item_id, basket_id, basket_date\n",
    "       \n",
    "    \n",
    "    def create_train_data(self):\n",
    "        save_path = self.model_name + str(self.basket_len) + '_train.npz'\n",
    "        print(save_path)\n",
    "        if os.path.isfile(save_path):\n",
    "            print('Done!')\n",
    "            res_array_sparse = scipy.sparse.load_npz(save_path)\n",
    "            data = pd.DataFrame.sparse.from_spmatrix(res_array_sparse)\n",
    "            data.columns = list(np.arange(self.history_len)) + ['labels', 'user_id', 'item_id', 'basket_id', 'basket_date']\n",
    "            return data\n",
    "        \n",
    "        history, labels, user_id, item_id, basket_id, basket_date = [],[],[],[],[],[]\n",
    "        for user in tqdm(self.all_users):\n",
    "            history_u, labels_u, user_id_u, item_id_u, basket_id_u, basket_date_u = self.iterate_train_users(user)\n",
    "            history.extend(history_u)\n",
    "            labels.extend(labels_u)\n",
    "            user_id.extend(user_id_u)\n",
    "            item_id.extend(item_id_u)\n",
    "            basket_id.extend(basket_id_u)\n",
    "            basket_date.extend(basket_date_u)\n",
    "\n",
    "        res_array = np.hstack([np.array(history), np.array(labels).reshape((-1, 1)),  np.array(user_id).reshape((-1, 1)),\n",
    "            np.array(item_id).reshape((-1, 1)),  np.array(basket_id).reshape((-1, 1)),  np.array(basket_date).reshape((-1, 1))])\n",
    "        \n",
    "        res_array_sparse = scipy.sparse.csr_matrix(res_array)#.astype('int32'))\n",
    "        scipy.sparse.save_npz(save_path,res_array_sparse)\n",
    "        \n",
    "        data = pd.DataFrame.sparse.from_spmatrix(res_array_sparse)\n",
    "        data.columns = list(np.arange(self.history_len)) + ['labels', 'user_id', 'item_id', 'basket_id', 'basket_date']\n",
    "        \n",
    "        return data\n",
    "\n",
    "        \n",
    "    def create_val_test_data(self, mode):\n",
    "        save_path = self.model_name + str(self.basket_len) + f'_{mode}.npz'\n",
    "        print(save_path)  \n",
    "      \n",
    "        if os.path.isfile(save_path):\n",
    "            print('Done!')\n",
    "            res_array_sparse = scipy.sparse.load_npz(save_path)\n",
    "            data = pd.DataFrame.sparse.from_spmatrix(res_array_sparse)\n",
    "            data.columns = list(np.arange(self.history_len)) + ['labels', 'user_id', 'item_id', 'basket_id', 'basket_date']\n",
    "            return data\n",
    "        \n",
    "        history, labels, user_id, item_id, basket_id, basket_date = [],[],[],[],[],[]\n",
    "        \n",
    "        if mode=='test':\n",
    "            test_users = list(self.user_baskets_test_dict.keys())\n",
    "        elif mode=='val':\n",
    "            test_users = list(self.user_baskets_val_dict.keys())\n",
    "        \n",
    "        for user in tqdm(test_users):\n",
    "            history_u, labels_u, user_id_u, item_id_u, basket_id_u, basket_date_u = self.iterate_val_test_user(user, mode=mode)\n",
    "            history.extend(history_u)\n",
    "            labels.extend(labels_u)\n",
    "            user_id.extend(user_id_u)\n",
    "            item_id.extend(item_id_u)\n",
    "            basket_id.extend(basket_id_u)\n",
    "            basket_date.extend(basket_date_u)\n",
    "\n",
    "        res_array = np.hstack([np.array(history), np.array(labels).reshape((-1, 1)),  np.array(user_id).reshape((-1, 1)),\n",
    "            np.array(item_id).reshape((-1, 1)),  np.array(basket_id).reshape((-1, 1)),  np.array(basket_date).reshape((-1, 1))])\n",
    "        \n",
    "        res_array_sparse = scipy.sparse.csr_matrix(res_array)#.astype('int32'))\n",
    "        scipy.sparse.save_npz(save_path,res_array_sparse)\n",
    "        \n",
    "        data = pd.DataFrame.sparse.from_spmatrix(res_array_sparse)\n",
    "        data.columns = list(np.arange(self.history_len)) + ['labels', 'user_id', 'item_id', 'basket_id', 'basket_date']\n",
    "        return data"
   ]
  },
  {
   "cell_type": "code",
   "execution_count": 1,
   "id": "38a986c0",
   "metadata": {},
   "outputs": [],
   "source": [
    "import warnings\n",
    "warnings.filterwarnings(\"ignore\")"
   ]
  },
  {
   "cell_type": "code",
   "execution_count": 5,
   "id": "c3c87ae4",
   "metadata": {
    "ExecuteTime": {
     "end_time": "2023-02-19T21:54:48.332259Z",
     "start_time": "2023-02-19T21:54:36.334991Z"
    }
   },
   "outputs": [],
   "source": [
    "import matplotlib.pyplot as plt\n",
    "import seaborn as sns\n",
    "sns.set(style='darkgrid', font_scale=1.2)\n",
    "\n",
    "from IPython.display import clear_output\n",
    "%matplotlib inline\n",
    "\n",
    "import pandas as pd\n",
    "import plotly.express as px\n",
    "import numpy as np\n",
    "from tqdm import tqdm\n",
    "\n",
    "tqdm.pandas()\n",
    "\n",
    "from sklearn.metrics import accuracy_score, roc_auc_score\n",
    "\n",
    "from tqdm.notebook import tqdm\n",
    "\n",
    "import os\n",
    "import scipy\n",
    "\n",
    "from lightgbm import LGBMRanker"
   ]
  },
  {
   "cell_type": "code",
   "execution_count": 6,
   "id": "a4bf350b",
   "metadata": {},
   "outputs": [],
   "source": [
    "from metrics import recall_k, ndcg_k, precision_k, hitrate_k, repeat_score_item, repeat_score_user\n",
    "from boosting.create_dataset import Dataset"
   ]
  },
  {
   "cell_type": "code",
   "execution_count": 7,
   "id": "3d5f7520",
   "metadata": {
    "ExecuteTime": {
     "end_time": "2023-02-19T21:57:12.629052Z",
     "start_time": "2023-02-19T21:57:12.616060Z"
    }
   },
   "outputs": [],
   "source": [
    "# predict function\n",
    "def predict(df, th=0):\n",
    "    \n",
    "    df['user_id'] = df['user_id'].astype('int64')\n",
    "    df['item_id'] = df['item_id'].astype('int64')\n",
    "    \n",
    "    test_users = pd.DataFrame(dataset.test_cleaned.user_id.unique(), columns=['user_id'])\n",
    "    df = df[df.preds_scores>=th]       \n",
    "    df = df.sort_values(by='preds_scores', ascending=False)\n",
    "    \n",
    "    res = df.groupby('user_id').agg({'item_id': list}).reset_index()\n",
    "    res = test_users.merge(res, how='left')\n",
    "    res['item_id'] = res['item_id'].fillna(\"\").apply(list)\n",
    "    return res"
   ]
  },
  {
   "cell_type": "code",
   "execution_count": 8,
   "id": "2df5354d",
   "metadata": {},
   "outputs": [],
   "source": [
    "def calculate_metrics(path_test, result):    \n",
    "    test_baskets = pd.read_csv(path_test)\n",
    "    user_test_baskets_df = test_baskets.groupby('user_id')['item_id'].apply(list).reset_index()\n",
    "    user_test_baskets_dict = dict(zip( user_test_baskets_df['user_id'],user_test_baskets_df['item_id']))\n",
    "    print('predictions ready', result.user_id.nunique())\n",
    "    print('number of final test users:',result.user_id.nunique())\n",
    "    for k in [5,10,20,'B']:\n",
    "        print(k)\n",
    "        recall_scores = {}\n",
    "        ndcg_scores = {}\n",
    "        precision_scores = {}\n",
    "        hitrate_scores = {}\n",
    "        #zero = 0\n",
    "        for user in result.user_id.unique():\n",
    "\n",
    "            top_items = result[result.user_id==user].item_id.values[0]\n",
    "\n",
    "            if k == 'B':\n",
    "                recall_scores[user] = recall_k(user_test_baskets_dict[user],top_items,len(user_test_baskets_dict[user]))\n",
    "                ndcg_scores[user] = ndcg_k(user_test_baskets_dict[user],top_items,len(user_test_baskets_dict[user]))\n",
    "                precision_scores[user] = precision_k(user_test_baskets_dict[user],top_items,len(user_test_baskets_dict[user]))\n",
    "                hitrate_scores[user] = hitrate_k(user_test_baskets_dict[user],top_items,len(user_test_baskets_dict[user]))\n",
    "            else:\n",
    "                recall_scores[user] = recall_k(user_test_baskets_dict[user],top_items,k)\n",
    "                ndcg_scores[user] = ndcg_k(user_test_baskets_dict[user],top_items,k)\n",
    "                precision_scores[user] = precision_k(user_test_baskets_dict[user],top_items,k)\n",
    "                hitrate_scores[user] = hitrate_k(user_test_baskets_dict[user],top_items,k)\n",
    "        #print(zero)\n",
    "        print('recall:',np.mean(list(recall_scores.values())))\n",
    "        print('ndcg:',np.mean(list(ndcg_scores.values())))\n",
    "        print('precision:',np.mean(list(precision_scores.values())))\n",
    "        print('hitrate:',np.mean(list(hitrate_scores.values())))"
   ]
  },
  {
   "cell_type": "code",
   "execution_count": 9,
   "id": "99921283",
   "metadata": {},
   "outputs": [],
   "source": [
    "def plot_feature_importance(importance,names,model_type):\n",
    "\n",
    "    #Create arrays from feature importance and feature names\n",
    "    feature_importance = np.array(importance)\n",
    "    feature_names = np.array(names)\n",
    "    feature_names = np.array([f'{np.abs(50-col)}_prev_basket'  \\\n",
    "     if isinstance(col, (int, np.int,np.int32, np.int64)) else col for col in feature_names])\n",
    "\n",
    "    #Create a DataFrame using a Dictionary\n",
    "    data={'feature_names':feature_names,'feature_importance':feature_importance}\n",
    "    fi_df = pd.DataFrame(data)\n",
    "\n",
    "    #Sort the DataFrame in order decreasing feature importance\n",
    "    fi_df.sort_values(by=['feature_importance'], ascending=False,inplace=True)\n",
    "    \n",
    "    fi_df = fi_df.head(10)\n",
    "\n",
    "    #Define size of bar plot\n",
    "    plt.figure(figsize=(10,8))\n",
    "    #Plot Searborn bar chart\n",
    "    sns.barplot(x=fi_df['feature_importance'], y=fi_df['feature_names'])\n",
    "    #Add chart labels\n",
    "    plt.title(model_type + ' feature importance')\n",
    "    plt.xlabel('feature importance')\n",
    "    plt.ylabel('feature names')"
   ]
  },
  {
   "cell_type": "markdown",
   "id": "44ce2602",
   "metadata": {},
   "source": [
    "# Dunnhumby"
   ]
  },
  {
   "cell_type": "code",
   "execution_count": 5,
   "id": "8d945638",
   "metadata": {
    "ExecuteTime": {
     "end_time": "2023-02-19T21:54:48.534935Z",
     "start_time": "2023-02-19T21:54:48.519944Z"
    }
   },
   "outputs": [],
   "source": [
    "dataset_name = 'dunnhumby_cj'"
   ]
  },
  {
   "cell_type": "code",
   "execution_count": 6,
   "id": "a5b65bf9",
   "metadata": {
    "ExecuteTime": {
     "end_time": "2023-02-19T21:54:48.550892Z",
     "start_time": "2023-02-19T21:54:48.535901Z"
    }
   },
   "outputs": [],
   "source": [
    "path_train = f'data/{dataset_name}/baskets/train_baskets.csv'\n",
    "path_test = f'data/{dataset_name}/baskets/test_baskets.csv'\n",
    "path_val = f'data/{dataset_name}/baskets/valid_baskets.csv'"
   ]
  },
  {
   "cell_type": "code",
   "execution_count": 7,
   "id": "739054e9",
   "metadata": {
    "ExecuteTime": {
     "end_time": "2023-02-19T22:36:03.099868Z",
     "start_time": "2023-02-19T22:35:32.304673Z"
    },
    "scrolled": true
   },
   "outputs": [
    {
     "name": "stdout",
     "output_type": "stream",
     "text": [
      "Total users: 2483\n",
      "Total items: 36963\n"
     ]
    }
   ],
   "source": [
    "dataset = Dataset(path_train,path_val, path_test, dataset=dataset_name, history_len=50, basket_len=50)"
   ]
  },
  {
   "cell_type": "code",
   "execution_count": 8,
   "id": "5ea76233",
   "metadata": {
    "ExecuteTime": {
     "end_time": "2023-02-19T21:55:17.989920Z",
     "start_time": "2023-02-19T21:55:15.177148Z"
    }
   },
   "outputs": [
    {
     "name": "stdout",
     "output_type": "stream",
     "text": [
      "boosting/data/dunnhumby_cj/50_train.npz\n",
      "Done!\n",
      "boosting/data/dunnhumby_cj/50_val.npz\n",
      "Done!\n",
      "boosting/data/dunnhumby_cj/50_test.npz\n",
      "Done!\n"
     ]
    }
   ],
   "source": [
    "train = dataset.create_train_data()\n",
    "\n",
    "val = dataset.create_val_test_data(mode='val')\n",
    "\n",
    "test = dataset.create_val_test_data(mode='test')"
   ]
  },
  {
   "cell_type": "code",
   "execution_count": 9,
   "id": "fc0c2161",
   "metadata": {
    "ExecuteTime": {
     "end_time": "2023-02-19T21:55:18.333171Z",
     "start_time": "2023-02-19T21:55:18.319184Z"
    }
   },
   "outputs": [
    {
     "data": {
      "text/plain": [
       "((13974032, 55), (177804, 55), (185085, 55))"
      ]
     },
     "execution_count": 9,
     "metadata": {},
     "output_type": "execute_result"
    }
   ],
   "source": [
    "train.shape, val.shape, test.shape"
   ]
  },
  {
   "cell_type": "markdown",
   "id": "bd0bd9ab",
   "metadata": {},
   "source": [
    "#### LGBM Ranker"
   ]
  },
  {
   "cell_type": "code",
   "execution_count": 10,
   "id": "ec387330",
   "metadata": {},
   "outputs": [],
   "source": [
    "train = train.sort_values(by = 'basket_id')\n",
    "val = val.sort_values(by = 'basket_id')\n",
    "test = test.sort_values(by = 'basket_id')"
   ]
  },
  {
   "cell_type": "code",
   "execution_count": 11,
   "id": "b930692f",
   "metadata": {},
   "outputs": [],
   "source": [
    "# функция для группировки при ранжировании\n",
    "get_group_size = lambda df: df.reset_index().groupby(\"basket_id\")['basket_id'].count()"
   ]
  },
  {
   "cell_type": "code",
   "execution_count": 12,
   "id": "6a891f67",
   "metadata": {},
   "outputs": [],
   "source": [
    "# item_id - категориальная фича\n",
    "train['item_id'] = train['item_id'].sparse.to_dense().astype('category')\n",
    "val['item_id'] = val['item_id'].sparse.to_dense().astype('category')\n",
    "test['item_id'] = test['item_id'].sparse.to_dense().astype('category')\n",
    "# basket_id в int для правильной группировки\n",
    "train['basket_id'] = train['basket_id'].sparse.to_dense().astype('int')\n",
    "val['basket_id'] = val['basket_id'].sparse.to_dense().astype('int')\n",
    "test['basket_id'] = test['basket_id'].sparse.to_dense().astype('int')"
   ]
  },
  {
   "cell_type": "code",
   "execution_count": 13,
   "id": "597e95bd",
   "metadata": {},
   "outputs": [],
   "source": [
    "train_groups = get_group_size(train)\n",
    "val_groups = get_group_size(val)"
   ]
  },
  {
   "cell_type": "code",
   "execution_count": 14,
   "id": "1fdad585",
   "metadata": {},
   "outputs": [],
   "source": [
    "X_tr, y_tr = train.drop(['user_id','labels', 'basket_id'], axis=1), train.labels, \n",
    "X_val, y_val = val.drop(['user_id','labels', 'basket_id'], axis=1), val.labels\n",
    "X_test, y_test = test.drop(['user_id','labels', 'basket_id'], axis=1), test.labels"
   ]
  },
  {
   "cell_type": "code",
   "execution_count": 15,
   "id": "2f33168d",
   "metadata": {},
   "outputs": [],
   "source": [
    "ranker = LGBMRanker(n_estimators=300)"
   ]
  },
  {
   "cell_type": "code",
   "execution_count": 16,
   "id": "64579dc4",
   "metadata": {},
   "outputs": [
    {
     "name": "stderr",
     "output_type": "stream",
     "text": [
      "C:\\Users\\dkidi\\anaconda3\\lib\\site-packages\\lightgbm\\sklearn.py:726: UserWarning: 'early_stopping_rounds' argument is deprecated and will be removed in a future release of LightGBM. Pass 'early_stopping()' callback via 'callbacks' argument instead.\n",
      "  _log_warning(\"'early_stopping_rounds' argument is deprecated and will be removed in a future release of LightGBM. \"\n",
      "C:\\Users\\dkidi\\anaconda3\\lib\\site-packages\\lightgbm\\basic.py:1780: UserWarning: Overriding the parameters from Reference Dataset.\n",
      "  _log_warning('Overriding the parameters from Reference Dataset.')\n",
      "C:\\Users\\dkidi\\anaconda3\\lib\\site-packages\\lightgbm\\basic.py:1513: UserWarning: categorical_column in param dict is overridden.\n",
      "  _log_warning(f'{cat_alias} in param dict is overridden.')\n"
     ]
    },
    {
     "name": "stdout",
     "output_type": "stream",
     "text": [
      "[1]\tvalid_0's ndcg@5: 0.520842\tvalid_0's ndcg@10: 0.543292\tvalid_0's ndcg@20: 0.57314\n",
      "[2]\tvalid_0's ndcg@5: 0.542483\tvalid_0's ndcg@10: 0.56224\tvalid_0's ndcg@20: 0.592113\n",
      "[3]\tvalid_0's ndcg@5: 0.548777\tvalid_0's ndcg@10: 0.56697\tvalid_0's ndcg@20: 0.595804\n",
      "[4]\tvalid_0's ndcg@5: 0.552046\tvalid_0's ndcg@10: 0.566978\tvalid_0's ndcg@20: 0.595704\n",
      "[5]\tvalid_0's ndcg@5: 0.550229\tvalid_0's ndcg@10: 0.568039\tvalid_0's ndcg@20: 0.596687\n",
      "[6]\tvalid_0's ndcg@5: 0.550768\tvalid_0's ndcg@10: 0.569177\tvalid_0's ndcg@20: 0.596582\n",
      "[7]\tvalid_0's ndcg@5: 0.554529\tvalid_0's ndcg@10: 0.573024\tvalid_0's ndcg@20: 0.598836\n",
      "[8]\tvalid_0's ndcg@5: 0.554436\tvalid_0's ndcg@10: 0.572877\tvalid_0's ndcg@20: 0.599419\n",
      "[9]\tvalid_0's ndcg@5: 0.554159\tvalid_0's ndcg@10: 0.574197\tvalid_0's ndcg@20: 0.600147\n",
      "[10]\tvalid_0's ndcg@5: 0.552651\tvalid_0's ndcg@10: 0.574371\tvalid_0's ndcg@20: 0.599689\n",
      "[11]\tvalid_0's ndcg@5: 0.554433\tvalid_0's ndcg@10: 0.57512\tvalid_0's ndcg@20: 0.601767\n",
      "[12]\tvalid_0's ndcg@5: 0.55409\tvalid_0's ndcg@10: 0.574928\tvalid_0's ndcg@20: 0.601386\n",
      "[13]\tvalid_0's ndcg@5: 0.553828\tvalid_0's ndcg@10: 0.574465\tvalid_0's ndcg@20: 0.601057\n",
      "[14]\tvalid_0's ndcg@5: 0.555328\tvalid_0's ndcg@10: 0.57536\tvalid_0's ndcg@20: 0.601791\n",
      "[15]\tvalid_0's ndcg@5: 0.556712\tvalid_0's ndcg@10: 0.575996\tvalid_0's ndcg@20: 0.602401\n",
      "[16]\tvalid_0's ndcg@5: 0.554337\tvalid_0's ndcg@10: 0.575463\tvalid_0's ndcg@20: 0.601655\n",
      "[17]\tvalid_0's ndcg@5: 0.554626\tvalid_0's ndcg@10: 0.575714\tvalid_0's ndcg@20: 0.602092\n",
      "[18]\tvalid_0's ndcg@5: 0.556183\tvalid_0's ndcg@10: 0.576649\tvalid_0's ndcg@20: 0.603009\n",
      "[19]\tvalid_0's ndcg@5: 0.555664\tvalid_0's ndcg@10: 0.576146\tvalid_0's ndcg@20: 0.602996\n",
      "[20]\tvalid_0's ndcg@5: 0.556251\tvalid_0's ndcg@10: 0.575986\tvalid_0's ndcg@20: 0.603151\n",
      "[21]\tvalid_0's ndcg@5: 0.556893\tvalid_0's ndcg@10: 0.576068\tvalid_0's ndcg@20: 0.603815\n",
      "[22]\tvalid_0's ndcg@5: 0.55676\tvalid_0's ndcg@10: 0.576731\tvalid_0's ndcg@20: 0.604624\n",
      "[23]\tvalid_0's ndcg@5: 0.556219\tvalid_0's ndcg@10: 0.576084\tvalid_0's ndcg@20: 0.604434\n",
      "[24]\tvalid_0's ndcg@5: 0.557117\tvalid_0's ndcg@10: 0.575993\tvalid_0's ndcg@20: 0.604014\n",
      "[25]\tvalid_0's ndcg@5: 0.557364\tvalid_0's ndcg@10: 0.576085\tvalid_0's ndcg@20: 0.604178\n",
      "[26]\tvalid_0's ndcg@5: 0.556522\tvalid_0's ndcg@10: 0.576273\tvalid_0's ndcg@20: 0.604137\n",
      "[27]\tvalid_0's ndcg@5: 0.557476\tvalid_0's ndcg@10: 0.576749\tvalid_0's ndcg@20: 0.604905\n",
      "[28]\tvalid_0's ndcg@5: 0.557863\tvalid_0's ndcg@10: 0.576552\tvalid_0's ndcg@20: 0.604582\n",
      "[29]\tvalid_0's ndcg@5: 0.558064\tvalid_0's ndcg@10: 0.576939\tvalid_0's ndcg@20: 0.604697\n",
      "[30]\tvalid_0's ndcg@5: 0.558443\tvalid_0's ndcg@10: 0.576667\tvalid_0's ndcg@20: 0.604505\n",
      "[31]\tvalid_0's ndcg@5: 0.55852\tvalid_0's ndcg@10: 0.57667\tvalid_0's ndcg@20: 0.604947\n",
      "[32]\tvalid_0's ndcg@5: 0.558368\tvalid_0's ndcg@10: 0.576658\tvalid_0's ndcg@20: 0.604365\n",
      "[33]\tvalid_0's ndcg@5: 0.55865\tvalid_0's ndcg@10: 0.577055\tvalid_0's ndcg@20: 0.604076\n",
      "[34]\tvalid_0's ndcg@5: 0.558792\tvalid_0's ndcg@10: 0.576732\tvalid_0's ndcg@20: 0.604402\n",
      "[35]\tvalid_0's ndcg@5: 0.559219\tvalid_0's ndcg@10: 0.577086\tvalid_0's ndcg@20: 0.60434\n",
      "[36]\tvalid_0's ndcg@5: 0.559885\tvalid_0's ndcg@10: 0.57679\tvalid_0's ndcg@20: 0.604273\n",
      "[37]\tvalid_0's ndcg@5: 0.55923\tvalid_0's ndcg@10: 0.576456\tvalid_0's ndcg@20: 0.604221\n",
      "[38]\tvalid_0's ndcg@5: 0.55905\tvalid_0's ndcg@10: 0.576914\tvalid_0's ndcg@20: 0.604519\n",
      "[39]\tvalid_0's ndcg@5: 0.560113\tvalid_0's ndcg@10: 0.577165\tvalid_0's ndcg@20: 0.604907\n",
      "[40]\tvalid_0's ndcg@5: 0.560331\tvalid_0's ndcg@10: 0.577083\tvalid_0's ndcg@20: 0.605026\n",
      "[41]\tvalid_0's ndcg@5: 0.561045\tvalid_0's ndcg@10: 0.577139\tvalid_0's ndcg@20: 0.60537\n",
      "[42]\tvalid_0's ndcg@5: 0.561245\tvalid_0's ndcg@10: 0.577572\tvalid_0's ndcg@20: 0.605258\n",
      "[43]\tvalid_0's ndcg@5: 0.561448\tvalid_0's ndcg@10: 0.578383\tvalid_0's ndcg@20: 0.605762\n",
      "[44]\tvalid_0's ndcg@5: 0.561223\tvalid_0's ndcg@10: 0.578409\tvalid_0's ndcg@20: 0.605668\n",
      "[45]\tvalid_0's ndcg@5: 0.560485\tvalid_0's ndcg@10: 0.577841\tvalid_0's ndcg@20: 0.605023\n",
      "[46]\tvalid_0's ndcg@5: 0.560306\tvalid_0's ndcg@10: 0.577717\tvalid_0's ndcg@20: 0.604725\n",
      "[47]\tvalid_0's ndcg@5: 0.560428\tvalid_0's ndcg@10: 0.577303\tvalid_0's ndcg@20: 0.604543\n",
      "[48]\tvalid_0's ndcg@5: 0.560356\tvalid_0's ndcg@10: 0.57737\tvalid_0's ndcg@20: 0.604117\n",
      "[49]\tvalid_0's ndcg@5: 0.560661\tvalid_0's ndcg@10: 0.578064\tvalid_0's ndcg@20: 0.604691\n",
      "[50]\tvalid_0's ndcg@5: 0.560023\tvalid_0's ndcg@10: 0.577624\tvalid_0's ndcg@20: 0.604864\n",
      "[51]\tvalid_0's ndcg@5: 0.56086\tvalid_0's ndcg@10: 0.578178\tvalid_0's ndcg@20: 0.605593\n",
      "[52]\tvalid_0's ndcg@5: 0.560863\tvalid_0's ndcg@10: 0.578051\tvalid_0's ndcg@20: 0.605796\n",
      "[53]\tvalid_0's ndcg@5: 0.560444\tvalid_0's ndcg@10: 0.578107\tvalid_0's ndcg@20: 0.605878\n",
      "[54]\tvalid_0's ndcg@5: 0.559797\tvalid_0's ndcg@10: 0.57767\tvalid_0's ndcg@20: 0.605579\n",
      "[55]\tvalid_0's ndcg@5: 0.559919\tvalid_0's ndcg@10: 0.578074\tvalid_0's ndcg@20: 0.605774\n",
      "[56]\tvalid_0's ndcg@5: 0.560744\tvalid_0's ndcg@10: 0.578898\tvalid_0's ndcg@20: 0.606011\n",
      "[57]\tvalid_0's ndcg@5: 0.560589\tvalid_0's ndcg@10: 0.578566\tvalid_0's ndcg@20: 0.605485\n",
      "[58]\tvalid_0's ndcg@5: 0.560803\tvalid_0's ndcg@10: 0.578439\tvalid_0's ndcg@20: 0.605464\n",
      "[59]\tvalid_0's ndcg@5: 0.561638\tvalid_0's ndcg@10: 0.57902\tvalid_0's ndcg@20: 0.606237\n",
      "[60]\tvalid_0's ndcg@5: 0.561675\tvalid_0's ndcg@10: 0.578812\tvalid_0's ndcg@20: 0.60641\n",
      "[61]\tvalid_0's ndcg@5: 0.560855\tvalid_0's ndcg@10: 0.577613\tvalid_0's ndcg@20: 0.605695\n",
      "[62]\tvalid_0's ndcg@5: 0.561097\tvalid_0's ndcg@10: 0.577789\tvalid_0's ndcg@20: 0.606156\n",
      "[63]\tvalid_0's ndcg@5: 0.56163\tvalid_0's ndcg@10: 0.578119\tvalid_0's ndcg@20: 0.606446\n",
      "[64]\tvalid_0's ndcg@5: 0.560952\tvalid_0's ndcg@10: 0.57762\tvalid_0's ndcg@20: 0.605742\n",
      "[65]\tvalid_0's ndcg@5: 0.560338\tvalid_0's ndcg@10: 0.577106\tvalid_0's ndcg@20: 0.60539\n",
      "[66]\tvalid_0's ndcg@5: 0.560113\tvalid_0's ndcg@10: 0.577111\tvalid_0's ndcg@20: 0.605576\n",
      "[67]\tvalid_0's ndcg@5: 0.560589\tvalid_0's ndcg@10: 0.577624\tvalid_0's ndcg@20: 0.605971\n",
      "[68]\tvalid_0's ndcg@5: 0.561026\tvalid_0's ndcg@10: 0.57797\tvalid_0's ndcg@20: 0.606326\n",
      "[69]\tvalid_0's ndcg@5: 0.5608\tvalid_0's ndcg@10: 0.578243\tvalid_0's ndcg@20: 0.606159\n",
      "[70]\tvalid_0's ndcg@5: 0.560274\tvalid_0's ndcg@10: 0.577431\tvalid_0's ndcg@20: 0.606045\n",
      "[71]\tvalid_0's ndcg@5: 0.560131\tvalid_0's ndcg@10: 0.576841\tvalid_0's ndcg@20: 0.606014\n",
      "[72]\tvalid_0's ndcg@5: 0.560119\tvalid_0's ndcg@10: 0.576536\tvalid_0's ndcg@20: 0.606081\n",
      "[73]\tvalid_0's ndcg@5: 0.560114\tvalid_0's ndcg@10: 0.576779\tvalid_0's ndcg@20: 0.606353\n",
      "[74]\tvalid_0's ndcg@5: 0.560121\tvalid_0's ndcg@10: 0.576838\tvalid_0's ndcg@20: 0.606406\n",
      "[75]\tvalid_0's ndcg@5: 0.560263\tvalid_0's ndcg@10: 0.577391\tvalid_0's ndcg@20: 0.606315\n",
      "[76]\tvalid_0's ndcg@5: 0.560046\tvalid_0's ndcg@10: 0.577103\tvalid_0's ndcg@20: 0.605818\n",
      "[77]\tvalid_0's ndcg@5: 0.56022\tvalid_0's ndcg@10: 0.577358\tvalid_0's ndcg@20: 0.606152\n",
      "[78]\tvalid_0's ndcg@5: 0.560677\tvalid_0's ndcg@10: 0.577481\tvalid_0's ndcg@20: 0.606023\n",
      "[79]\tvalid_0's ndcg@5: 0.560094\tvalid_0's ndcg@10: 0.578686\tvalid_0's ndcg@20: 0.605822\n",
      "[80]\tvalid_0's ndcg@5: 0.560385\tvalid_0's ndcg@10: 0.578414\tvalid_0's ndcg@20: 0.606177\n",
      "[81]\tvalid_0's ndcg@5: 0.560409\tvalid_0's ndcg@10: 0.578528\tvalid_0's ndcg@20: 0.606127\n",
      "[82]\tvalid_0's ndcg@5: 0.560744\tvalid_0's ndcg@10: 0.578865\tvalid_0's ndcg@20: 0.606566\n",
      "[83]\tvalid_0's ndcg@5: 0.560632\tvalid_0's ndcg@10: 0.579017\tvalid_0's ndcg@20: 0.606571\n",
      "[84]\tvalid_0's ndcg@5: 0.560337\tvalid_0's ndcg@10: 0.578843\tvalid_0's ndcg@20: 0.60643\n",
      "[85]\tvalid_0's ndcg@5: 0.559637\tvalid_0's ndcg@10: 0.578412\tvalid_0's ndcg@20: 0.606107\n",
      "[86]\tvalid_0's ndcg@5: 0.559787\tvalid_0's ndcg@10: 0.578516\tvalid_0's ndcg@20: 0.606415\n",
      "[87]\tvalid_0's ndcg@5: 0.559714\tvalid_0's ndcg@10: 0.578219\tvalid_0's ndcg@20: 0.606236\n",
      "[88]\tvalid_0's ndcg@5: 0.559555\tvalid_0's ndcg@10: 0.578167\tvalid_0's ndcg@20: 0.606176\n",
      "[89]\tvalid_0's ndcg@5: 0.559541\tvalid_0's ndcg@10: 0.578629\tvalid_0's ndcg@20: 0.605953\n",
      "[90]\tvalid_0's ndcg@5: 0.559872\tvalid_0's ndcg@10: 0.578061\tvalid_0's ndcg@20: 0.60566\n",
      "[91]\tvalid_0's ndcg@5: 0.559816\tvalid_0's ndcg@10: 0.578015\tvalid_0's ndcg@20: 0.605731\n",
      "[92]\tvalid_0's ndcg@5: 0.559669\tvalid_0's ndcg@10: 0.578071\tvalid_0's ndcg@20: 0.605644\n",
      "[93]\tvalid_0's ndcg@5: 0.559854\tvalid_0's ndcg@10: 0.578306\tvalid_0's ndcg@20: 0.605995\n",
      "[94]\tvalid_0's ndcg@5: 0.559327\tvalid_0's ndcg@10: 0.57827\tvalid_0's ndcg@20: 0.605782\n"
     ]
    },
    {
     "name": "stdout",
     "output_type": "stream",
     "text": [
      "[95]\tvalid_0's ndcg@5: 0.55916\tvalid_0's ndcg@10: 0.577833\tvalid_0's ndcg@20: 0.605561\n",
      "[96]\tvalid_0's ndcg@5: 0.559722\tvalid_0's ndcg@10: 0.578014\tvalid_0's ndcg@20: 0.606096\n",
      "[97]\tvalid_0's ndcg@5: 0.559846\tvalid_0's ndcg@10: 0.57788\tvalid_0's ndcg@20: 0.606246\n",
      "[98]\tvalid_0's ndcg@5: 0.560764\tvalid_0's ndcg@10: 0.578564\tvalid_0's ndcg@20: 0.607099\n",
      "[99]\tvalid_0's ndcg@5: 0.560764\tvalid_0's ndcg@10: 0.57856\tvalid_0's ndcg@20: 0.607059\n",
      "[100]\tvalid_0's ndcg@5: 0.560764\tvalid_0's ndcg@10: 0.578503\tvalid_0's ndcg@20: 0.607036\n",
      "[101]\tvalid_0's ndcg@5: 0.560856\tvalid_0's ndcg@10: 0.578044\tvalid_0's ndcg@20: 0.607096\n",
      "[102]\tvalid_0's ndcg@5: 0.560798\tvalid_0's ndcg@10: 0.577892\tvalid_0's ndcg@20: 0.607038\n",
      "[103]\tvalid_0's ndcg@5: 0.560386\tvalid_0's ndcg@10: 0.578343\tvalid_0's ndcg@20: 0.60698\n",
      "[104]\tvalid_0's ndcg@5: 0.559971\tvalid_0's ndcg@10: 0.577831\tvalid_0's ndcg@20: 0.606554\n",
      "[105]\tvalid_0's ndcg@5: 0.560726\tvalid_0's ndcg@10: 0.578175\tvalid_0's ndcg@20: 0.606931\n",
      "[106]\tvalid_0's ndcg@5: 0.560553\tvalid_0's ndcg@10: 0.577908\tvalid_0's ndcg@20: 0.607036\n",
      "[107]\tvalid_0's ndcg@5: 0.560683\tvalid_0's ndcg@10: 0.577597\tvalid_0's ndcg@20: 0.607003\n",
      "[108]\tvalid_0's ndcg@5: 0.560802\tvalid_0's ndcg@10: 0.577731\tvalid_0's ndcg@20: 0.607107\n",
      "[109]\tvalid_0's ndcg@5: 0.560807\tvalid_0's ndcg@10: 0.577389\tvalid_0's ndcg@20: 0.607062\n",
      "[110]\tvalid_0's ndcg@5: 0.560646\tvalid_0's ndcg@10: 0.577474\tvalid_0's ndcg@20: 0.607179\n",
      "[111]\tvalid_0's ndcg@5: 0.560739\tvalid_0's ndcg@10: 0.577534\tvalid_0's ndcg@20: 0.607263\n",
      "[112]\tvalid_0's ndcg@5: 0.560845\tvalid_0's ndcg@10: 0.577528\tvalid_0's ndcg@20: 0.607177\n",
      "[113]\tvalid_0's ndcg@5: 0.560632\tvalid_0's ndcg@10: 0.577775\tvalid_0's ndcg@20: 0.607359\n",
      "[114]\tvalid_0's ndcg@5: 0.560593\tvalid_0's ndcg@10: 0.577757\tvalid_0's ndcg@20: 0.607559\n",
      "[115]\tvalid_0's ndcg@5: 0.560617\tvalid_0's ndcg@10: 0.577792\tvalid_0's ndcg@20: 0.607438\n",
      "[116]\tvalid_0's ndcg@5: 0.560603\tvalid_0's ndcg@10: 0.577836\tvalid_0's ndcg@20: 0.607821\n",
      "[117]\tvalid_0's ndcg@5: 0.560568\tvalid_0's ndcg@10: 0.577819\tvalid_0's ndcg@20: 0.607872\n",
      "[118]\tvalid_0's ndcg@5: 0.560503\tvalid_0's ndcg@10: 0.578081\tvalid_0's ndcg@20: 0.607897\n",
      "[119]\tvalid_0's ndcg@5: 0.560098\tvalid_0's ndcg@10: 0.577722\tvalid_0's ndcg@20: 0.607665\n",
      "[120]\tvalid_0's ndcg@5: 0.560231\tvalid_0's ndcg@10: 0.577809\tvalid_0's ndcg@20: 0.607744\n",
      "[121]\tvalid_0's ndcg@5: 0.560231\tvalid_0's ndcg@10: 0.577807\tvalid_0's ndcg@20: 0.607649\n",
      "[122]\tvalid_0's ndcg@5: 0.560424\tvalid_0's ndcg@10: 0.57764\tvalid_0's ndcg@20: 0.607633\n",
      "[123]\tvalid_0's ndcg@5: 0.560716\tvalid_0's ndcg@10: 0.577874\tvalid_0's ndcg@20: 0.607582\n",
      "[124]\tvalid_0's ndcg@5: 0.56035\tvalid_0's ndcg@10: 0.577508\tvalid_0's ndcg@20: 0.60699\n",
      "[125]\tvalid_0's ndcg@5: 0.560359\tvalid_0's ndcg@10: 0.577157\tvalid_0's ndcg@20: 0.606814\n",
      "[126]\tvalid_0's ndcg@5: 0.560304\tvalid_0's ndcg@10: 0.576739\tvalid_0's ndcg@20: 0.606677\n",
      "[127]\tvalid_0's ndcg@5: 0.559664\tvalid_0's ndcg@10: 0.576465\tvalid_0's ndcg@20: 0.606497\n",
      "[128]\tvalid_0's ndcg@5: 0.559593\tvalid_0's ndcg@10: 0.57655\tvalid_0's ndcg@20: 0.606358\n",
      "[129]\tvalid_0's ndcg@5: 0.559641\tvalid_0's ndcg@10: 0.576718\tvalid_0's ndcg@20: 0.606535\n",
      "[130]\tvalid_0's ndcg@5: 0.559168\tvalid_0's ndcg@10: 0.576562\tvalid_0's ndcg@20: 0.606385\n",
      "[131]\tvalid_0's ndcg@5: 0.55952\tvalid_0's ndcg@10: 0.576666\tvalid_0's ndcg@20: 0.60649\n",
      "[132]\tvalid_0's ndcg@5: 0.559549\tvalid_0's ndcg@10: 0.576722\tvalid_0's ndcg@20: 0.606473\n",
      "[133]\tvalid_0's ndcg@5: 0.560438\tvalid_0's ndcg@10: 0.577129\tvalid_0's ndcg@20: 0.606804\n",
      "[134]\tvalid_0's ndcg@5: 0.560156\tvalid_0's ndcg@10: 0.576455\tvalid_0's ndcg@20: 0.606537\n",
      "[135]\tvalid_0's ndcg@5: 0.55963\tvalid_0's ndcg@10: 0.576086\tvalid_0's ndcg@20: 0.606297\n",
      "[136]\tvalid_0's ndcg@5: 0.559126\tvalid_0's ndcg@10: 0.576051\tvalid_0's ndcg@20: 0.606386\n",
      "[137]\tvalid_0's ndcg@5: 0.559126\tvalid_0's ndcg@10: 0.575958\tvalid_0's ndcg@20: 0.606379\n",
      "[138]\tvalid_0's ndcg@5: 0.558813\tvalid_0's ndcg@10: 0.575719\tvalid_0's ndcg@20: 0.606303\n",
      "[139]\tvalid_0's ndcg@5: 0.558752\tvalid_0's ndcg@10: 0.575668\tvalid_0's ndcg@20: 0.60619\n",
      "[140]\tvalid_0's ndcg@5: 0.559082\tvalid_0's ndcg@10: 0.575974\tvalid_0's ndcg@20: 0.606263\n",
      "[141]\tvalid_0's ndcg@5: 0.559142\tvalid_0's ndcg@10: 0.576027\tvalid_0's ndcg@20: 0.606144\n",
      "[142]\tvalid_0's ndcg@5: 0.559127\tvalid_0's ndcg@10: 0.576151\tvalid_0's ndcg@20: 0.606229\n",
      "[143]\tvalid_0's ndcg@5: 0.559315\tvalid_0's ndcg@10: 0.576057\tvalid_0's ndcg@20: 0.606336\n",
      "[144]\tvalid_0's ndcg@5: 0.559321\tvalid_0's ndcg@10: 0.575787\tvalid_0's ndcg@20: 0.606356\n",
      "[145]\tvalid_0's ndcg@5: 0.55916\tvalid_0's ndcg@10: 0.575624\tvalid_0's ndcg@20: 0.606309\n",
      "[146]\tvalid_0's ndcg@5: 0.559334\tvalid_0's ndcg@10: 0.575707\tvalid_0's ndcg@20: 0.606638\n",
      "[147]\tvalid_0's ndcg@5: 0.559467\tvalid_0's ndcg@10: 0.57594\tvalid_0's ndcg@20: 0.606572\n",
      "[148]\tvalid_0's ndcg@5: 0.558932\tvalid_0's ndcg@10: 0.576089\tvalid_0's ndcg@20: 0.60656\n",
      "[149]\tvalid_0's ndcg@5: 0.559035\tvalid_0's ndcg@10: 0.576224\tvalid_0's ndcg@20: 0.606792\n",
      "[150]\tvalid_0's ndcg@5: 0.559086\tvalid_0's ndcg@10: 0.576149\tvalid_0's ndcg@20: 0.606765\n",
      "[151]\tvalid_0's ndcg@5: 0.559108\tvalid_0's ndcg@10: 0.576175\tvalid_0's ndcg@20: 0.606793\n",
      "[152]\tvalid_0's ndcg@5: 0.558829\tvalid_0's ndcg@10: 0.576127\tvalid_0's ndcg@20: 0.606697\n",
      "[153]\tvalid_0's ndcg@5: 0.558829\tvalid_0's ndcg@10: 0.576108\tvalid_0's ndcg@20: 0.606656\n",
      "[154]\tvalid_0's ndcg@5: 0.558829\tvalid_0's ndcg@10: 0.575962\tvalid_0's ndcg@20: 0.60674\n",
      "[155]\tvalid_0's ndcg@5: 0.558536\tvalid_0's ndcg@10: 0.57542\tvalid_0's ndcg@20: 0.606445\n",
      "[156]\tvalid_0's ndcg@5: 0.558485\tvalid_0's ndcg@10: 0.575568\tvalid_0's ndcg@20: 0.606501\n",
      "[157]\tvalid_0's ndcg@5: 0.558493\tvalid_0's ndcg@10: 0.575707\tvalid_0's ndcg@20: 0.606299\n",
      "[158]\tvalid_0's ndcg@5: 0.558678\tvalid_0's ndcg@10: 0.575947\tvalid_0's ndcg@20: 0.606434\n",
      "[159]\tvalid_0's ndcg@5: 0.558346\tvalid_0's ndcg@10: 0.575768\tvalid_0's ndcg@20: 0.606408\n"
     ]
    },
    {
     "data": {
      "text/html": [
       "<style>#sk-container-id-1 {color: black;background-color: white;}#sk-container-id-1 pre{padding: 0;}#sk-container-id-1 div.sk-toggleable {background-color: white;}#sk-container-id-1 label.sk-toggleable__label {cursor: pointer;display: block;width: 100%;margin-bottom: 0;padding: 0.3em;box-sizing: border-box;text-align: center;}#sk-container-id-1 label.sk-toggleable__label-arrow:before {content: \"▸\";float: left;margin-right: 0.25em;color: #696969;}#sk-container-id-1 label.sk-toggleable__label-arrow:hover:before {color: black;}#sk-container-id-1 div.sk-estimator:hover label.sk-toggleable__label-arrow:before {color: black;}#sk-container-id-1 div.sk-toggleable__content {max-height: 0;max-width: 0;overflow: hidden;text-align: left;background-color: #f0f8ff;}#sk-container-id-1 div.sk-toggleable__content pre {margin: 0.2em;color: black;border-radius: 0.25em;background-color: #f0f8ff;}#sk-container-id-1 input.sk-toggleable__control:checked~div.sk-toggleable__content {max-height: 200px;max-width: 100%;overflow: auto;}#sk-container-id-1 input.sk-toggleable__control:checked~label.sk-toggleable__label-arrow:before {content: \"▾\";}#sk-container-id-1 div.sk-estimator input.sk-toggleable__control:checked~label.sk-toggleable__label {background-color: #d4ebff;}#sk-container-id-1 div.sk-label input.sk-toggleable__control:checked~label.sk-toggleable__label {background-color: #d4ebff;}#sk-container-id-1 input.sk-hidden--visually {border: 0;clip: rect(1px 1px 1px 1px);clip: rect(1px, 1px, 1px, 1px);height: 1px;margin: -1px;overflow: hidden;padding: 0;position: absolute;width: 1px;}#sk-container-id-1 div.sk-estimator {font-family: monospace;background-color: #f0f8ff;border: 1px dotted black;border-radius: 0.25em;box-sizing: border-box;margin-bottom: 0.5em;}#sk-container-id-1 div.sk-estimator:hover {background-color: #d4ebff;}#sk-container-id-1 div.sk-parallel-item::after {content: \"\";width: 100%;border-bottom: 1px solid gray;flex-grow: 1;}#sk-container-id-1 div.sk-label:hover label.sk-toggleable__label {background-color: #d4ebff;}#sk-container-id-1 div.sk-serial::before {content: \"\";position: absolute;border-left: 1px solid gray;box-sizing: border-box;top: 0;bottom: 0;left: 50%;z-index: 0;}#sk-container-id-1 div.sk-serial {display: flex;flex-direction: column;align-items: center;background-color: white;padding-right: 0.2em;padding-left: 0.2em;position: relative;}#sk-container-id-1 div.sk-item {position: relative;z-index: 1;}#sk-container-id-1 div.sk-parallel {display: flex;align-items: stretch;justify-content: center;background-color: white;position: relative;}#sk-container-id-1 div.sk-item::before, #sk-container-id-1 div.sk-parallel-item::before {content: \"\";position: absolute;border-left: 1px solid gray;box-sizing: border-box;top: 0;bottom: 0;left: 50%;z-index: -1;}#sk-container-id-1 div.sk-parallel-item {display: flex;flex-direction: column;z-index: 1;position: relative;background-color: white;}#sk-container-id-1 div.sk-parallel-item:first-child::after {align-self: flex-end;width: 50%;}#sk-container-id-1 div.sk-parallel-item:last-child::after {align-self: flex-start;width: 50%;}#sk-container-id-1 div.sk-parallel-item:only-child::after {width: 0;}#sk-container-id-1 div.sk-dashed-wrapped {border: 1px dashed gray;margin: 0 0.4em 0.5em 0.4em;box-sizing: border-box;padding-bottom: 0.4em;background-color: white;}#sk-container-id-1 div.sk-label label {font-family: monospace;font-weight: bold;display: inline-block;line-height: 1.2em;}#sk-container-id-1 div.sk-label-container {text-align: center;}#sk-container-id-1 div.sk-container {/* jupyter's `normalize.less` sets `[hidden] { display: none; }` but bootstrap.min.css set `[hidden] { display: none !important; }` so we also need the `!important` here to be able to override the default hidden behavior on the sphinx rendered scikit-learn.org. See: https://github.com/scikit-learn/scikit-learn/issues/21755 */display: inline-block !important;position: relative;}#sk-container-id-1 div.sk-text-repr-fallback {display: none;}</style><div id=\"sk-container-id-1\" class=\"sk-top-container\"><div class=\"sk-text-repr-fallback\"><pre>LGBMRanker(n_estimators=300)</pre><b>In a Jupyter environment, please rerun this cell to show the HTML representation or trust the notebook. <br />On GitHub, the HTML representation is unable to render, please try loading this page with nbviewer.org.</b></div><div class=\"sk-container\" hidden><div class=\"sk-item\"><div class=\"sk-estimator sk-toggleable\"><input class=\"sk-toggleable__control sk-hidden--visually\" id=\"sk-estimator-id-1\" type=\"checkbox\" checked><label for=\"sk-estimator-id-1\" class=\"sk-toggleable__label sk-toggleable__label-arrow\">LGBMRanker</label><div class=\"sk-toggleable__content\"><pre>LGBMRanker(n_estimators=300)</pre></div></div></div></div></div>"
      ],
      "text/plain": [
       "LGBMRanker(n_estimators=300)"
      ]
     },
     "execution_count": 16,
     "metadata": {},
     "output_type": "execute_result"
    }
   ],
   "source": [
    "ranker.fit(X_tr, y_tr, group=train_groups, \n",
    "           eval_set = [(X_val, y_val)], eval_group=[val_groups], \n",
    "           early_stopping_rounds=100, eval_at=(5, 10, 20))"
   ]
  },
  {
   "cell_type": "markdown",
   "id": "cdba9ad4",
   "metadata": {},
   "source": [
    "Важность признаков"
   ]
  },
  {
   "cell_type": "code",
   "execution_count": 18,
   "id": "13f98140",
   "metadata": {},
   "outputs": [
    {
     "data": {
      "text/plain": [
       "{'item_id': 1246,\n",
       " 49: 170,\n",
       " 47: 71,\n",
       " 48: 67,\n",
       " 46: 47,\n",
       " 45: 25,\n",
       " 43: 18,\n",
       " 44: 18,\n",
       " 39: 11,\n",
       " 42: 10,\n",
       " 30: 9,\n",
       " 40: 8,\n",
       " 41: 8,\n",
       " 35: 7,\n",
       " 21: 6,\n",
       " 36: 5,\n",
       " 6: 4,\n",
       " 32: 4,\n",
       " 33: 4,\n",
       " 'basket_date': 4,\n",
       " 12: 3,\n",
       " 20: 3,\n",
       " 28: 3,\n",
       " 34: 3,\n",
       " 38: 3,\n",
       " 5: 2,\n",
       " 25: 2,\n",
       " 31: 2,\n",
       " 37: 2,\n",
       " 4: 1,\n",
       " 9: 1,\n",
       " 15: 1,\n",
       " 23: 1,\n",
       " 29: 1,\n",
       " 0: 0,\n",
       " 1: 0,\n",
       " 2: 0,\n",
       " 3: 0,\n",
       " 7: 0,\n",
       " 8: 0,\n",
       " 10: 0,\n",
       " 11: 0,\n",
       " 13: 0,\n",
       " 14: 0,\n",
       " 16: 0,\n",
       " 17: 0,\n",
       " 18: 0,\n",
       " 19: 0,\n",
       " 22: 0,\n",
       " 24: 0,\n",
       " 26: 0,\n",
       " 27: 0}"
      ]
     },
     "execution_count": 18,
     "metadata": {},
     "output_type": "execute_result"
    }
   ],
   "source": [
    "dict(sorted(dict(zip(X_tr.columns, ranker.feature_importances_)).items(), key=lambda x:x[1],  reverse=True))"
   ]
  },
  {
   "cell_type": "code",
   "execution_count": 47,
   "id": "7d2783f1",
   "metadata": {},
   "outputs": [
    {
     "name": "stderr",
     "output_type": "stream",
     "text": [
      "C:\\Users\\dkidi\\AppData\\Local\\Temp\\ipykernel_20944\\3699646160.py:7: DeprecationWarning: `np.int` is a deprecated alias for the builtin `int`. To silence this warning, use `int` by itself. Doing this will not modify any behavior and is safe. When replacing `np.int`, you may wish to use e.g. `np.int64` or `np.int32` to specify the precision. If you wish to review your current use, check the release note link for additional information.\n",
      "Deprecated in NumPy 1.20; for more details and guidance: https://numpy.org/devdocs/release/1.20.0-notes.html#deprecations\n",
      "  if isinstance(col, (int, np.int,np.int32, np.int64)) else col for col in feature_names])\n"
     ]
    },
    {
     "data": {
      "image/png": "[encoded data removed]",
      "text/plain": [
       "<Figure size 1000x800 with 1 Axes>"
      ]
     },
     "metadata": {},
     "output_type": "display_data"
    }
   ],
   "source": [
    "plot_feature_importance(ranker.feature_importances_,X_tr.columns, 'Dunnhumby')"
   ]
  },
  {
   "cell_type": "code",
   "execution_count": 20,
   "id": "90529455",
   "metadata": {},
   "outputs": [
    {
     "name": "stdout",
     "output_type": "stream",
     "text": [
      "ROC AUC = 0.7802097038773024\n"
     ]
    },
    {
     "name": "stderr",
     "output_type": "stream",
     "text": [
      "C:\\Users\\dkidi\\AppData\\Local\\Temp\\ipykernel_20944\\870205799.py:4: FutureWarning: The behavior of .astype from SparseDtype to a non-sparse dtype is deprecated. In a future version, this will return a non-sparse array with the requested dtype. To retain the old behavior, use `obj.astype(SparseDtype(dtype))`\n",
      "  df['user_id'] = df['user_id'].astype('int64')\n",
      "C:\\Users\\dkidi\\AppData\\Local\\Temp\\ipykernel_20944\\870205799.py:11: FutureWarning: In a future version, passing a SparseArray to pd.Index will store that array directly instead of converting to a dense numpy ndarray. To retain the old behavior, use pd.Index(arr.to_numpy()) instead\n",
      "  res = df.groupby('user_id').agg({'item_id': list}).reset_index()\n"
     ]
    }
   ],
   "source": [
    "preds = ranker.predict(X_test)\n",
    "res = test[['user_id', 'item_id']].copy()\n",
    "res['preds_scores'] = preds\n",
    "result = predict(res, th = preds.min()-1)\n",
    "print(\"ROC AUC =\",roc_auc_score(y_test, preds))"
   ]
  },
  {
   "cell_type": "code",
   "execution_count": 21,
   "id": "3a71ef59",
   "metadata": {},
   "outputs": [
    {
     "name": "stdout",
     "output_type": "stream",
     "text": [
      "predictions ready 1224\n",
      "number of final test users: 1224\n",
      "5\n",
      "recall: 0.12755500097587327\n",
      "ndcg: 0.1908295409505633\n",
      "precision: 0.1715686274509804\n",
      "hitrate: 0.4861111111111111\n",
      "10\n",
      "recall: 0.16611214961907297\n",
      "ndcg: 0.1557118468659651\n",
      "precision: 0.1309640522875817\n",
      "hitrate: 0.565359477124183\n",
      "20\n",
      "recall: 0.21068938785789865\n",
      "ndcg: 0.12139431076231869\n",
      "precision: 0.09452614379084967\n",
      "hitrate: 0.6290849673202614\n",
      "B\n",
      "recall: 0.145893364101325\n",
      "ndcg: 0.16689151598718918\n",
      "precision: 0.145893364101325\n",
      "hitrate: 0.5122549019607843\n"
     ]
    }
   ],
   "source": [
    "calculate_metrics(path_test, result)"
   ]
  },
  {
   "cell_type": "markdown",
   "id": "f6c27efb",
   "metadata": {},
   "source": [
    "# Instacart"
   ]
  },
  {
   "cell_type": "code",
   "execution_count": 10,
   "id": "0e783d0c",
   "metadata": {
    "ExecuteTime": {
     "end_time": "2023-02-19T21:54:48.534935Z",
     "start_time": "2023-02-19T21:54:48.519944Z"
    }
   },
   "outputs": [],
   "source": [
    "dataset_name = 'instacart'"
   ]
  },
  {
   "cell_type": "code",
   "execution_count": 11,
   "id": "7056bd41",
   "metadata": {
    "ExecuteTime": {
     "end_time": "2023-02-19T21:54:48.550892Z",
     "start_time": "2023-02-19T21:54:48.535901Z"
    }
   },
   "outputs": [],
   "source": [
    "path_train = f'data/{dataset_name}/baskets/train_baskets_sample30k.csv'\n",
    "path_test = f'data/{dataset_name}/baskets/test_baskets_sample30k.csv'\n",
    "path_val = f'data/{dataset_name}/baskets/valid_baskets_sample30k.csv'"
   ]
  },
  {
   "cell_type": "code",
   "execution_count": 12,
   "id": "bd70d460",
   "metadata": {
    "ExecuteTime": {
     "end_time": "2023-02-19T22:36:03.099868Z",
     "start_time": "2023-02-19T22:35:32.304673Z"
    },
    "scrolled": true
   },
   "outputs": [
    {
     "name": "stdout",
     "output_type": "stream",
     "text": [
      "Total users: 26828\n",
      "Total items: 29396\n"
     ]
    }
   ],
   "source": [
    "dataset = Dataset(path_train,path_val, path_test, dataset=dataset_name, history_len=50, basket_len=50)"
   ]
  },
  {
   "cell_type": "code",
   "execution_count": 13,
   "id": "0b00b02f",
   "metadata": {
    "ExecuteTime": {
     "end_time": "2023-02-19T21:55:17.989920Z",
     "start_time": "2023-02-19T21:55:15.177148Z"
    }
   },
   "outputs": [
    {
     "name": "stdout",
     "output_type": "stream",
     "text": [
      "boosting/data/instacart/50_train.npz\n",
      "Done!\n",
      "boosting/data/instacart/50_val.npz\n",
      "Done!\n",
      "boosting/data/instacart/50_test.npz\n",
      "Done!\n"
     ]
    }
   ],
   "source": [
    "train = dataset.create_train_data()\n",
    "\n",
    "val = dataset.create_val_test_data(mode='val')\n",
    "\n",
    "test = dataset.create_val_test_data(mode='test')"
   ]
  },
  {
   "cell_type": "code",
   "execution_count": 14,
   "id": "5d017122",
   "metadata": {
    "ExecuteTime": {
     "end_time": "2023-02-19T21:55:18.333171Z",
     "start_time": "2023-02-19T21:55:18.319184Z"
    }
   },
   "outputs": [
    {
     "data": {
      "text/plain": [
       "((10528763, 55), (354470, 55), (348067, 55))"
      ]
     },
     "execution_count": 14,
     "metadata": {},
     "output_type": "execute_result"
    }
   ],
   "source": [
    "train.shape, val.shape, test.shape"
   ]
  },
  {
   "cell_type": "markdown",
   "id": "8625f4b1",
   "metadata": {},
   "source": [
    "## LGBM Ranker"
   ]
  },
  {
   "cell_type": "code",
   "execution_count": 15,
   "id": "273cc04a",
   "metadata": {},
   "outputs": [],
   "source": [
    "train = train.sort_values(by = 'basket_id')\n",
    "val = val.sort_values(by = 'basket_id')\n",
    "test = test.sort_values(by = 'basket_id')"
   ]
  },
  {
   "cell_type": "code",
   "execution_count": 16,
   "id": "20c7b7cf",
   "metadata": {},
   "outputs": [],
   "source": [
    "# функция для группировки при ранжировании\n",
    "get_group_size = lambda df: df.reset_index().groupby(\"basket_id\")['basket_id'].count()"
   ]
  },
  {
   "cell_type": "code",
   "execution_count": 17,
   "id": "f6955bf5",
   "metadata": {},
   "outputs": [],
   "source": [
    "# item_id - категориальная фича\n",
    "train['item_id'] = train['item_id'].sparse.to_dense().astype('category')\n",
    "val['item_id'] = val['item_id'].sparse.to_dense().astype('category')\n",
    "test['item_id'] = test['item_id'].sparse.to_dense().astype('category')\n",
    "# basket_id в int для правильной группировки\n",
    "train['basket_id'] = train['basket_id'].sparse.to_dense().astype('int')\n",
    "val['basket_id'] = val['basket_id'].sparse.to_dense().astype('int')\n",
    "test['basket_id'] = test['basket_id'].sparse.to_dense().astype('int')"
   ]
  },
  {
   "cell_type": "code",
   "execution_count": 18,
   "id": "ea7c60a1",
   "metadata": {},
   "outputs": [],
   "source": [
    "train_groups = get_group_size(train)\n",
    "val_groups = get_group_size(val)"
   ]
  },
  {
   "cell_type": "code",
   "execution_count": 19,
   "id": "e40c4ab1",
   "metadata": {},
   "outputs": [],
   "source": [
    "X_tr, y_tr = train.drop(['user_id','labels', 'basket_id'], axis=1), train.labels, \n",
    "X_val, y_val = val.drop(['user_id','labels', 'basket_id'], axis=1), val.labels\n",
    "X_test, y_test = test.drop(['user_id','labels', 'basket_id'], axis=1), test.labels"
   ]
  },
  {
   "cell_type": "code",
   "execution_count": null,
   "id": "3e1a3a57",
   "metadata": {},
   "outputs": [],
   "source": [
    "#reg_alpha, reg_lambda, num_leaves"
   ]
  },
  {
   "cell_type": "code",
   "execution_count": 70,
   "id": "d1f7e309",
   "metadata": {},
   "outputs": [],
   "source": [
    "ranker = LGBMRanker(n_estimators=300, reg_alpha=0.2, reg_lambda=0.2)"
   ]
  },
  {
   "cell_type": "code",
   "execution_count": 71,
   "id": "a3151710",
   "metadata": {},
   "outputs": [
    {
     "name": "stdout",
     "output_type": "stream",
     "text": [
      "[1]\tvalid_0's ndcg@5: 0.665712\tvalid_0's ndcg@10: 0.705805\tvalid_0's ndcg@20: 0.749191\n",
      "[2]\tvalid_0's ndcg@5: 0.674779\tvalid_0's ndcg@10: 0.712402\tvalid_0's ndcg@20: 0.755385\n",
      "[3]\tvalid_0's ndcg@5: 0.676367\tvalid_0's ndcg@10: 0.713666\tvalid_0's ndcg@20: 0.756558\n",
      "[4]\tvalid_0's ndcg@5: 0.676117\tvalid_0's ndcg@10: 0.713428\tvalid_0's ndcg@20: 0.756389\n",
      "[5]\tvalid_0's ndcg@5: 0.677423\tvalid_0's ndcg@10: 0.714688\tvalid_0's ndcg@20: 0.757082\n",
      "[6]\tvalid_0's ndcg@5: 0.677776\tvalid_0's ndcg@10: 0.714866\tvalid_0's ndcg@20: 0.757496\n",
      "[7]\tvalid_0's ndcg@5: 0.678195\tvalid_0's ndcg@10: 0.715112\tvalid_0's ndcg@20: 0.757602\n",
      "[8]\tvalid_0's ndcg@5: 0.678542\tvalid_0's ndcg@10: 0.715185\tvalid_0's ndcg@20: 0.757873\n",
      "[9]\tvalid_0's ndcg@5: 0.678484\tvalid_0's ndcg@10: 0.715311\tvalid_0's ndcg@20: 0.75803\n",
      "[10]\tvalid_0's ndcg@5: 0.679044\tvalid_0's ndcg@10: 0.715786\tvalid_0's ndcg@20: 0.758299\n",
      "[11]\tvalid_0's ndcg@5: 0.679295\tvalid_0's ndcg@10: 0.716059\tvalid_0's ndcg@20: 0.758442\n",
      "[12]\tvalid_0's ndcg@5: 0.679612\tvalid_0's ndcg@10: 0.716184\tvalid_0's ndcg@20: 0.758585\n",
      "[13]\tvalid_0's ndcg@5: 0.679272\tvalid_0's ndcg@10: 0.716322\tvalid_0's ndcg@20: 0.758606\n",
      "[14]\tvalid_0's ndcg@5: 0.679128\tvalid_0's ndcg@10: 0.71638\tvalid_0's ndcg@20: 0.758616\n",
      "[15]\tvalid_0's ndcg@5: 0.679421\tvalid_0's ndcg@10: 0.716264\tvalid_0's ndcg@20: 0.758676\n",
      "[16]\tvalid_0's ndcg@5: 0.679343\tvalid_0's ndcg@10: 0.716401\tvalid_0's ndcg@20: 0.758661\n",
      "[17]\tvalid_0's ndcg@5: 0.679469\tvalid_0's ndcg@10: 0.716442\tvalid_0's ndcg@20: 0.758784\n",
      "[18]\tvalid_0's ndcg@5: 0.679389\tvalid_0's ndcg@10: 0.716246\tvalid_0's ndcg@20: 0.758637\n",
      "[19]\tvalid_0's ndcg@5: 0.679551\tvalid_0's ndcg@10: 0.716413\tvalid_0's ndcg@20: 0.758839\n",
      "[20]\tvalid_0's ndcg@5: 0.679597\tvalid_0's ndcg@10: 0.716536\tvalid_0's ndcg@20: 0.758925\n",
      "[21]\tvalid_0's ndcg@5: 0.679696\tvalid_0's ndcg@10: 0.716567\tvalid_0's ndcg@20: 0.759041\n",
      "[22]\tvalid_0's ndcg@5: 0.679837\tvalid_0's ndcg@10: 0.716752\tvalid_0's ndcg@20: 0.759173\n",
      "[23]\tvalid_0's ndcg@5: 0.679835\tvalid_0's ndcg@10: 0.716703\tvalid_0's ndcg@20: 0.759153\n",
      "[24]\tvalid_0's ndcg@5: 0.679957\tvalid_0's ndcg@10: 0.716895\tvalid_0's ndcg@20: 0.759306\n",
      "[25]\tvalid_0's ndcg@5: 0.680138\tvalid_0's ndcg@10: 0.717021\tvalid_0's ndcg@20: 0.759306\n",
      "[26]\tvalid_0's ndcg@5: 0.680375\tvalid_0's ndcg@10: 0.717078\tvalid_0's ndcg@20: 0.759428\n",
      "[27]\tvalid_0's ndcg@5: 0.680621\tvalid_0's ndcg@10: 0.717249\tvalid_0's ndcg@20: 0.759547\n",
      "[28]\tvalid_0's ndcg@5: 0.6808\tvalid_0's ndcg@10: 0.71738\tvalid_0's ndcg@20: 0.759729\n",
      "[29]\tvalid_0's ndcg@5: 0.681103\tvalid_0's ndcg@10: 0.717539\tvalid_0's ndcg@20: 0.759913\n",
      "[30]\tvalid_0's ndcg@5: 0.681011\tvalid_0's ndcg@10: 0.717748\tvalid_0's ndcg@20: 0.759999\n",
      "[31]\tvalid_0's ndcg@5: 0.680903\tvalid_0's ndcg@10: 0.717639\tvalid_0's ndcg@20: 0.759949\n",
      "[32]\tvalid_0's ndcg@5: 0.681062\tvalid_0's ndcg@10: 0.71787\tvalid_0's ndcg@20: 0.760162\n",
      "[33]\tvalid_0's ndcg@5: 0.681266\tvalid_0's ndcg@10: 0.718073\tvalid_0's ndcg@20: 0.760298\n",
      "[34]\tvalid_0's ndcg@5: 0.681452\tvalid_0's ndcg@10: 0.718309\tvalid_0's ndcg@20: 0.760545\n",
      "[35]\tvalid_0's ndcg@5: 0.68172\tvalid_0's ndcg@10: 0.718333\tvalid_0's ndcg@20: 0.760604\n",
      "[36]\tvalid_0's ndcg@5: 0.681598\tvalid_0's ndcg@10: 0.718278\tvalid_0's ndcg@20: 0.760619\n",
      "[37]\tvalid_0's ndcg@5: 0.681909\tvalid_0's ndcg@10: 0.71854\tvalid_0's ndcg@20: 0.760755\n",
      "[38]\tvalid_0's ndcg@5: 0.681857\tvalid_0's ndcg@10: 0.718601\tvalid_0's ndcg@20: 0.760819\n",
      "[39]\tvalid_0's ndcg@5: 0.681766\tvalid_0's ndcg@10: 0.718527\tvalid_0's ndcg@20: 0.760776\n",
      "[40]\tvalid_0's ndcg@5: 0.682032\tvalid_0's ndcg@10: 0.718898\tvalid_0's ndcg@20: 0.761059\n",
      "[41]\tvalid_0's ndcg@5: 0.681948\tvalid_0's ndcg@10: 0.718988\tvalid_0's ndcg@20: 0.761102\n",
      "[42]\tvalid_0's ndcg@5: 0.682059\tvalid_0's ndcg@10: 0.719076\tvalid_0's ndcg@20: 0.761179\n",
      "[43]\tvalid_0's ndcg@5: 0.681945\tvalid_0's ndcg@10: 0.719049\tvalid_0's ndcg@20: 0.761107\n",
      "[44]\tvalid_0's ndcg@5: 0.682061\tvalid_0's ndcg@10: 0.71907\tvalid_0's ndcg@20: 0.761173\n",
      "[45]\tvalid_0's ndcg@5: 0.68213\tvalid_0's ndcg@10: 0.719079\tvalid_0's ndcg@20: 0.76119\n",
      "[46]\tvalid_0's ndcg@5: 0.682136\tvalid_0's ndcg@10: 0.719058\tvalid_0's ndcg@20: 0.761202\n",
      "[47]\tvalid_0's ndcg@5: 0.682311\tvalid_0's ndcg@10: 0.719324\tvalid_0's ndcg@20: 0.761367\n",
      "[48]\tvalid_0's ndcg@5: 0.682586\tvalid_0's ndcg@10: 0.719308\tvalid_0's ndcg@20: 0.76145\n",
      "[49]\tvalid_0's ndcg@5: 0.682487\tvalid_0's ndcg@10: 0.719195\tvalid_0's ndcg@20: 0.761395\n",
      "[50]\tvalid_0's ndcg@5: 0.682459\tvalid_0's ndcg@10: 0.719185\tvalid_0's ndcg@20: 0.761418\n",
      "[51]\tvalid_0's ndcg@5: 0.682487\tvalid_0's ndcg@10: 0.719259\tvalid_0's ndcg@20: 0.761488\n",
      "[52]\tvalid_0's ndcg@5: 0.682512\tvalid_0's ndcg@10: 0.719329\tvalid_0's ndcg@20: 0.761531\n",
      "[53]\tvalid_0's ndcg@5: 0.682601\tvalid_0's ndcg@10: 0.719371\tvalid_0's ndcg@20: 0.761614\n",
      "[54]\tvalid_0's ndcg@5: 0.68256\tvalid_0's ndcg@10: 0.719414\tvalid_0's ndcg@20: 0.761624\n",
      "[55]\tvalid_0's ndcg@5: 0.682547\tvalid_0's ndcg@10: 0.719511\tvalid_0's ndcg@20: 0.761631\n",
      "[56]\tvalid_0's ndcg@5: 0.682645\tvalid_0's ndcg@10: 0.719697\tvalid_0's ndcg@20: 0.761725\n",
      "[57]\tvalid_0's ndcg@5: 0.682615\tvalid_0's ndcg@10: 0.719651\tvalid_0's ndcg@20: 0.761762\n",
      "[58]\tvalid_0's ndcg@5: 0.682661\tvalid_0's ndcg@10: 0.719577\tvalid_0's ndcg@20: 0.761704\n",
      "[59]\tvalid_0's ndcg@5: 0.68286\tvalid_0's ndcg@10: 0.71975\tvalid_0's ndcg@20: 0.761891\n",
      "[60]\tvalid_0's ndcg@5: 0.683002\tvalid_0's ndcg@10: 0.719848\tvalid_0's ndcg@20: 0.761971\n",
      "[61]\tvalid_0's ndcg@5: 0.682945\tvalid_0's ndcg@10: 0.719755\tvalid_0's ndcg@20: 0.761931\n",
      "[62]\tvalid_0's ndcg@5: 0.682918\tvalid_0's ndcg@10: 0.719729\tvalid_0's ndcg@20: 0.761943\n",
      "[63]\tvalid_0's ndcg@5: 0.682875\tvalid_0's ndcg@10: 0.719603\tvalid_0's ndcg@20: 0.761867\n",
      "[64]\tvalid_0's ndcg@5: 0.682976\tvalid_0's ndcg@10: 0.719594\tvalid_0's ndcg@20: 0.761875\n",
      "[65]\tvalid_0's ndcg@5: 0.68291\tvalid_0's ndcg@10: 0.719554\tvalid_0's ndcg@20: 0.761898\n",
      "[66]\tvalid_0's ndcg@5: 0.682982\tvalid_0's ndcg@10: 0.719585\tvalid_0's ndcg@20: 0.761917\n",
      "[67]\tvalid_0's ndcg@5: 0.682964\tvalid_0's ndcg@10: 0.719633\tvalid_0's ndcg@20: 0.761931\n",
      "[68]\tvalid_0's ndcg@5: 0.682925\tvalid_0's ndcg@10: 0.719713\tvalid_0's ndcg@20: 0.761903\n",
      "[69]\tvalid_0's ndcg@5: 0.683047\tvalid_0's ndcg@10: 0.719818\tvalid_0's ndcg@20: 0.762062\n",
      "[70]\tvalid_0's ndcg@5: 0.683061\tvalid_0's ndcg@10: 0.719787\tvalid_0's ndcg@20: 0.762072\n",
      "[71]\tvalid_0's ndcg@5: 0.683168\tvalid_0's ndcg@10: 0.719846\tvalid_0's ndcg@20: 0.762085\n",
      "[72]\tvalid_0's ndcg@5: 0.683214\tvalid_0's ndcg@10: 0.719971\tvalid_0's ndcg@20: 0.762177\n",
      "[73]\tvalid_0's ndcg@5: 0.683497\tvalid_0's ndcg@10: 0.719997\tvalid_0's ndcg@20: 0.762308\n",
      "[74]\tvalid_0's ndcg@5: 0.683622\tvalid_0's ndcg@10: 0.720048\tvalid_0's ndcg@20: 0.762322\n",
      "[75]\tvalid_0's ndcg@5: 0.683625\tvalid_0's ndcg@10: 0.720149\tvalid_0's ndcg@20: 0.762345\n",
      "[76]\tvalid_0's ndcg@5: 0.683662\tvalid_0's ndcg@10: 0.720129\tvalid_0's ndcg@20: 0.762358\n",
      "[77]\tvalid_0's ndcg@5: 0.683601\tvalid_0's ndcg@10: 0.720051\tvalid_0's ndcg@20: 0.762257\n",
      "[78]\tvalid_0's ndcg@5: 0.683589\tvalid_0's ndcg@10: 0.720093\tvalid_0's ndcg@20: 0.762206\n",
      "[79]\tvalid_0's ndcg@5: 0.683754\tvalid_0's ndcg@10: 0.720334\tvalid_0's ndcg@20: 0.762329\n",
      "[80]\tvalid_0's ndcg@5: 0.683908\tvalid_0's ndcg@10: 0.720379\tvalid_0's ndcg@20: 0.762433\n",
      "[81]\tvalid_0's ndcg@5: 0.683912\tvalid_0's ndcg@10: 0.720395\tvalid_0's ndcg@20: 0.762436\n",
      "[82]\tvalid_0's ndcg@5: 0.683921\tvalid_0's ndcg@10: 0.720423\tvalid_0's ndcg@20: 0.762399\n",
      "[83]\tvalid_0's ndcg@5: 0.684098\tvalid_0's ndcg@10: 0.720533\tvalid_0's ndcg@20: 0.762482\n",
      "[84]\tvalid_0's ndcg@5: 0.684103\tvalid_0's ndcg@10: 0.720504\tvalid_0's ndcg@20: 0.762462\n",
      "[85]\tvalid_0's ndcg@5: 0.684168\tvalid_0's ndcg@10: 0.720555\tvalid_0's ndcg@20: 0.762533\n",
      "[86]\tvalid_0's ndcg@5: 0.684264\tvalid_0's ndcg@10: 0.720699\tvalid_0's ndcg@20: 0.762626\n",
      "[87]\tvalid_0's ndcg@5: 0.684606\tvalid_0's ndcg@10: 0.720884\tvalid_0's ndcg@20: 0.762805\n",
      "[88]\tvalid_0's ndcg@5: 0.684629\tvalid_0's ndcg@10: 0.720859\tvalid_0's ndcg@20: 0.762882\n",
      "[89]\tvalid_0's ndcg@5: 0.684607\tvalid_0's ndcg@10: 0.720902\tvalid_0's ndcg@20: 0.762891\n",
      "[90]\tvalid_0's ndcg@5: 0.684583\tvalid_0's ndcg@10: 0.721011\tvalid_0's ndcg@20: 0.762971\n",
      "[91]\tvalid_0's ndcg@5: 0.68453\tvalid_0's ndcg@10: 0.720969\tvalid_0's ndcg@20: 0.762929\n",
      "[92]\tvalid_0's ndcg@5: 0.684495\tvalid_0's ndcg@10: 0.720909\tvalid_0's ndcg@20: 0.762922\n",
      "[93]\tvalid_0's ndcg@5: 0.684601\tvalid_0's ndcg@10: 0.721109\tvalid_0's ndcg@20: 0.763057\n",
      "[94]\tvalid_0's ndcg@5: 0.68456\tvalid_0's ndcg@10: 0.721032\tvalid_0's ndcg@20: 0.763026\n"
     ]
    },
    {
     "name": "stdout",
     "output_type": "stream",
     "text": [
      "[95]\tvalid_0's ndcg@5: 0.684568\tvalid_0's ndcg@10: 0.721001\tvalid_0's ndcg@20: 0.763\n",
      "[96]\tvalid_0's ndcg@5: 0.684594\tvalid_0's ndcg@10: 0.720962\tvalid_0's ndcg@20: 0.762981\n",
      "[97]\tvalid_0's ndcg@5: 0.684642\tvalid_0's ndcg@10: 0.720945\tvalid_0's ndcg@20: 0.762976\n",
      "[98]\tvalid_0's ndcg@5: 0.684687\tvalid_0's ndcg@10: 0.720968\tvalid_0's ndcg@20: 0.763049\n",
      "[99]\tvalid_0's ndcg@5: 0.684701\tvalid_0's ndcg@10: 0.721007\tvalid_0's ndcg@20: 0.763062\n",
      "[100]\tvalid_0's ndcg@5: 0.684698\tvalid_0's ndcg@10: 0.721033\tvalid_0's ndcg@20: 0.763035\n",
      "[101]\tvalid_0's ndcg@5: 0.684725\tvalid_0's ndcg@10: 0.721066\tvalid_0's ndcg@20: 0.763062\n",
      "[102]\tvalid_0's ndcg@5: 0.684774\tvalid_0's ndcg@10: 0.721134\tvalid_0's ndcg@20: 0.763082\n",
      "[103]\tvalid_0's ndcg@5: 0.684806\tvalid_0's ndcg@10: 0.721099\tvalid_0's ndcg@20: 0.763074\n",
      "[104]\tvalid_0's ndcg@5: 0.684776\tvalid_0's ndcg@10: 0.721129\tvalid_0's ndcg@20: 0.763025\n",
      "[105]\tvalid_0's ndcg@5: 0.684765\tvalid_0's ndcg@10: 0.72116\tvalid_0's ndcg@20: 0.763099\n",
      "[106]\tvalid_0's ndcg@5: 0.684846\tvalid_0's ndcg@10: 0.721218\tvalid_0's ndcg@20: 0.763171\n",
      "[107]\tvalid_0's ndcg@5: 0.684977\tvalid_0's ndcg@10: 0.721261\tvalid_0's ndcg@20: 0.7632\n",
      "[108]\tvalid_0's ndcg@5: 0.684939\tvalid_0's ndcg@10: 0.721251\tvalid_0's ndcg@20: 0.763147\n",
      "[109]\tvalid_0's ndcg@5: 0.684948\tvalid_0's ndcg@10: 0.721271\tvalid_0's ndcg@20: 0.763181\n",
      "[110]\tvalid_0's ndcg@5: 0.684957\tvalid_0's ndcg@10: 0.721253\tvalid_0's ndcg@20: 0.763176\n",
      "[111]\tvalid_0's ndcg@5: 0.684885\tvalid_0's ndcg@10: 0.721184\tvalid_0's ndcg@20: 0.763177\n",
      "[112]\tvalid_0's ndcg@5: 0.684845\tvalid_0's ndcg@10: 0.72123\tvalid_0's ndcg@20: 0.763195\n",
      "[113]\tvalid_0's ndcg@5: 0.68483\tvalid_0's ndcg@10: 0.721166\tvalid_0's ndcg@20: 0.76315\n",
      "[114]\tvalid_0's ndcg@5: 0.684838\tvalid_0's ndcg@10: 0.721153\tvalid_0's ndcg@20: 0.763147\n",
      "[115]\tvalid_0's ndcg@5: 0.684899\tvalid_0's ndcg@10: 0.7211\tvalid_0's ndcg@20: 0.763139\n",
      "[116]\tvalid_0's ndcg@5: 0.684742\tvalid_0's ndcg@10: 0.721064\tvalid_0's ndcg@20: 0.763107\n",
      "[117]\tvalid_0's ndcg@5: 0.684561\tvalid_0's ndcg@10: 0.720998\tvalid_0's ndcg@20: 0.763047\n",
      "[118]\tvalid_0's ndcg@5: 0.684587\tvalid_0's ndcg@10: 0.721005\tvalid_0's ndcg@20: 0.763072\n",
      "[119]\tvalid_0's ndcg@5: 0.684401\tvalid_0's ndcg@10: 0.720999\tvalid_0's ndcg@20: 0.763057\n",
      "[120]\tvalid_0's ndcg@5: 0.684408\tvalid_0's ndcg@10: 0.721035\tvalid_0's ndcg@20: 0.763081\n",
      "[121]\tvalid_0's ndcg@5: 0.684496\tvalid_0's ndcg@10: 0.720992\tvalid_0's ndcg@20: 0.763037\n",
      "[122]\tvalid_0's ndcg@5: 0.684411\tvalid_0's ndcg@10: 0.720921\tvalid_0's ndcg@20: 0.762954\n",
      "[123]\tvalid_0's ndcg@5: 0.684432\tvalid_0's ndcg@10: 0.720907\tvalid_0's ndcg@20: 0.762937\n",
      "[124]\tvalid_0's ndcg@5: 0.68444\tvalid_0's ndcg@10: 0.720934\tvalid_0's ndcg@20: 0.762985\n",
      "[125]\tvalid_0's ndcg@5: 0.684523\tvalid_0's ndcg@10: 0.72095\tvalid_0's ndcg@20: 0.763015\n",
      "[126]\tvalid_0's ndcg@5: 0.684517\tvalid_0's ndcg@10: 0.720904\tvalid_0's ndcg@20: 0.762957\n",
      "[127]\tvalid_0's ndcg@5: 0.684554\tvalid_0's ndcg@10: 0.720921\tvalid_0's ndcg@20: 0.762971\n",
      "[128]\tvalid_0's ndcg@5: 0.684552\tvalid_0's ndcg@10: 0.720918\tvalid_0's ndcg@20: 0.762984\n",
      "[129]\tvalid_0's ndcg@5: 0.68453\tvalid_0's ndcg@10: 0.720888\tvalid_0's ndcg@20: 0.762999\n",
      "[130]\tvalid_0's ndcg@5: 0.684613\tvalid_0's ndcg@10: 0.720906\tvalid_0's ndcg@20: 0.762994\n",
      "[131]\tvalid_0's ndcg@5: 0.684759\tvalid_0's ndcg@10: 0.721087\tvalid_0's ndcg@20: 0.763085\n",
      "[132]\tvalid_0's ndcg@5: 0.684809\tvalid_0's ndcg@10: 0.721068\tvalid_0's ndcg@20: 0.763062\n",
      "[133]\tvalid_0's ndcg@5: 0.684881\tvalid_0's ndcg@10: 0.721138\tvalid_0's ndcg@20: 0.763102\n",
      "[134]\tvalid_0's ndcg@5: 0.68482\tvalid_0's ndcg@10: 0.721103\tvalid_0's ndcg@20: 0.763095\n",
      "[135]\tvalid_0's ndcg@5: 0.684739\tvalid_0's ndcg@10: 0.721081\tvalid_0's ndcg@20: 0.763076\n",
      "[136]\tvalid_0's ndcg@5: 0.684609\tvalid_0's ndcg@10: 0.721192\tvalid_0's ndcg@20: 0.763095\n",
      "[137]\tvalid_0's ndcg@5: 0.684613\tvalid_0's ndcg@10: 0.721241\tvalid_0's ndcg@20: 0.763084\n",
      "[138]\tvalid_0's ndcg@5: 0.684672\tvalid_0's ndcg@10: 0.721247\tvalid_0's ndcg@20: 0.763098\n",
      "[139]\tvalid_0's ndcg@5: 0.684639\tvalid_0's ndcg@10: 0.721272\tvalid_0's ndcg@20: 0.763111\n",
      "[140]\tvalid_0's ndcg@5: 0.684607\tvalid_0's ndcg@10: 0.721263\tvalid_0's ndcg@20: 0.76312\n",
      "[141]\tvalid_0's ndcg@5: 0.684637\tvalid_0's ndcg@10: 0.721279\tvalid_0's ndcg@20: 0.763103\n",
      "[142]\tvalid_0's ndcg@5: 0.684625\tvalid_0's ndcg@10: 0.721279\tvalid_0's ndcg@20: 0.763098\n",
      "[143]\tvalid_0's ndcg@5: 0.684674\tvalid_0's ndcg@10: 0.721209\tvalid_0's ndcg@20: 0.763085\n",
      "[144]\tvalid_0's ndcg@5: 0.684623\tvalid_0's ndcg@10: 0.721139\tvalid_0's ndcg@20: 0.76302\n",
      "[145]\tvalid_0's ndcg@5: 0.684602\tvalid_0's ndcg@10: 0.721111\tvalid_0's ndcg@20: 0.762982\n",
      "[146]\tvalid_0's ndcg@5: 0.684597\tvalid_0's ndcg@10: 0.721115\tvalid_0's ndcg@20: 0.76298\n",
      "[147]\tvalid_0's ndcg@5: 0.68453\tvalid_0's ndcg@10: 0.721101\tvalid_0's ndcg@20: 0.762945\n",
      "[148]\tvalid_0's ndcg@5: 0.684548\tvalid_0's ndcg@10: 0.721145\tvalid_0's ndcg@20: 0.763007\n",
      "[149]\tvalid_0's ndcg@5: 0.684481\tvalid_0's ndcg@10: 0.721085\tvalid_0's ndcg@20: 0.762942\n",
      "[150]\tvalid_0's ndcg@5: 0.684486\tvalid_0's ndcg@10: 0.721126\tvalid_0's ndcg@20: 0.762967\n",
      "[151]\tvalid_0's ndcg@5: 0.68457\tvalid_0's ndcg@10: 0.721164\tvalid_0's ndcg@20: 0.76302\n",
      "[152]\tvalid_0's ndcg@5: 0.684604\tvalid_0's ndcg@10: 0.721147\tvalid_0's ndcg@20: 0.763037\n",
      "[153]\tvalid_0's ndcg@5: 0.684709\tvalid_0's ndcg@10: 0.721209\tvalid_0's ndcg@20: 0.763104\n",
      "[154]\tvalid_0's ndcg@5: 0.684738\tvalid_0's ndcg@10: 0.721201\tvalid_0's ndcg@20: 0.763128\n",
      "[155]\tvalid_0's ndcg@5: 0.684693\tvalid_0's ndcg@10: 0.721238\tvalid_0's ndcg@20: 0.763149\n",
      "[156]\tvalid_0's ndcg@5: 0.684728\tvalid_0's ndcg@10: 0.721286\tvalid_0's ndcg@20: 0.763193\n",
      "[157]\tvalid_0's ndcg@5: 0.68472\tvalid_0's ndcg@10: 0.721303\tvalid_0's ndcg@20: 0.763188\n",
      "[158]\tvalid_0's ndcg@5: 0.685\tvalid_0's ndcg@10: 0.721494\tvalid_0's ndcg@20: 0.763313\n",
      "[159]\tvalid_0's ndcg@5: 0.685029\tvalid_0's ndcg@10: 0.721457\tvalid_0's ndcg@20: 0.763358\n",
      "[160]\tvalid_0's ndcg@5: 0.684958\tvalid_0's ndcg@10: 0.721429\tvalid_0's ndcg@20: 0.763344\n",
      "[161]\tvalid_0's ndcg@5: 0.684945\tvalid_0's ndcg@10: 0.721443\tvalid_0's ndcg@20: 0.763354\n",
      "[162]\tvalid_0's ndcg@5: 0.684962\tvalid_0's ndcg@10: 0.721454\tvalid_0's ndcg@20: 0.763353\n",
      "[163]\tvalid_0's ndcg@5: 0.684892\tvalid_0's ndcg@10: 0.721379\tvalid_0's ndcg@20: 0.763323\n",
      "[164]\tvalid_0's ndcg@5: 0.684876\tvalid_0's ndcg@10: 0.721354\tvalid_0's ndcg@20: 0.76332\n",
      "[165]\tvalid_0's ndcg@5: 0.684835\tvalid_0's ndcg@10: 0.721315\tvalid_0's ndcg@20: 0.763278\n",
      "[166]\tvalid_0's ndcg@5: 0.684833\tvalid_0's ndcg@10: 0.72131\tvalid_0's ndcg@20: 0.763278\n",
      "[167]\tvalid_0's ndcg@5: 0.684841\tvalid_0's ndcg@10: 0.721313\tvalid_0's ndcg@20: 0.763279\n",
      "[168]\tvalid_0's ndcg@5: 0.684833\tvalid_0's ndcg@10: 0.72134\tvalid_0's ndcg@20: 0.763267\n",
      "[169]\tvalid_0's ndcg@5: 0.684817\tvalid_0's ndcg@10: 0.721299\tvalid_0's ndcg@20: 0.763237\n",
      "[170]\tvalid_0's ndcg@5: 0.684703\tvalid_0's ndcg@10: 0.721219\tvalid_0's ndcg@20: 0.763134\n",
      "[171]\tvalid_0's ndcg@5: 0.684638\tvalid_0's ndcg@10: 0.721216\tvalid_0's ndcg@20: 0.763103\n",
      "[172]\tvalid_0's ndcg@5: 0.684689\tvalid_0's ndcg@10: 0.721256\tvalid_0's ndcg@20: 0.763164\n",
      "[173]\tvalid_0's ndcg@5: 0.684642\tvalid_0's ndcg@10: 0.721267\tvalid_0's ndcg@20: 0.763162\n",
      "[174]\tvalid_0's ndcg@5: 0.684629\tvalid_0's ndcg@10: 0.72125\tvalid_0's ndcg@20: 0.763128\n",
      "[175]\tvalid_0's ndcg@5: 0.684648\tvalid_0's ndcg@10: 0.72127\tvalid_0's ndcg@20: 0.763149\n",
      "[176]\tvalid_0's ndcg@5: 0.684701\tvalid_0's ndcg@10: 0.721343\tvalid_0's ndcg@20: 0.763176\n",
      "[177]\tvalid_0's ndcg@5: 0.684606\tvalid_0's ndcg@10: 0.721269\tvalid_0's ndcg@20: 0.763119\n",
      "[178]\tvalid_0's ndcg@5: 0.684571\tvalid_0's ndcg@10: 0.721318\tvalid_0's ndcg@20: 0.763134\n",
      "[179]\tvalid_0's ndcg@5: 0.68474\tvalid_0's ndcg@10: 0.721463\tvalid_0's ndcg@20: 0.763229\n",
      "[180]\tvalid_0's ndcg@5: 0.684765\tvalid_0's ndcg@10: 0.721445\tvalid_0's ndcg@20: 0.763226\n",
      "[181]\tvalid_0's ndcg@5: 0.684748\tvalid_0's ndcg@10: 0.72145\tvalid_0's ndcg@20: 0.763264\n",
      "[182]\tvalid_0's ndcg@5: 0.684805\tvalid_0's ndcg@10: 0.721475\tvalid_0's ndcg@20: 0.763305\n",
      "[183]\tvalid_0's ndcg@5: 0.684839\tvalid_0's ndcg@10: 0.721524\tvalid_0's ndcg@20: 0.763346\n",
      "[184]\tvalid_0's ndcg@5: 0.684853\tvalid_0's ndcg@10: 0.721531\tvalid_0's ndcg@20: 0.763345\n",
      "[185]\tvalid_0's ndcg@5: 0.684817\tvalid_0's ndcg@10: 0.721497\tvalid_0's ndcg@20: 0.76333\n",
      "[186]\tvalid_0's ndcg@5: 0.68489\tvalid_0's ndcg@10: 0.721494\tvalid_0's ndcg@20: 0.763368\n",
      "[187]\tvalid_0's ndcg@5: 0.684887\tvalid_0's ndcg@10: 0.721501\tvalid_0's ndcg@20: 0.763369\n"
     ]
    },
    {
     "name": "stdout",
     "output_type": "stream",
     "text": [
      "[188]\tvalid_0's ndcg@5: 0.684889\tvalid_0's ndcg@10: 0.721483\tvalid_0's ndcg@20: 0.763379\n",
      "[189]\tvalid_0's ndcg@5: 0.684806\tvalid_0's ndcg@10: 0.721453\tvalid_0's ndcg@20: 0.763341\n",
      "[190]\tvalid_0's ndcg@5: 0.684805\tvalid_0's ndcg@10: 0.721462\tvalid_0's ndcg@20: 0.76335\n",
      "[191]\tvalid_0's ndcg@5: 0.684814\tvalid_0's ndcg@10: 0.721481\tvalid_0's ndcg@20: 0.763345\n",
      "[192]\tvalid_0's ndcg@5: 0.684786\tvalid_0's ndcg@10: 0.721521\tvalid_0's ndcg@20: 0.763358\n",
      "[193]\tvalid_0's ndcg@5: 0.684795\tvalid_0's ndcg@10: 0.721529\tvalid_0's ndcg@20: 0.763376\n",
      "[194]\tvalid_0's ndcg@5: 0.684731\tvalid_0's ndcg@10: 0.72149\tvalid_0's ndcg@20: 0.763354\n",
      "[195]\tvalid_0's ndcg@5: 0.684748\tvalid_0's ndcg@10: 0.721468\tvalid_0's ndcg@20: 0.763333\n",
      "[196]\tvalid_0's ndcg@5: 0.684725\tvalid_0's ndcg@10: 0.721493\tvalid_0's ndcg@20: 0.763345\n",
      "[197]\tvalid_0's ndcg@5: 0.684713\tvalid_0's ndcg@10: 0.721499\tvalid_0's ndcg@20: 0.763341\n",
      "[198]\tvalid_0's ndcg@5: 0.684682\tvalid_0's ndcg@10: 0.721491\tvalid_0's ndcg@20: 0.763315\n",
      "[199]\tvalid_0's ndcg@5: 0.6846\tvalid_0's ndcg@10: 0.721427\tvalid_0's ndcg@20: 0.763255\n",
      "[200]\tvalid_0's ndcg@5: 0.684685\tvalid_0's ndcg@10: 0.721503\tvalid_0's ndcg@20: 0.763329\n",
      "[201]\tvalid_0's ndcg@5: 0.684688\tvalid_0's ndcg@10: 0.721466\tvalid_0's ndcg@20: 0.76331\n",
      "[202]\tvalid_0's ndcg@5: 0.684647\tvalid_0's ndcg@10: 0.721448\tvalid_0's ndcg@20: 0.763283\n",
      "[203]\tvalid_0's ndcg@5: 0.684647\tvalid_0's ndcg@10: 0.721452\tvalid_0's ndcg@20: 0.763329\n",
      "[204]\tvalid_0's ndcg@5: 0.68466\tvalid_0's ndcg@10: 0.721435\tvalid_0's ndcg@20: 0.763313\n",
      "[205]\tvalid_0's ndcg@5: 0.684629\tvalid_0's ndcg@10: 0.72143\tvalid_0's ndcg@20: 0.763311\n",
      "[206]\tvalid_0's ndcg@5: 0.684659\tvalid_0's ndcg@10: 0.721444\tvalid_0's ndcg@20: 0.763304\n",
      "[207]\tvalid_0's ndcg@5: 0.684685\tvalid_0's ndcg@10: 0.721461\tvalid_0's ndcg@20: 0.763327\n",
      "[208]\tvalid_0's ndcg@5: 0.684598\tvalid_0's ndcg@10: 0.721423\tvalid_0's ndcg@20: 0.763311\n",
      "[209]\tvalid_0's ndcg@5: 0.684666\tvalid_0's ndcg@10: 0.721502\tvalid_0's ndcg@20: 0.763367\n",
      "[210]\tvalid_0's ndcg@5: 0.684601\tvalid_0's ndcg@10: 0.721379\tvalid_0's ndcg@20: 0.763314\n",
      "[211]\tvalid_0's ndcg@5: 0.684567\tvalid_0's ndcg@10: 0.721395\tvalid_0's ndcg@20: 0.763329\n",
      "[212]\tvalid_0's ndcg@5: 0.684568\tvalid_0's ndcg@10: 0.721392\tvalid_0's ndcg@20: 0.763302\n",
      "[213]\tvalid_0's ndcg@5: 0.684571\tvalid_0's ndcg@10: 0.721397\tvalid_0's ndcg@20: 0.763324\n",
      "[214]\tvalid_0's ndcg@5: 0.684519\tvalid_0's ndcg@10: 0.721342\tvalid_0's ndcg@20: 0.76326\n",
      "[215]\tvalid_0's ndcg@5: 0.684517\tvalid_0's ndcg@10: 0.721362\tvalid_0's ndcg@20: 0.763276\n",
      "[216]\tvalid_0's ndcg@5: 0.684524\tvalid_0's ndcg@10: 0.721371\tvalid_0's ndcg@20: 0.763261\n",
      "[217]\tvalid_0's ndcg@5: 0.684584\tvalid_0's ndcg@10: 0.721425\tvalid_0's ndcg@20: 0.763311\n",
      "[218]\tvalid_0's ndcg@5: 0.684547\tvalid_0's ndcg@10: 0.721424\tvalid_0's ndcg@20: 0.763301\n",
      "[219]\tvalid_0's ndcg@5: 0.684629\tvalid_0's ndcg@10: 0.721472\tvalid_0's ndcg@20: 0.763356\n",
      "[220]\tvalid_0's ndcg@5: 0.684625\tvalid_0's ndcg@10: 0.721451\tvalid_0's ndcg@20: 0.763324\n",
      "[221]\tvalid_0's ndcg@5: 0.684619\tvalid_0's ndcg@10: 0.721454\tvalid_0's ndcg@20: 0.763344\n",
      "[222]\tvalid_0's ndcg@5: 0.684607\tvalid_0's ndcg@10: 0.721402\tvalid_0's ndcg@20: 0.763346\n",
      "[223]\tvalid_0's ndcg@5: 0.684589\tvalid_0's ndcg@10: 0.72138\tvalid_0's ndcg@20: 0.76332\n",
      "[224]\tvalid_0's ndcg@5: 0.68446\tvalid_0's ndcg@10: 0.721322\tvalid_0's ndcg@20: 0.763264\n",
      "[225]\tvalid_0's ndcg@5: 0.684453\tvalid_0's ndcg@10: 0.721333\tvalid_0's ndcg@20: 0.76327\n",
      "[226]\tvalid_0's ndcg@5: 0.684446\tvalid_0's ndcg@10: 0.721347\tvalid_0's ndcg@20: 0.763294\n",
      "[227]\tvalid_0's ndcg@5: 0.684434\tvalid_0's ndcg@10: 0.721326\tvalid_0's ndcg@20: 0.76328\n",
      "[228]\tvalid_0's ndcg@5: 0.684491\tvalid_0's ndcg@10: 0.721374\tvalid_0's ndcg@20: 0.763316\n",
      "[229]\tvalid_0's ndcg@5: 0.684504\tvalid_0's ndcg@10: 0.721385\tvalid_0's ndcg@20: 0.763318\n",
      "[230]\tvalid_0's ndcg@5: 0.684559\tvalid_0's ndcg@10: 0.721406\tvalid_0's ndcg@20: 0.763326\n",
      "[231]\tvalid_0's ndcg@5: 0.684643\tvalid_0's ndcg@10: 0.721452\tvalid_0's ndcg@20: 0.763363\n",
      "[232]\tvalid_0's ndcg@5: 0.684626\tvalid_0's ndcg@10: 0.721445\tvalid_0's ndcg@20: 0.763339\n",
      "[233]\tvalid_0's ndcg@5: 0.684645\tvalid_0's ndcg@10: 0.721468\tvalid_0's ndcg@20: 0.763353\n",
      "[234]\tvalid_0's ndcg@5: 0.684623\tvalid_0's ndcg@10: 0.721461\tvalid_0's ndcg@20: 0.763356\n",
      "[235]\tvalid_0's ndcg@5: 0.684574\tvalid_0's ndcg@10: 0.721451\tvalid_0's ndcg@20: 0.763355\n",
      "[236]\tvalid_0's ndcg@5: 0.684551\tvalid_0's ndcg@10: 0.721435\tvalid_0's ndcg@20: 0.763347\n",
      "[237]\tvalid_0's ndcg@5: 0.684536\tvalid_0's ndcg@10: 0.721431\tvalid_0's ndcg@20: 0.763349\n",
      "[238]\tvalid_0's ndcg@5: 0.684575\tvalid_0's ndcg@10: 0.72145\tvalid_0's ndcg@20: 0.763366\n",
      "[239]\tvalid_0's ndcg@5: 0.684512\tvalid_0's ndcg@10: 0.721409\tvalid_0's ndcg@20: 0.763324\n",
      "[240]\tvalid_0's ndcg@5: 0.684533\tvalid_0's ndcg@10: 0.721421\tvalid_0's ndcg@20: 0.763332\n",
      "[241]\tvalid_0's ndcg@5: 0.684523\tvalid_0's ndcg@10: 0.721452\tvalid_0's ndcg@20: 0.763353\n",
      "[242]\tvalid_0's ndcg@5: 0.684502\tvalid_0's ndcg@10: 0.72145\tvalid_0's ndcg@20: 0.763351\n",
      "[243]\tvalid_0's ndcg@5: 0.684514\tvalid_0's ndcg@10: 0.721432\tvalid_0's ndcg@20: 0.76336\n",
      "[244]\tvalid_0's ndcg@5: 0.684519\tvalid_0's ndcg@10: 0.721431\tvalid_0's ndcg@20: 0.763367\n",
      "[245]\tvalid_0's ndcg@5: 0.684515\tvalid_0's ndcg@10: 0.721429\tvalid_0's ndcg@20: 0.763356\n",
      "[246]\tvalid_0's ndcg@5: 0.684519\tvalid_0's ndcg@10: 0.721445\tvalid_0's ndcg@20: 0.763362\n",
      "[247]\tvalid_0's ndcg@5: 0.684486\tvalid_0's ndcg@10: 0.721415\tvalid_0's ndcg@20: 0.763336\n",
      "[248]\tvalid_0's ndcg@5: 0.684386\tvalid_0's ndcg@10: 0.721331\tvalid_0's ndcg@20: 0.763244\n",
      "[249]\tvalid_0's ndcg@5: 0.684344\tvalid_0's ndcg@10: 0.721274\tvalid_0's ndcg@20: 0.763215\n",
      "[250]\tvalid_0's ndcg@5: 0.684376\tvalid_0's ndcg@10: 0.72132\tvalid_0's ndcg@20: 0.763266\n",
      "[251]\tvalid_0's ndcg@5: 0.684414\tvalid_0's ndcg@10: 0.721321\tvalid_0's ndcg@20: 0.763275\n",
      "[252]\tvalid_0's ndcg@5: 0.684433\tvalid_0's ndcg@10: 0.721346\tvalid_0's ndcg@20: 0.763292\n",
      "[253]\tvalid_0's ndcg@5: 0.684466\tvalid_0's ndcg@10: 0.721369\tvalid_0's ndcg@20: 0.763302\n",
      "[254]\tvalid_0's ndcg@5: 0.684465\tvalid_0's ndcg@10: 0.721369\tvalid_0's ndcg@20: 0.763313\n",
      "[255]\tvalid_0's ndcg@5: 0.684481\tvalid_0's ndcg@10: 0.721433\tvalid_0's ndcg@20: 0.763345\n",
      "[256]\tvalid_0's ndcg@5: 0.684519\tvalid_0's ndcg@10: 0.721416\tvalid_0's ndcg@20: 0.763334\n",
      "[257]\tvalid_0's ndcg@5: 0.684505\tvalid_0's ndcg@10: 0.721407\tvalid_0's ndcg@20: 0.763305\n",
      "[258]\tvalid_0's ndcg@5: 0.684485\tvalid_0's ndcg@10: 0.721373\tvalid_0's ndcg@20: 0.76328\n",
      "[259]\tvalid_0's ndcg@5: 0.684531\tvalid_0's ndcg@10: 0.72142\tvalid_0's ndcg@20: 0.763317\n"
     ]
    },
    {
     "data": {
      "text/html": [
       "<style>#sk-container-id-8 {color: black;background-color: white;}#sk-container-id-8 pre{padding: 0;}#sk-container-id-8 div.sk-toggleable {background-color: white;}#sk-container-id-8 label.sk-toggleable__label {cursor: pointer;display: block;width: 100%;margin-bottom: 0;padding: 0.3em;box-sizing: border-box;text-align: center;}#sk-container-id-8 label.sk-toggleable__label-arrow:before {content: \"▸\";float: left;margin-right: 0.25em;color: #696969;}#sk-container-id-8 label.sk-toggleable__label-arrow:hover:before {color: black;}#sk-container-id-8 div.sk-estimator:hover label.sk-toggleable__label-arrow:before {color: black;}#sk-container-id-8 div.sk-toggleable__content {max-height: 0;max-width: 0;overflow: hidden;text-align: left;background-color: #f0f8ff;}#sk-container-id-8 div.sk-toggleable__content pre {margin: 0.2em;color: black;border-radius: 0.25em;background-color: #f0f8ff;}#sk-container-id-8 input.sk-toggleable__control:checked~div.sk-toggleable__content {max-height: 200px;max-width: 100%;overflow: auto;}#sk-container-id-8 input.sk-toggleable__control:checked~label.sk-toggleable__label-arrow:before {content: \"▾\";}#sk-container-id-8 div.sk-estimator input.sk-toggleable__control:checked~label.sk-toggleable__label {background-color: #d4ebff;}#sk-container-id-8 div.sk-label input.sk-toggleable__control:checked~label.sk-toggleable__label {background-color: #d4ebff;}#sk-container-id-8 input.sk-hidden--visually {border: 0;clip: rect(1px 1px 1px 1px);clip: rect(1px, 1px, 1px, 1px);height: 1px;margin: -1px;overflow: hidden;padding: 0;position: absolute;width: 1px;}#sk-container-id-8 div.sk-estimator {font-family: monospace;background-color: #f0f8ff;border: 1px dotted black;border-radius: 0.25em;box-sizing: border-box;margin-bottom: 0.5em;}#sk-container-id-8 div.sk-estimator:hover {background-color: #d4ebff;}#sk-container-id-8 div.sk-parallel-item::after {content: \"\";width: 100%;border-bottom: 1px solid gray;flex-grow: 1;}#sk-container-id-8 div.sk-label:hover label.sk-toggleable__label {background-color: #d4ebff;}#sk-container-id-8 div.sk-serial::before {content: \"\";position: absolute;border-left: 1px solid gray;box-sizing: border-box;top: 0;bottom: 0;left: 50%;z-index: 0;}#sk-container-id-8 div.sk-serial {display: flex;flex-direction: column;align-items: center;background-color: white;padding-right: 0.2em;padding-left: 0.2em;position: relative;}#sk-container-id-8 div.sk-item {position: relative;z-index: 1;}#sk-container-id-8 div.sk-parallel {display: flex;align-items: stretch;justify-content: center;background-color: white;position: relative;}#sk-container-id-8 div.sk-item::before, #sk-container-id-8 div.sk-parallel-item::before {content: \"\";position: absolute;border-left: 1px solid gray;box-sizing: border-box;top: 0;bottom: 0;left: 50%;z-index: -1;}#sk-container-id-8 div.sk-parallel-item {display: flex;flex-direction: column;z-index: 1;position: relative;background-color: white;}#sk-container-id-8 div.sk-parallel-item:first-child::after {align-self: flex-end;width: 50%;}#sk-container-id-8 div.sk-parallel-item:last-child::after {align-self: flex-start;width: 50%;}#sk-container-id-8 div.sk-parallel-item:only-child::after {width: 0;}#sk-container-id-8 div.sk-dashed-wrapped {border: 1px dashed gray;margin: 0 0.4em 0.5em 0.4em;box-sizing: border-box;padding-bottom: 0.4em;background-color: white;}#sk-container-id-8 div.sk-label label {font-family: monospace;font-weight: bold;display: inline-block;line-height: 1.2em;}#sk-container-id-8 div.sk-label-container {text-align: center;}#sk-container-id-8 div.sk-container {/* jupyter's `normalize.less` sets `[hidden] { display: none; }` but bootstrap.min.css set `[hidden] { display: none !important; }` so we also need the `!important` here to be able to override the default hidden behavior on the sphinx rendered scikit-learn.org. See: https://github.com/scikit-learn/scikit-learn/issues/21755 */display: inline-block !important;position: relative;}#sk-container-id-8 div.sk-text-repr-fallback {display: none;}</style><div id=\"sk-container-id-8\" class=\"sk-top-container\"><div class=\"sk-text-repr-fallback\"><pre>LGBMRanker(n_estimators=300, reg_alpha=0.2, reg_lambda=0.2)</pre><b>In a Jupyter environment, please rerun this cell to show the HTML representation or trust the notebook. <br />On GitHub, the HTML representation is unable to render, please try loading this page with nbviewer.org.</b></div><div class=\"sk-container\" hidden><div class=\"sk-item\"><div class=\"sk-estimator sk-toggleable\"><input class=\"sk-toggleable__control sk-hidden--visually\" id=\"sk-estimator-id-8\" type=\"checkbox\" checked><label for=\"sk-estimator-id-8\" class=\"sk-toggleable__label sk-toggleable__label-arrow\">LGBMRanker</label><div class=\"sk-toggleable__content\"><pre>LGBMRanker(n_estimators=300, reg_alpha=0.2, reg_lambda=0.2)</pre></div></div></div></div></div>"
      ],
      "text/plain": [
       "LGBMRanker(n_estimators=300, reg_alpha=0.2, reg_lambda=0.2)"
      ]
     },
     "execution_count": 71,
     "metadata": {},
     "output_type": "execute_result"
    }
   ],
   "source": [
    "ranker.fit(X_tr, y_tr, group=train_groups, \n",
    "           eval_set = [(X_val, y_val)], eval_group=[val_groups], \n",
    "           early_stopping_rounds=100, eval_at=(5, 10, 20))"
   ]
  },
  {
   "cell_type": "markdown",
   "id": "03dea4e6",
   "metadata": {},
   "source": [
    "Важность признаков"
   ]
  },
  {
   "cell_type": "code",
   "execution_count": 72,
   "id": "bc3c8137",
   "metadata": {},
   "outputs": [
    {
     "data": {
      "text/plain": [
       "{'item_id': 3736,\n",
       " 49: 242,\n",
       " 47: 162,\n",
       " 48: 116,\n",
       " 46: 107,\n",
       " 45: 62,\n",
       " 44: 44,\n",
       " 43: 40,\n",
       " 41: 29,\n",
       " 42: 28,\n",
       " 40: 22,\n",
       " 33: 20,\n",
       " 39: 19,\n",
       " 37: 17,\n",
       " 38: 15,\n",
       " 35: 14,\n",
       " 36: 11,\n",
       " 28: 10,\n",
       " 34: 9,\n",
       " 25: 8,\n",
       " 32: 6,\n",
       " 15: 5,\n",
       " 21: 5,\n",
       " 22: 5,\n",
       " 26: 5,\n",
       " 27: 4,\n",
       " 0: 3,\n",
       " 19: 3,\n",
       " 20: 3,\n",
       " 24: 3,\n",
       " 29: 3,\n",
       " 30: 3,\n",
       " 31: 3,\n",
       " 14: 2,\n",
       " 18: 2,\n",
       " 2: 1,\n",
       " 10: 1,\n",
       " 16: 1,\n",
       " 23: 1,\n",
       " 1: 0,\n",
       " 3: 0,\n",
       " 4: 0,\n",
       " 5: 0,\n",
       " 6: 0,\n",
       " 7: 0,\n",
       " 8: 0,\n",
       " 9: 0,\n",
       " 11: 0,\n",
       " 12: 0,\n",
       " 13: 0,\n",
       " 17: 0,\n",
       " 'basket_date': 0}"
      ]
     },
     "execution_count": 72,
     "metadata": {},
     "output_type": "execute_result"
    }
   ],
   "source": [
    "dict(sorted(dict(zip(X_tr.columns, ranker.feature_importances_)).items(), key=lambda x:x[1],  reverse=True))"
   ]
  },
  {
   "cell_type": "code",
   "execution_count": 73,
   "id": "a8c89a03",
   "metadata": {},
   "outputs": [
    {
     "data": {
      "image/png": "[encoded data removed]",
      "text/plain": [
       "<Figure size 1000x800 with 1 Axes>"
      ]
     },
     "metadata": {},
     "output_type": "display_data"
    }
   ],
   "source": [
    "plot_feature_importance(ranker.feature_importances_,X_tr.columns, 'Instacart')"
   ]
  },
  {
   "cell_type": "code",
   "execution_count": 74,
   "id": "8c9679d8",
   "metadata": {},
   "outputs": [
    {
     "name": "stdout",
     "output_type": "stream",
     "text": [
      "ROC AUC = 0.8048758367098379\n"
     ]
    }
   ],
   "source": [
    "preds = ranker.predict(X_test)\n",
    "res = test[['user_id', 'item_id']].copy()\n",
    "res['preds_scores'] = preds\n",
    "result = predict(res, th = preds.min()-1)\n",
    "print(\"ROC AUC =\",roc_auc_score(y_test, preds))"
   ]
  },
  {
   "cell_type": "code",
   "execution_count": 75,
   "id": "62fee3fc",
   "metadata": {},
   "outputs": [
    {
     "name": "stdout",
     "output_type": "stream",
     "text": [
      "predictions ready 13246\n",
      "number of final test users: 13246\n",
      "5\n",
      "recall: 0.23872372435246042\n",
      "ndcg: 0.40648417714179585\n",
      "precision: 0.3722029291861695\n",
      "hitrate: 0.7813679601389099\n",
      "10\n",
      "recall: 0.31740453207343905\n",
      "ndcg: 0.3281024505891729\n",
      "precision: 0.27667975237807646\n",
      "hitrate: 0.8229654235240828\n",
      "20\n",
      "recall: 0.3821246692336774\n",
      "ndcg: 0.24367172988306593\n",
      "precision: 0.1826513664502491\n",
      "hitrate: 0.8408576173939303\n",
      "B\n",
      "recall: 0.3014219369579435\n",
      "ndcg: 0.34880073863892125\n",
      "precision: 0.3014219369579435\n",
      "hitrate: 0.7868790578287785\n"
     ]
    }
   ],
   "source": [
    "calculate_metrics(path_test, result)"
   ]
  },
  {
   "cell_type": "markdown",
   "id": "0ffad6fd",
   "metadata": {},
   "source": [
    "# TaFeng"
   ]
  },
  {
   "cell_type": "code",
   "execution_count": 77,
   "id": "ce07578a",
   "metadata": {
    "ExecuteTime": {
     "end_time": "2023-02-19T21:54:48.534935Z",
     "start_time": "2023-02-19T21:54:48.519944Z"
    }
   },
   "outputs": [],
   "source": [
    "dataset_name = 'tafeng'"
   ]
  },
  {
   "cell_type": "code",
   "execution_count": 78,
   "id": "57dedf54",
   "metadata": {
    "ExecuteTime": {
     "end_time": "2023-02-19T21:54:48.550892Z",
     "start_time": "2023-02-19T21:54:48.535901Z"
    }
   },
   "outputs": [],
   "source": [
    "path_train = f'data/{dataset_name}/baskets/train_baskets.csv'\n",
    "path_test = f'data/{dataset_name}/baskets/test_baskets.csv'\n",
    "path_val = f'data/{dataset_name}/baskets/valid_baskets.csv'"
   ]
  },
  {
   "cell_type": "code",
   "execution_count": 79,
   "id": "65c5c2ff",
   "metadata": {
    "ExecuteTime": {
     "end_time": "2023-02-19T22:36:03.099868Z",
     "start_time": "2023-02-19T22:35:32.304673Z"
    },
    "scrolled": true
   },
   "outputs": [
    {
     "name": "stdout",
     "output_type": "stream",
     "text": [
      "Total users: 10205\n",
      "Total items: 13521\n"
     ]
    }
   ],
   "source": [
    "dataset = Dataset(path_train,path_val, path_test, dataset=dataset_name, history_len=50, basket_len=50)"
   ]
  },
  {
   "cell_type": "code",
   "execution_count": 80,
   "id": "a09b312f",
   "metadata": {
    "ExecuteTime": {
     "end_time": "2023-02-19T21:55:17.989920Z",
     "start_time": "2023-02-19T21:55:15.177148Z"
    }
   },
   "outputs": [
    {
     "name": "stdout",
     "output_type": "stream",
     "text": [
      "boosting/data/tafeng/50_train.npz\n",
      "Done!\n",
      "boosting/data/tafeng/50_val.npz\n",
      "Done!\n",
      "boosting/data/tafeng/50_test.npz\n",
      "Done!\n"
     ]
    }
   ],
   "source": [
    "train = dataset.create_train_data()\n",
    "\n",
    "val = dataset.create_val_test_data(mode='val')\n",
    "\n",
    "test = dataset.create_val_test_data(mode='test')"
   ]
  },
  {
   "cell_type": "code",
   "execution_count": 81,
   "id": "310da934",
   "metadata": {
    "ExecuteTime": {
     "end_time": "2023-02-19T21:55:18.333171Z",
     "start_time": "2023-02-19T21:55:18.319184Z"
    }
   },
   "outputs": [
    {
     "data": {
      "text/plain": [
       "((2174103, 55), (195824, 55), (193585, 55))"
      ]
     },
     "execution_count": 81,
     "metadata": {},
     "output_type": "execute_result"
    }
   ],
   "source": [
    "train.shape, val.shape, test.shape"
   ]
  },
  {
   "cell_type": "markdown",
   "id": "08100172",
   "metadata": {},
   "source": [
    "## LGBM Ranker"
   ]
  },
  {
   "cell_type": "code",
   "execution_count": 82,
   "id": "13847d50",
   "metadata": {},
   "outputs": [],
   "source": [
    "train = train.drop(train[(train.basket_id==40761)&(train.iloc[:, 48]==0)&(train.labels==0)].index)"
   ]
  },
  {
   "cell_type": "code",
   "execution_count": 83,
   "id": "6f546f63",
   "metadata": {},
   "outputs": [],
   "source": [
    "train = train.sort_values(by = 'basket_id')\n",
    "val = val.sort_values(by = 'basket_id')\n",
    "test = test.sort_values(by = 'basket_id')"
   ]
  },
  {
   "cell_type": "code",
   "execution_count": 84,
   "id": "2fc24048",
   "metadata": {},
   "outputs": [],
   "source": [
    "# функция для группировки при ранжировании\n",
    "get_group_size = lambda df: df.reset_index().groupby(\"basket_id\")['basket_id'].count()"
   ]
  },
  {
   "cell_type": "code",
   "execution_count": 85,
   "id": "46782095",
   "metadata": {},
   "outputs": [],
   "source": [
    "# item_id - категориальная фича\n",
    "train['item_id'] = train['item_id'].sparse.to_dense().astype('category')\n",
    "val['item_id'] = val['item_id'].sparse.to_dense().astype('category')\n",
    "test['item_id'] = test['item_id'].sparse.to_dense().astype('category')\n",
    "# basket_id в int для правильной группировки\n",
    "train['basket_id'] = train['basket_id'].sparse.to_dense().astype('int')\n",
    "val['basket_id'] = val['basket_id'].sparse.to_dense().astype('int')\n",
    "test['basket_id'] = test['basket_id'].sparse.to_dense().astype('int')"
   ]
  },
  {
   "cell_type": "code",
   "execution_count": 86,
   "id": "eac54180",
   "metadata": {},
   "outputs": [],
   "source": [
    "train_groups = get_group_size(train)\n",
    "val_groups = get_group_size(val)"
   ]
  },
  {
   "cell_type": "code",
   "execution_count": 87,
   "id": "1f642437",
   "metadata": {},
   "outputs": [],
   "source": [
    "X_tr, y_tr = train.drop(['user_id','labels', 'basket_id'], axis=1), train.labels, \n",
    "X_val, y_val = val.drop(['user_id','labels', 'basket_id'], axis=1), val.labels\n",
    "X_test, y_test = test.drop(['user_id','labels', 'basket_id'], axis=1), test.labels"
   ]
  },
  {
   "cell_type": "code",
   "execution_count": 88,
   "id": "ea233cd9",
   "metadata": {},
   "outputs": [],
   "source": [
    "ranker = LGBMRanker(n_estimators=300, num_leaves=20)"
   ]
  },
  {
   "cell_type": "code",
   "execution_count": 89,
   "id": "2f5b01cb",
   "metadata": {},
   "outputs": [
    {
     "name": "stdout",
     "output_type": "stream",
     "text": [
      "[1]\tvalid_0's ndcg@5: 0.601334\tvalid_0's ndcg@10: 0.639051\tvalid_0's ndcg@20: 0.67124\n",
      "[2]\tvalid_0's ndcg@5: 0.604626\tvalid_0's ndcg@10: 0.642302\tvalid_0's ndcg@20: 0.674673\n",
      "[3]\tvalid_0's ndcg@5: 0.612779\tvalid_0's ndcg@10: 0.649952\tvalid_0's ndcg@20: 0.682406\n",
      "[4]\tvalid_0's ndcg@5: 0.611194\tvalid_0's ndcg@10: 0.648209\tvalid_0's ndcg@20: 0.681395\n",
      "[5]\tvalid_0's ndcg@5: 0.614481\tvalid_0's ndcg@10: 0.651504\tvalid_0's ndcg@20: 0.684358\n",
      "[6]\tvalid_0's ndcg@5: 0.620274\tvalid_0's ndcg@10: 0.656366\tvalid_0's ndcg@20: 0.68846\n",
      "[7]\tvalid_0's ndcg@5: 0.622566\tvalid_0's ndcg@10: 0.658244\tvalid_0's ndcg@20: 0.690895\n",
      "[8]\tvalid_0's ndcg@5: 0.625205\tvalid_0's ndcg@10: 0.660347\tvalid_0's ndcg@20: 0.692566\n",
      "[9]\tvalid_0's ndcg@5: 0.625253\tvalid_0's ndcg@10: 0.661491\tvalid_0's ndcg@20: 0.693344\n",
      "[10]\tvalid_0's ndcg@5: 0.625746\tvalid_0's ndcg@10: 0.661108\tvalid_0's ndcg@20: 0.693144\n",
      "[11]\tvalid_0's ndcg@5: 0.625188\tvalid_0's ndcg@10: 0.660857\tvalid_0's ndcg@20: 0.693093\n",
      "[12]\tvalid_0's ndcg@5: 0.625551\tvalid_0's ndcg@10: 0.661222\tvalid_0's ndcg@20: 0.693339\n",
      "[13]\tvalid_0's ndcg@5: 0.624864\tvalid_0's ndcg@10: 0.660279\tvalid_0's ndcg@20: 0.692765\n",
      "[14]\tvalid_0's ndcg@5: 0.624891\tvalid_0's ndcg@10: 0.659976\tvalid_0's ndcg@20: 0.69267\n",
      "[15]\tvalid_0's ndcg@5: 0.62555\tvalid_0's ndcg@10: 0.661339\tvalid_0's ndcg@20: 0.693878\n",
      "[16]\tvalid_0's ndcg@5: 0.624783\tvalid_0's ndcg@10: 0.660376\tvalid_0's ndcg@20: 0.693393\n",
      "[17]\tvalid_0's ndcg@5: 0.625475\tvalid_0's ndcg@10: 0.660955\tvalid_0's ndcg@20: 0.693902\n",
      "[18]\tvalid_0's ndcg@5: 0.625824\tvalid_0's ndcg@10: 0.661636\tvalid_0's ndcg@20: 0.6943\n",
      "[19]\tvalid_0's ndcg@5: 0.626463\tvalid_0's ndcg@10: 0.662266\tvalid_0's ndcg@20: 0.694836\n",
      "[20]\tvalid_0's ndcg@5: 0.625955\tvalid_0's ndcg@10: 0.661997\tvalid_0's ndcg@20: 0.694867\n",
      "[21]\tvalid_0's ndcg@5: 0.626583\tvalid_0's ndcg@10: 0.662512\tvalid_0's ndcg@20: 0.695309\n",
      "[22]\tvalid_0's ndcg@5: 0.626149\tvalid_0's ndcg@10: 0.662163\tvalid_0's ndcg@20: 0.695013\n",
      "[23]\tvalid_0's ndcg@5: 0.626673\tvalid_0's ndcg@10: 0.662895\tvalid_0's ndcg@20: 0.69569\n",
      "[24]\tvalid_0's ndcg@5: 0.62726\tvalid_0's ndcg@10: 0.663203\tvalid_0's ndcg@20: 0.696321\n",
      "[25]\tvalid_0's ndcg@5: 0.626818\tvalid_0's ndcg@10: 0.663147\tvalid_0's ndcg@20: 0.696272\n",
      "[26]\tvalid_0's ndcg@5: 0.626882\tvalid_0's ndcg@10: 0.663508\tvalid_0's ndcg@20: 0.696496\n",
      "[27]\tvalid_0's ndcg@5: 0.627308\tvalid_0's ndcg@10: 0.663837\tvalid_0's ndcg@20: 0.697003\n",
      "[28]\tvalid_0's ndcg@5: 0.626717\tvalid_0's ndcg@10: 0.663444\tvalid_0's ndcg@20: 0.696666\n",
      "[29]\tvalid_0's ndcg@5: 0.626185\tvalid_0's ndcg@10: 0.663379\tvalid_0's ndcg@20: 0.696289\n",
      "[30]\tvalid_0's ndcg@5: 0.626952\tvalid_0's ndcg@10: 0.664012\tvalid_0's ndcg@20: 0.696656\n",
      "[31]\tvalid_0's ndcg@5: 0.626555\tvalid_0's ndcg@10: 0.664163\tvalid_0's ndcg@20: 0.696636\n",
      "[32]\tvalid_0's ndcg@5: 0.626389\tvalid_0's ndcg@10: 0.663641\tvalid_0's ndcg@20: 0.696573\n",
      "[33]\tvalid_0's ndcg@5: 0.626805\tvalid_0's ndcg@10: 0.663883\tvalid_0's ndcg@20: 0.696781\n",
      "[34]\tvalid_0's ndcg@5: 0.627093\tvalid_0's ndcg@10: 0.663677\tvalid_0's ndcg@20: 0.696729\n",
      "[35]\tvalid_0's ndcg@5: 0.626815\tvalid_0's ndcg@10: 0.663484\tvalid_0's ndcg@20: 0.696488\n",
      "[36]\tvalid_0's ndcg@5: 0.627\tvalid_0's ndcg@10: 0.663326\tvalid_0's ndcg@20: 0.695883\n",
      "[37]\tvalid_0's ndcg@5: 0.626673\tvalid_0's ndcg@10: 0.663081\tvalid_0's ndcg@20: 0.695889\n",
      "[38]\tvalid_0's ndcg@5: 0.62597\tvalid_0's ndcg@10: 0.662975\tvalid_0's ndcg@20: 0.69621\n",
      "[39]\tvalid_0's ndcg@5: 0.625575\tvalid_0's ndcg@10: 0.662937\tvalid_0's ndcg@20: 0.695878\n",
      "[40]\tvalid_0's ndcg@5: 0.626381\tvalid_0's ndcg@10: 0.663132\tvalid_0's ndcg@20: 0.69606\n",
      "[41]\tvalid_0's ndcg@5: 0.625945\tvalid_0's ndcg@10: 0.66315\tvalid_0's ndcg@20: 0.695947\n",
      "[42]\tvalid_0's ndcg@5: 0.625868\tvalid_0's ndcg@10: 0.662766\tvalid_0's ndcg@20: 0.695983\n",
      "[43]\tvalid_0's ndcg@5: 0.625714\tvalid_0's ndcg@10: 0.662666\tvalid_0's ndcg@20: 0.695642\n",
      "[44]\tvalid_0's ndcg@5: 0.625621\tvalid_0's ndcg@10: 0.662776\tvalid_0's ndcg@20: 0.695708\n",
      "[45]\tvalid_0's ndcg@5: 0.625635\tvalid_0's ndcg@10: 0.662681\tvalid_0's ndcg@20: 0.695641\n",
      "[46]\tvalid_0's ndcg@5: 0.625403\tvalid_0's ndcg@10: 0.663179\tvalid_0's ndcg@20: 0.696162\n",
      "[47]\tvalid_0's ndcg@5: 0.625191\tvalid_0's ndcg@10: 0.663022\tvalid_0's ndcg@20: 0.696101\n",
      "[48]\tvalid_0's ndcg@5: 0.624314\tvalid_0's ndcg@10: 0.6624\tvalid_0's ndcg@20: 0.695558\n",
      "[49]\tvalid_0's ndcg@5: 0.623628\tvalid_0's ndcg@10: 0.662268\tvalid_0's ndcg@20: 0.695277\n",
      "[50]\tvalid_0's ndcg@5: 0.623982\tvalid_0's ndcg@10: 0.662621\tvalid_0's ndcg@20: 0.695669\n",
      "[51]\tvalid_0's ndcg@5: 0.624544\tvalid_0's ndcg@10: 0.662594\tvalid_0's ndcg@20: 0.69577\n",
      "[52]\tvalid_0's ndcg@5: 0.625369\tvalid_0's ndcg@10: 0.663494\tvalid_0's ndcg@20: 0.69647\n",
      "[53]\tvalid_0's ndcg@5: 0.625765\tvalid_0's ndcg@10: 0.663497\tvalid_0's ndcg@20: 0.696883\n",
      "[54]\tvalid_0's ndcg@5: 0.625718\tvalid_0's ndcg@10: 0.663755\tvalid_0's ndcg@20: 0.69685\n",
      "[55]\tvalid_0's ndcg@5: 0.625978\tvalid_0's ndcg@10: 0.663911\tvalid_0's ndcg@20: 0.696775\n",
      "[56]\tvalid_0's ndcg@5: 0.626235\tvalid_0's ndcg@10: 0.664264\tvalid_0's ndcg@20: 0.697007\n",
      "[57]\tvalid_0's ndcg@5: 0.62691\tvalid_0's ndcg@10: 0.664678\tvalid_0's ndcg@20: 0.69743\n",
      "[58]\tvalid_0's ndcg@5: 0.627017\tvalid_0's ndcg@10: 0.66513\tvalid_0's ndcg@20: 0.697505\n",
      "[59]\tvalid_0's ndcg@5: 0.626936\tvalid_0's ndcg@10: 0.665143\tvalid_0's ndcg@20: 0.697616\n",
      "[60]\tvalid_0's ndcg@5: 0.627166\tvalid_0's ndcg@10: 0.665118\tvalid_0's ndcg@20: 0.697591\n",
      "[61]\tvalid_0's ndcg@5: 0.627036\tvalid_0's ndcg@10: 0.665294\tvalid_0's ndcg@20: 0.697686\n",
      "[62]\tvalid_0's ndcg@5: 0.627324\tvalid_0's ndcg@10: 0.665442\tvalid_0's ndcg@20: 0.697786\n",
      "[63]\tvalid_0's ndcg@5: 0.627038\tvalid_0's ndcg@10: 0.665284\tvalid_0's ndcg@20: 0.697541\n",
      "[64]\tvalid_0's ndcg@5: 0.627004\tvalid_0's ndcg@10: 0.665284\tvalid_0's ndcg@20: 0.697492\n",
      "[65]\tvalid_0's ndcg@5: 0.627002\tvalid_0's ndcg@10: 0.6652\tvalid_0's ndcg@20: 0.697629\n",
      "[66]\tvalid_0's ndcg@5: 0.627556\tvalid_0's ndcg@10: 0.665415\tvalid_0's ndcg@20: 0.697967\n",
      "[67]\tvalid_0's ndcg@5: 0.627734\tvalid_0's ndcg@10: 0.665418\tvalid_0's ndcg@20: 0.697912\n",
      "[68]\tvalid_0's ndcg@5: 0.627737\tvalid_0's ndcg@10: 0.665129\tvalid_0's ndcg@20: 0.698205\n",
      "[69]\tvalid_0's ndcg@5: 0.628447\tvalid_0's ndcg@10: 0.665656\tvalid_0's ndcg@20: 0.69863\n",
      "[70]\tvalid_0's ndcg@5: 0.62868\tvalid_0's ndcg@10: 0.666137\tvalid_0's ndcg@20: 0.698974\n",
      "[71]\tvalid_0's ndcg@5: 0.628573\tvalid_0's ndcg@10: 0.666127\tvalid_0's ndcg@20: 0.699014\n",
      "[72]\tvalid_0's ndcg@5: 0.628362\tvalid_0's ndcg@10: 0.666002\tvalid_0's ndcg@20: 0.698841\n",
      "[73]\tvalid_0's ndcg@5: 0.628093\tvalid_0's ndcg@10: 0.666011\tvalid_0's ndcg@20: 0.698817\n",
      "[74]\tvalid_0's ndcg@5: 0.627994\tvalid_0's ndcg@10: 0.66613\tvalid_0's ndcg@20: 0.698672\n",
      "[75]\tvalid_0's ndcg@5: 0.627915\tvalid_0's ndcg@10: 0.666017\tvalid_0's ndcg@20: 0.698684\n",
      "[76]\tvalid_0's ndcg@5: 0.627971\tvalid_0's ndcg@10: 0.665796\tvalid_0's ndcg@20: 0.69867\n",
      "[77]\tvalid_0's ndcg@5: 0.627578\tvalid_0's ndcg@10: 0.665702\tvalid_0's ndcg@20: 0.698775\n",
      "[78]\tvalid_0's ndcg@5: 0.627688\tvalid_0's ndcg@10: 0.6657\tvalid_0's ndcg@20: 0.698686\n",
      "[79]\tvalid_0's ndcg@5: 0.62778\tvalid_0's ndcg@10: 0.665728\tvalid_0's ndcg@20: 0.698831\n",
      "[80]\tvalid_0's ndcg@5: 0.62815\tvalid_0's ndcg@10: 0.666123\tvalid_0's ndcg@20: 0.699096\n",
      "[81]\tvalid_0's ndcg@5: 0.62851\tvalid_0's ndcg@10: 0.666158\tvalid_0's ndcg@20: 0.699268\n",
      "[82]\tvalid_0's ndcg@5: 0.628296\tvalid_0's ndcg@10: 0.666207\tvalid_0's ndcg@20: 0.699312\n",
      "[83]\tvalid_0's ndcg@5: 0.629135\tvalid_0's ndcg@10: 0.666899\tvalid_0's ndcg@20: 0.699988\n",
      "[84]\tvalid_0's ndcg@5: 0.629566\tvalid_0's ndcg@10: 0.667135\tvalid_0's ndcg@20: 0.700232\n",
      "[85]\tvalid_0's ndcg@5: 0.629765\tvalid_0's ndcg@10: 0.667415\tvalid_0's ndcg@20: 0.700536\n",
      "[86]\tvalid_0's ndcg@5: 0.629842\tvalid_0's ndcg@10: 0.667449\tvalid_0's ndcg@20: 0.7005\n",
      "[87]\tvalid_0's ndcg@5: 0.630165\tvalid_0's ndcg@10: 0.667617\tvalid_0's ndcg@20: 0.700629\n",
      "[88]\tvalid_0's ndcg@5: 0.630185\tvalid_0's ndcg@10: 0.667437\tvalid_0's ndcg@20: 0.700715\n",
      "[89]\tvalid_0's ndcg@5: 0.630897\tvalid_0's ndcg@10: 0.667587\tvalid_0's ndcg@20: 0.701138\n",
      "[90]\tvalid_0's ndcg@5: 0.631084\tvalid_0's ndcg@10: 0.667875\tvalid_0's ndcg@20: 0.70135\n",
      "[91]\tvalid_0's ndcg@5: 0.631224\tvalid_0's ndcg@10: 0.668024\tvalid_0's ndcg@20: 0.701441\n",
      "[92]\tvalid_0's ndcg@5: 0.631272\tvalid_0's ndcg@10: 0.668365\tvalid_0's ndcg@20: 0.701663\n",
      "[93]\tvalid_0's ndcg@5: 0.631368\tvalid_0's ndcg@10: 0.668721\tvalid_0's ndcg@20: 0.701902\n",
      "[94]\tvalid_0's ndcg@5: 0.631474\tvalid_0's ndcg@10: 0.668822\tvalid_0's ndcg@20: 0.702027\n",
      "[95]\tvalid_0's ndcg@5: 0.631515\tvalid_0's ndcg@10: 0.668841\tvalid_0's ndcg@20: 0.70198\n",
      "[96]\tvalid_0's ndcg@5: 0.631917\tvalid_0's ndcg@10: 0.66887\tvalid_0's ndcg@20: 0.702158\n",
      "[97]\tvalid_0's ndcg@5: 0.63199\tvalid_0's ndcg@10: 0.669044\tvalid_0's ndcg@20: 0.702202\n"
     ]
    },
    {
     "name": "stdout",
     "output_type": "stream",
     "text": [
      "[98]\tvalid_0's ndcg@5: 0.631942\tvalid_0's ndcg@10: 0.669044\tvalid_0's ndcg@20: 0.702219\n",
      "[99]\tvalid_0's ndcg@5: 0.631794\tvalid_0's ndcg@10: 0.668922\tvalid_0's ndcg@20: 0.70222\n",
      "[100]\tvalid_0's ndcg@5: 0.631703\tvalid_0's ndcg@10: 0.668937\tvalid_0's ndcg@20: 0.702277\n",
      "[101]\tvalid_0's ndcg@5: 0.63151\tvalid_0's ndcg@10: 0.669023\tvalid_0's ndcg@20: 0.70231\n",
      "[102]\tvalid_0's ndcg@5: 0.631395\tvalid_0's ndcg@10: 0.669235\tvalid_0's ndcg@20: 0.702398\n",
      "[103]\tvalid_0's ndcg@5: 0.631743\tvalid_0's ndcg@10: 0.668949\tvalid_0's ndcg@20: 0.702225\n",
      "[104]\tvalid_0's ndcg@5: 0.631583\tvalid_0's ndcg@10: 0.668997\tvalid_0's ndcg@20: 0.702258\n",
      "[105]\tvalid_0's ndcg@5: 0.631173\tvalid_0's ndcg@10: 0.668672\tvalid_0's ndcg@20: 0.702003\n",
      "[106]\tvalid_0's ndcg@5: 0.631029\tvalid_0's ndcg@10: 0.668653\tvalid_0's ndcg@20: 0.701884\n",
      "[107]\tvalid_0's ndcg@5: 0.630874\tvalid_0's ndcg@10: 0.668828\tvalid_0's ndcg@20: 0.701905\n",
      "[108]\tvalid_0's ndcg@5: 0.630959\tvalid_0's ndcg@10: 0.668835\tvalid_0's ndcg@20: 0.701996\n",
      "[109]\tvalid_0's ndcg@5: 0.630849\tvalid_0's ndcg@10: 0.668922\tvalid_0's ndcg@20: 0.702036\n",
      "[110]\tvalid_0's ndcg@5: 0.63032\tvalid_0's ndcg@10: 0.668764\tvalid_0's ndcg@20: 0.701879\n",
      "[111]\tvalid_0's ndcg@5: 0.630555\tvalid_0's ndcg@10: 0.668792\tvalid_0's ndcg@20: 0.701939\n",
      "[112]\tvalid_0's ndcg@5: 0.630488\tvalid_0's ndcg@10: 0.668778\tvalid_0's ndcg@20: 0.70196\n",
      "[113]\tvalid_0's ndcg@5: 0.630497\tvalid_0's ndcg@10: 0.668771\tvalid_0's ndcg@20: 0.701905\n",
      "[114]\tvalid_0's ndcg@5: 0.630479\tvalid_0's ndcg@10: 0.668808\tvalid_0's ndcg@20: 0.70181\n",
      "[115]\tvalid_0's ndcg@5: 0.630459\tvalid_0's ndcg@10: 0.668858\tvalid_0's ndcg@20: 0.701847\n",
      "[116]\tvalid_0's ndcg@5: 0.630363\tvalid_0's ndcg@10: 0.668891\tvalid_0's ndcg@20: 0.701898\n",
      "[117]\tvalid_0's ndcg@5: 0.630326\tvalid_0's ndcg@10: 0.668901\tvalid_0's ndcg@20: 0.701881\n",
      "[118]\tvalid_0's ndcg@5: 0.630093\tvalid_0's ndcg@10: 0.668812\tvalid_0's ndcg@20: 0.70185\n",
      "[119]\tvalid_0's ndcg@5: 0.630159\tvalid_0's ndcg@10: 0.668794\tvalid_0's ndcg@20: 0.701899\n",
      "[120]\tvalid_0's ndcg@5: 0.630188\tvalid_0's ndcg@10: 0.668708\tvalid_0's ndcg@20: 0.701788\n",
      "[121]\tvalid_0's ndcg@5: 0.630064\tvalid_0's ndcg@10: 0.668671\tvalid_0's ndcg@20: 0.701787\n",
      "[122]\tvalid_0's ndcg@5: 0.629613\tvalid_0's ndcg@10: 0.668459\tvalid_0's ndcg@20: 0.701611\n",
      "[123]\tvalid_0's ndcg@5: 0.62958\tvalid_0's ndcg@10: 0.668646\tvalid_0's ndcg@20: 0.701581\n",
      "[124]\tvalid_0's ndcg@5: 0.629478\tvalid_0's ndcg@10: 0.668807\tvalid_0's ndcg@20: 0.701552\n",
      "[125]\tvalid_0's ndcg@5: 0.629398\tvalid_0's ndcg@10: 0.668785\tvalid_0's ndcg@20: 0.701499\n",
      "[126]\tvalid_0's ndcg@5: 0.629131\tvalid_0's ndcg@10: 0.668655\tvalid_0's ndcg@20: 0.701408\n",
      "[127]\tvalid_0's ndcg@5: 0.629081\tvalid_0's ndcg@10: 0.668685\tvalid_0's ndcg@20: 0.701239\n",
      "[128]\tvalid_0's ndcg@5: 0.629561\tvalid_0's ndcg@10: 0.668822\tvalid_0's ndcg@20: 0.701451\n",
      "[129]\tvalid_0's ndcg@5: 0.629444\tvalid_0's ndcg@10: 0.668729\tvalid_0's ndcg@20: 0.701334\n",
      "[130]\tvalid_0's ndcg@5: 0.629471\tvalid_0's ndcg@10: 0.668816\tvalid_0's ndcg@20: 0.701547\n",
      "[131]\tvalid_0's ndcg@5: 0.629383\tvalid_0's ndcg@10: 0.668732\tvalid_0's ndcg@20: 0.701493\n",
      "[132]\tvalid_0's ndcg@5: 0.629257\tvalid_0's ndcg@10: 0.668707\tvalid_0's ndcg@20: 0.701488\n",
      "[133]\tvalid_0's ndcg@5: 0.629317\tvalid_0's ndcg@10: 0.66878\tvalid_0's ndcg@20: 0.701474\n",
      "[134]\tvalid_0's ndcg@5: 0.629417\tvalid_0's ndcg@10: 0.668781\tvalid_0's ndcg@20: 0.701381\n",
      "[135]\tvalid_0's ndcg@5: 0.62931\tvalid_0's ndcg@10: 0.668649\tvalid_0's ndcg@20: 0.701379\n",
      "[136]\tvalid_0's ndcg@5: 0.629308\tvalid_0's ndcg@10: 0.668444\tvalid_0's ndcg@20: 0.701393\n",
      "[137]\tvalid_0's ndcg@5: 0.629738\tvalid_0's ndcg@10: 0.668784\tvalid_0's ndcg@20: 0.701654\n",
      "[138]\tvalid_0's ndcg@5: 0.62975\tvalid_0's ndcg@10: 0.668952\tvalid_0's ndcg@20: 0.701736\n",
      "[139]\tvalid_0's ndcg@5: 0.629881\tvalid_0's ndcg@10: 0.669021\tvalid_0's ndcg@20: 0.701914\n",
      "[140]\tvalid_0's ndcg@5: 0.630176\tvalid_0's ndcg@10: 0.669134\tvalid_0's ndcg@20: 0.702067\n",
      "[141]\tvalid_0's ndcg@5: 0.630207\tvalid_0's ndcg@10: 0.669114\tvalid_0's ndcg@20: 0.702025\n",
      "[142]\tvalid_0's ndcg@5: 0.630347\tvalid_0's ndcg@10: 0.669267\tvalid_0's ndcg@20: 0.702032\n",
      "[143]\tvalid_0's ndcg@5: 0.630203\tvalid_0's ndcg@10: 0.669237\tvalid_0's ndcg@20: 0.701974\n",
      "[144]\tvalid_0's ndcg@5: 0.63016\tvalid_0's ndcg@10: 0.669274\tvalid_0's ndcg@20: 0.701908\n",
      "[145]\tvalid_0's ndcg@5: 0.630425\tvalid_0's ndcg@10: 0.669341\tvalid_0's ndcg@20: 0.701949\n",
      "[146]\tvalid_0's ndcg@5: 0.630384\tvalid_0's ndcg@10: 0.669426\tvalid_0's ndcg@20: 0.701942\n",
      "[147]\tvalid_0's ndcg@5: 0.630064\tvalid_0's ndcg@10: 0.668843\tvalid_0's ndcg@20: 0.70145\n",
      "[148]\tvalid_0's ndcg@5: 0.630007\tvalid_0's ndcg@10: 0.668813\tvalid_0's ndcg@20: 0.701467\n",
      "[149]\tvalid_0's ndcg@5: 0.630056\tvalid_0's ndcg@10: 0.668828\tvalid_0's ndcg@20: 0.701521\n",
      "[150]\tvalid_0's ndcg@5: 0.629962\tvalid_0's ndcg@10: 0.668605\tvalid_0's ndcg@20: 0.701302\n",
      "[151]\tvalid_0's ndcg@5: 0.630043\tvalid_0's ndcg@10: 0.668692\tvalid_0's ndcg@20: 0.701389\n",
      "[152]\tvalid_0's ndcg@5: 0.630213\tvalid_0's ndcg@10: 0.668673\tvalid_0's ndcg@20: 0.701408\n",
      "[153]\tvalid_0's ndcg@5: 0.630239\tvalid_0's ndcg@10: 0.668671\tvalid_0's ndcg@20: 0.701382\n",
      "[154]\tvalid_0's ndcg@5: 0.630164\tvalid_0's ndcg@10: 0.66874\tvalid_0's ndcg@20: 0.701413\n",
      "[155]\tvalid_0's ndcg@5: 0.630191\tvalid_0's ndcg@10: 0.668618\tvalid_0's ndcg@20: 0.701478\n",
      "[156]\tvalid_0's ndcg@5: 0.630191\tvalid_0's ndcg@10: 0.668622\tvalid_0's ndcg@20: 0.701474\n",
      "[157]\tvalid_0's ndcg@5: 0.630212\tvalid_0's ndcg@10: 0.66855\tvalid_0's ndcg@20: 0.701476\n",
      "[158]\tvalid_0's ndcg@5: 0.629968\tvalid_0's ndcg@10: 0.668474\tvalid_0's ndcg@20: 0.701498\n",
      "[159]\tvalid_0's ndcg@5: 0.630088\tvalid_0's ndcg@10: 0.668443\tvalid_0's ndcg@20: 0.701465\n",
      "[160]\tvalid_0's ndcg@5: 0.630166\tvalid_0's ndcg@10: 0.66849\tvalid_0's ndcg@20: 0.701525\n",
      "[161]\tvalid_0's ndcg@5: 0.630077\tvalid_0's ndcg@10: 0.668427\tvalid_0's ndcg@20: 0.701469\n",
      "[162]\tvalid_0's ndcg@5: 0.630012\tvalid_0's ndcg@10: 0.66833\tvalid_0's ndcg@20: 0.701379\n",
      "[163]\tvalid_0's ndcg@5: 0.630106\tvalid_0's ndcg@10: 0.668336\tvalid_0's ndcg@20: 0.701453\n",
      "[164]\tvalid_0's ndcg@5: 0.629921\tvalid_0's ndcg@10: 0.668089\tvalid_0's ndcg@20: 0.701226\n",
      "[165]\tvalid_0's ndcg@5: 0.630091\tvalid_0's ndcg@10: 0.66821\tvalid_0's ndcg@20: 0.701247\n",
      "[166]\tvalid_0's ndcg@5: 0.630164\tvalid_0's ndcg@10: 0.668306\tvalid_0's ndcg@20: 0.701316\n",
      "[167]\tvalid_0's ndcg@5: 0.630286\tvalid_0's ndcg@10: 0.668371\tvalid_0's ndcg@20: 0.701509\n",
      "[168]\tvalid_0's ndcg@5: 0.63022\tvalid_0's ndcg@10: 0.668286\tvalid_0's ndcg@20: 0.701477\n",
      "[169]\tvalid_0's ndcg@5: 0.630295\tvalid_0's ndcg@10: 0.66845\tvalid_0's ndcg@20: 0.701512\n",
      "[170]\tvalid_0's ndcg@5: 0.630313\tvalid_0's ndcg@10: 0.668397\tvalid_0's ndcg@20: 0.701471\n",
      "[171]\tvalid_0's ndcg@5: 0.630343\tvalid_0's ndcg@10: 0.668395\tvalid_0's ndcg@20: 0.701422\n",
      "[172]\tvalid_0's ndcg@5: 0.630546\tvalid_0's ndcg@10: 0.668402\tvalid_0's ndcg@20: 0.701448\n",
      "[173]\tvalid_0's ndcg@5: 0.630569\tvalid_0's ndcg@10: 0.668562\tvalid_0's ndcg@20: 0.701556\n",
      "[174]\tvalid_0's ndcg@5: 0.630479\tvalid_0's ndcg@10: 0.668416\tvalid_0's ndcg@20: 0.701404\n",
      "[175]\tvalid_0's ndcg@5: 0.630262\tvalid_0's ndcg@10: 0.668353\tvalid_0's ndcg@20: 0.701151\n",
      "[176]\tvalid_0's ndcg@5: 0.630006\tvalid_0's ndcg@10: 0.668165\tvalid_0's ndcg@20: 0.700966\n",
      "[177]\tvalid_0's ndcg@5: 0.629955\tvalid_0's ndcg@10: 0.66791\tvalid_0's ndcg@20: 0.700898\n",
      "[178]\tvalid_0's ndcg@5: 0.629963\tvalid_0's ndcg@10: 0.667908\tvalid_0's ndcg@20: 0.700932\n",
      "[179]\tvalid_0's ndcg@5: 0.63002\tvalid_0's ndcg@10: 0.667905\tvalid_0's ndcg@20: 0.700983\n",
      "[180]\tvalid_0's ndcg@5: 0.62999\tvalid_0's ndcg@10: 0.667817\tvalid_0's ndcg@20: 0.701002\n",
      "[181]\tvalid_0's ndcg@5: 0.629956\tvalid_0's ndcg@10: 0.667764\tvalid_0's ndcg@20: 0.701009\n",
      "[182]\tvalid_0's ndcg@5: 0.630158\tvalid_0's ndcg@10: 0.667986\tvalid_0's ndcg@20: 0.701119\n",
      "[183]\tvalid_0's ndcg@5: 0.630179\tvalid_0's ndcg@10: 0.667895\tvalid_0's ndcg@20: 0.701091\n",
      "[184]\tvalid_0's ndcg@5: 0.630448\tvalid_0's ndcg@10: 0.66797\tvalid_0's ndcg@20: 0.701203\n",
      "[185]\tvalid_0's ndcg@5: 0.630441\tvalid_0's ndcg@10: 0.66793\tvalid_0's ndcg@20: 0.701155\n",
      "[186]\tvalid_0's ndcg@5: 0.630328\tvalid_0's ndcg@10: 0.667946\tvalid_0's ndcg@20: 0.701276\n",
      "[187]\tvalid_0's ndcg@5: 0.630349\tvalid_0's ndcg@10: 0.668081\tvalid_0's ndcg@20: 0.701319\n",
      "[188]\tvalid_0's ndcg@5: 0.630325\tvalid_0's ndcg@10: 0.668189\tvalid_0's ndcg@20: 0.701331\n",
      "[189]\tvalid_0's ndcg@5: 0.630365\tvalid_0's ndcg@10: 0.66825\tvalid_0's ndcg@20: 0.701411\n",
      "[190]\tvalid_0's ndcg@5: 0.630877\tvalid_0's ndcg@10: 0.668487\tvalid_0's ndcg@20: 0.701652\n",
      "[191]\tvalid_0's ndcg@5: 0.630956\tvalid_0's ndcg@10: 0.668487\tvalid_0's ndcg@20: 0.701741\n",
      "[192]\tvalid_0's ndcg@5: 0.630884\tvalid_0's ndcg@10: 0.668688\tvalid_0's ndcg@20: 0.701713\n",
      "[193]\tvalid_0's ndcg@5: 0.630854\tvalid_0's ndcg@10: 0.668711\tvalid_0's ndcg@20: 0.701721\n",
      "[194]\tvalid_0's ndcg@5: 0.631011\tvalid_0's ndcg@10: 0.668692\tvalid_0's ndcg@20: 0.701884\n"
     ]
    },
    {
     "name": "stdout",
     "output_type": "stream",
     "text": [
      "[195]\tvalid_0's ndcg@5: 0.631271\tvalid_0's ndcg@10: 0.669058\tvalid_0's ndcg@20: 0.702119\n",
      "[196]\tvalid_0's ndcg@5: 0.631175\tvalid_0's ndcg@10: 0.669142\tvalid_0's ndcg@20: 0.702092\n",
      "[197]\tvalid_0's ndcg@5: 0.631185\tvalid_0's ndcg@10: 0.66904\tvalid_0's ndcg@20: 0.701825\n"
     ]
    },
    {
     "data": {
      "text/html": [
       "<style>#sk-container-id-9 {color: black;background-color: white;}#sk-container-id-9 pre{padding: 0;}#sk-container-id-9 div.sk-toggleable {background-color: white;}#sk-container-id-9 label.sk-toggleable__label {cursor: pointer;display: block;width: 100%;margin-bottom: 0;padding: 0.3em;box-sizing: border-box;text-align: center;}#sk-container-id-9 label.sk-toggleable__label-arrow:before {content: \"▸\";float: left;margin-right: 0.25em;color: #696969;}#sk-container-id-9 label.sk-toggleable__label-arrow:hover:before {color: black;}#sk-container-id-9 div.sk-estimator:hover label.sk-toggleable__label-arrow:before {color: black;}#sk-container-id-9 div.sk-toggleable__content {max-height: 0;max-width: 0;overflow: hidden;text-align: left;background-color: #f0f8ff;}#sk-container-id-9 div.sk-toggleable__content pre {margin: 0.2em;color: black;border-radius: 0.25em;background-color: #f0f8ff;}#sk-container-id-9 input.sk-toggleable__control:checked~div.sk-toggleable__content {max-height: 200px;max-width: 100%;overflow: auto;}#sk-container-id-9 input.sk-toggleable__control:checked~label.sk-toggleable__label-arrow:before {content: \"▾\";}#sk-container-id-9 div.sk-estimator input.sk-toggleable__control:checked~label.sk-toggleable__label {background-color: #d4ebff;}#sk-container-id-9 div.sk-label input.sk-toggleable__control:checked~label.sk-toggleable__label {background-color: #d4ebff;}#sk-container-id-9 input.sk-hidden--visually {border: 0;clip: rect(1px 1px 1px 1px);clip: rect(1px, 1px, 1px, 1px);height: 1px;margin: -1px;overflow: hidden;padding: 0;position: absolute;width: 1px;}#sk-container-id-9 div.sk-estimator {font-family: monospace;background-color: #f0f8ff;border: 1px dotted black;border-radius: 0.25em;box-sizing: border-box;margin-bottom: 0.5em;}#sk-container-id-9 div.sk-estimator:hover {background-color: #d4ebff;}#sk-container-id-9 div.sk-parallel-item::after {content: \"\";width: 100%;border-bottom: 1px solid gray;flex-grow: 1;}#sk-container-id-9 div.sk-label:hover label.sk-toggleable__label {background-color: #d4ebff;}#sk-container-id-9 div.sk-serial::before {content: \"\";position: absolute;border-left: 1px solid gray;box-sizing: border-box;top: 0;bottom: 0;left: 50%;z-index: 0;}#sk-container-id-9 div.sk-serial {display: flex;flex-direction: column;align-items: center;background-color: white;padding-right: 0.2em;padding-left: 0.2em;position: relative;}#sk-container-id-9 div.sk-item {position: relative;z-index: 1;}#sk-container-id-9 div.sk-parallel {display: flex;align-items: stretch;justify-content: center;background-color: white;position: relative;}#sk-container-id-9 div.sk-item::before, #sk-container-id-9 div.sk-parallel-item::before {content: \"\";position: absolute;border-left: 1px solid gray;box-sizing: border-box;top: 0;bottom: 0;left: 50%;z-index: -1;}#sk-container-id-9 div.sk-parallel-item {display: flex;flex-direction: column;z-index: 1;position: relative;background-color: white;}#sk-container-id-9 div.sk-parallel-item:first-child::after {align-self: flex-end;width: 50%;}#sk-container-id-9 div.sk-parallel-item:last-child::after {align-self: flex-start;width: 50%;}#sk-container-id-9 div.sk-parallel-item:only-child::after {width: 0;}#sk-container-id-9 div.sk-dashed-wrapped {border: 1px dashed gray;margin: 0 0.4em 0.5em 0.4em;box-sizing: border-box;padding-bottom: 0.4em;background-color: white;}#sk-container-id-9 div.sk-label label {font-family: monospace;font-weight: bold;display: inline-block;line-height: 1.2em;}#sk-container-id-9 div.sk-label-container {text-align: center;}#sk-container-id-9 div.sk-container {/* jupyter's `normalize.less` sets `[hidden] { display: none; }` but bootstrap.min.css set `[hidden] { display: none !important; }` so we also need the `!important` here to be able to override the default hidden behavior on the sphinx rendered scikit-learn.org. See: https://github.com/scikit-learn/scikit-learn/issues/21755 */display: inline-block !important;position: relative;}#sk-container-id-9 div.sk-text-repr-fallback {display: none;}</style><div id=\"sk-container-id-9\" class=\"sk-top-container\"><div class=\"sk-text-repr-fallback\"><pre>LGBMRanker(n_estimators=300, num_leaves=20)</pre><b>In a Jupyter environment, please rerun this cell to show the HTML representation or trust the notebook. <br />On GitHub, the HTML representation is unable to render, please try loading this page with nbviewer.org.</b></div><div class=\"sk-container\" hidden><div class=\"sk-item\"><div class=\"sk-estimator sk-toggleable\"><input class=\"sk-toggleable__control sk-hidden--visually\" id=\"sk-estimator-id-9\" type=\"checkbox\" checked><label for=\"sk-estimator-id-9\" class=\"sk-toggleable__label sk-toggleable__label-arrow\">LGBMRanker</label><div class=\"sk-toggleable__content\"><pre>LGBMRanker(n_estimators=300, num_leaves=20)</pre></div></div></div></div></div>"
      ],
      "text/plain": [
       "LGBMRanker(n_estimators=300, num_leaves=20)"
      ]
     },
     "execution_count": 89,
     "metadata": {},
     "output_type": "execute_result"
    }
   ],
   "source": [
    "ranker.fit(X_tr, y_tr, group=train_groups, \n",
    "           eval_set = [(X_val, y_val)], eval_group=[val_groups], \n",
    "           early_stopping_rounds=100, eval_at=(5, 10, 20)\n",
    "          )"
   ]
  },
  {
   "cell_type": "markdown",
   "id": "58e45641",
   "metadata": {},
   "source": [
    "Важность признаков"
   ]
  },
  {
   "cell_type": "code",
   "execution_count": 90,
   "id": "c1aa4b4f",
   "metadata": {},
   "outputs": [
    {
     "data": {
      "text/plain": [
       "{'item_id': 1578,\n",
       " 49: 81,\n",
       " 'basket_date': 79,\n",
       " 48: 55,\n",
       " 47: 24,\n",
       " 45: 10,\n",
       " 44: 6,\n",
       " 46: 5,\n",
       " 37: 2,\n",
       " 41: 2,\n",
       " 39: 1,\n",
       " 0: 0,\n",
       " 1: 0,\n",
       " 2: 0,\n",
       " 3: 0,\n",
       " 4: 0,\n",
       " 5: 0,\n",
       " 6: 0,\n",
       " 7: 0,\n",
       " 8: 0,\n",
       " 9: 0,\n",
       " 10: 0,\n",
       " 11: 0,\n",
       " 12: 0,\n",
       " 13: 0,\n",
       " 14: 0,\n",
       " 15: 0,\n",
       " 16: 0,\n",
       " 17: 0,\n",
       " 18: 0,\n",
       " 19: 0,\n",
       " 20: 0,\n",
       " 21: 0,\n",
       " 22: 0,\n",
       " 23: 0,\n",
       " 24: 0,\n",
       " 25: 0,\n",
       " 26: 0,\n",
       " 27: 0,\n",
       " 28: 0,\n",
       " 29: 0,\n",
       " 30: 0,\n",
       " 31: 0,\n",
       " 32: 0,\n",
       " 33: 0,\n",
       " 34: 0,\n",
       " 35: 0,\n",
       " 36: 0,\n",
       " 38: 0,\n",
       " 40: 0,\n",
       " 42: 0,\n",
       " 43: 0}"
      ]
     },
     "execution_count": 90,
     "metadata": {},
     "output_type": "execute_result"
    }
   ],
   "source": [
    "dict(sorted(dict(zip(X_tr.columns, ranker.feature_importances_)).items(), key=lambda x:x[1],  reverse=True))"
   ]
  },
  {
   "cell_type": "code",
   "execution_count": 91,
   "id": "9e3fdff3",
   "metadata": {},
   "outputs": [
    {
     "data": {
      "image/png": "[encoded data removed]",
      "text/plain": [
       "<Figure size 1000x800 with 1 Axes>"
      ]
     },
     "metadata": {},
     "output_type": "display_data"
    }
   ],
   "source": [
    "plot_feature_importance(ranker.feature_importances_,X_tr.columns, 'TaFeng')"
   ]
  },
  {
   "cell_type": "code",
   "execution_count": 93,
   "id": "4dd2a9c5",
   "metadata": {},
   "outputs": [
    {
     "name": "stdout",
     "output_type": "stream",
     "text": [
      "ROC AUC = 0.736792944011331\n"
     ]
    }
   ],
   "source": [
    "preds = ranker.predict(X_test)\n",
    "res = test[['user_id', 'item_id']].copy()\n",
    "res['preds_scores'] = preds\n",
    "result = predict(res, th = preds.min()-1)\n",
    "print(\"ROC AUC =\",roc_auc_score(y_test, preds))"
   ]
  },
  {
   "cell_type": "code",
   "execution_count": 94,
   "id": "057bfc4e",
   "metadata": {},
   "outputs": [
    {
     "name": "stdout",
     "output_type": "stream",
     "text": [
      "predictions ready 5007\n",
      "number of final test users: 5007\n",
      "5\n",
      "recall: 0.10431796134819282\n",
      "ndcg: 0.10962894878801899\n",
      "precision: 0.09446774515678051\n",
      "hitrate: 0.3547034152186938\n",
      "10\n",
      "recall: 0.13689128000900183\n",
      "ndcg: 0.08531379248433214\n",
      "precision: 0.06722588376273218\n",
      "hitrate: 0.43499101258238465\n",
      "20\n",
      "recall: 0.1699515828477447\n",
      "ndcg: 0.06326571800392917\n",
      "precision: 0.04501697623327342\n",
      "hitrate: 0.5022967845016976\n",
      "B\n",
      "recall: 0.09739314794164583\n",
      "ndcg: 0.11107334765006462\n",
      "precision: 0.09739314794164583\n",
      "hitrate: 0.37487517475534254\n"
     ]
    }
   ],
   "source": [
    "calculate_metrics(path_test, result)"
   ]
  }
 ],
 "metadata": {
  "kernelspec": {
   "display_name": "Python 3 (ipykernel)",
   "language": "python",
   "name": "python3"
  },
  "language_info": {
   "codemirror_mode": {
    "name": "ipython",
    "version": 3
   },
   "file_extension": ".py",
   "mimetype": "text/x-python",
   "name": "python",
   "nbconvert_exporter": "python",
   "pygments_lexer": "ipython3",
   "version": "3.10.9"
  },
  "toc": {
   "base_numbering": 1,
   "nav_menu": {},
   "number_sections": true,
   "sideBar": true,
   "skip_h1_title": false,
   "title_cell": "Table of Contents",
   "title_sidebar": "Contents",
   "toc_cell": false,
   "toc_position": {
    "height": "calc(100% - 180px)",
    "left": "10px",
    "top": "150px",
    "width": "426.667px"
   },
   "toc_section_display": true,
   "toc_window_display": true
  }
 },
 "nbformat": 4,
 "nbformat_minor": 5
}
