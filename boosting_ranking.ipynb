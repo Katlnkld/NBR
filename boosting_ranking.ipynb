{
 "cells": [
  {
   "cell_type": "code",
   "execution_count": 1,
   "id": "c3c87ae4",
   "metadata": {
    "ExecuteTime": {
     "end_time": "2023-02-19T21:54:48.332259Z",
     "start_time": "2023-02-19T21:54:36.334991Z"
    }
   },
   "outputs": [],
   "source": [
    "import matplotlib.pyplot as plt\n",
    "import seaborn as sns\n",
    "sns.set(style='darkgrid', font_scale=1.2)\n",
    "\n",
    "from IPython.display import clear_output\n",
    "%matplotlib inline\n",
    "\n",
    "import pandas as pd\n",
    "import plotly.express as px\n",
    "import numpy as np\n",
    "from tqdm import tqdm\n",
    "\n",
    "tqdm.pandas()\n",
    "\n",
    "from sklearn.metrics import accuracy_score, roc_auc_score\n",
    "\n",
    "from tqdm.notebook import tqdm\n",
    "\n",
    "import os\n",
    "import scipy"
   ]
  },
  {
   "cell_type": "code",
   "execution_count": 2,
   "id": "a4bf350b",
   "metadata": {},
   "outputs": [],
   "source": [
    "from metrics import recall_k, ndcg_k, repeat_score_item, repeat_score_user\n",
    "from boosting.create_dataset import Dataset"
   ]
  },
  {
   "cell_type": "code",
   "execution_count": 3,
   "id": "8d945638",
   "metadata": {
    "ExecuteTime": {
     "end_time": "2023-02-19T21:54:48.534935Z",
     "start_time": "2023-02-19T21:54:48.519944Z"
    }
   },
   "outputs": [],
   "source": [
    "#history_len=20\n",
    "#item_embed_size=128\n",
    "#user_embed_size=32\n",
    "\n",
    "#h1 = 128\n",
    "#h2 = 128\n",
    "#h3 = 128\n",
    "#h4 = 128\n",
    "#h5 = 128\n",
    "\n",
    "dataset_name = 'dunnhumby_cj'"
   ]
  },
  {
   "cell_type": "code",
   "execution_count": 4,
   "id": "a5b65bf9",
   "metadata": {
    "ExecuteTime": {
     "end_time": "2023-02-19T21:54:48.550892Z",
     "start_time": "2023-02-19T21:54:48.535901Z"
    }
   },
   "outputs": [],
   "source": [
    "path_train = f'data/{dataset_name}/baskets/train_baskets.csv'\n",
    "path_test = f'data/{dataset_name}/baskets/test_baskets.csv'\n",
    "path_val = f'data/{dataset_name}/baskets/valid_baskets.csv'"
   ]
  },
  {
   "cell_type": "markdown",
   "id": "ce4e8e27",
   "metadata": {},
   "source": [
    "## Создаем датасет"
   ]
  },
  {
   "cell_type": "code",
   "execution_count": 5,
   "id": "739054e9",
   "metadata": {
    "ExecuteTime": {
     "end_time": "2023-02-19T22:36:03.099868Z",
     "start_time": "2023-02-19T22:35:32.304673Z"
    },
    "scrolled": true
   },
   "outputs": [
    {
     "name": "stdout",
     "output_type": "stream",
     "text": [
      "Total users: 2483\n",
      "Total items: 36963\n"
     ]
    }
   ],
   "source": [
    "dataset = Dataset(path_train,path_val, path_test, dataset=dataset_name, history_len=50, basket_len=50)"
   ]
  },
  {
   "cell_type": "code",
   "execution_count": 6,
   "id": "5ea76233",
   "metadata": {
    "ExecuteTime": {
     "end_time": "2023-02-19T21:55:17.989920Z",
     "start_time": "2023-02-19T21:55:15.177148Z"
    }
   },
   "outputs": [
    {
     "name": "stdout",
     "output_type": "stream",
     "text": [
      "boosting/data/dunnhumby_cj/50_train.npz\n",
      "Done!\n"
     ]
    }
   ],
   "source": [
    "train = dataset.create_train_data()"
   ]
  },
  {
   "cell_type": "code",
   "execution_count": 7,
   "id": "84ceb299",
   "metadata": {
    "ExecuteTime": {
     "end_time": "2023-02-19T21:55:18.146713Z",
     "start_time": "2023-02-19T21:55:17.990925Z"
    }
   },
   "outputs": [
    {
     "name": "stdout",
     "output_type": "stream",
     "text": [
      "boosting/data/dunnhumby_cj/50_val.npz\n",
      "Done!\n"
     ]
    }
   ],
   "source": [
    "val = dataset.create_val_test_data(mode='val')"
   ]
  },
  {
   "cell_type": "code",
   "execution_count": 8,
   "id": "be03fb18",
   "metadata": {
    "ExecuteTime": {
     "end_time": "2023-02-19T21:55:18.317186Z",
     "start_time": "2023-02-19T21:55:18.149314Z"
    }
   },
   "outputs": [
    {
     "name": "stdout",
     "output_type": "stream",
     "text": [
      "boosting/data/dunnhumby_cj/50_test.npz\n",
      "Done!\n"
     ]
    }
   ],
   "source": [
    "test = dataset.create_val_test_data(mode='test')"
   ]
  },
  {
   "cell_type": "code",
   "execution_count": 9,
   "id": "fc0c2161",
   "metadata": {
    "ExecuteTime": {
     "end_time": "2023-02-19T21:55:18.333171Z",
     "start_time": "2023-02-19T21:55:18.319184Z"
    }
   },
   "outputs": [
    {
     "data": {
      "text/plain": [
       "((177804, 55), (185085, 55))"
      ]
     },
     "execution_count": 9,
     "metadata": {},
     "output_type": "execute_result"
    }
   ],
   "source": [
    "val.shape, test.shape"
   ]
  },
  {
   "cell_type": "code",
   "execution_count": 10,
   "id": "60581b85",
   "metadata": {
    "ExecuteTime": {
     "end_time": "2023-02-19T21:55:18.348134Z",
     "start_time": "2023-02-19T21:55:18.334156Z"
    }
   },
   "outputs": [
    {
     "data": {
      "text/plain": [
       "(13974032, 55)"
      ]
     },
     "execution_count": 10,
     "metadata": {},
     "output_type": "execute_result"
    }
   ],
   "source": [
    "train.shape"
   ]
  },
  {
   "cell_type": "code",
   "execution_count": 11,
   "id": "3d5f7520",
   "metadata": {
    "ExecuteTime": {
     "end_time": "2023-02-19T21:57:12.629052Z",
     "start_time": "2023-02-19T21:57:12.616060Z"
    }
   },
   "outputs": [],
   "source": [
    "# функция для предикта (+ добавляем юзеров, для которых нет предсказаний)\n",
    "def predict(df, th=0):\n",
    "    \n",
    "    df['user_id'] = df['user_id'].astype(int)\n",
    "    df['item_id'] = df['item_id'].astype(int)\n",
    "    \n",
    "    test_users = pd.DataFrame(dataset.test_cleaned.user_id.unique(), columns=['user_id'])\n",
    "    df = df[df.preds_scores>=th]       \n",
    "    df = df.sort_values(by='preds_scores', ascending=False)\n",
    "    \n",
    "    res = df.groupby('user_id').agg({'item_id': list}).reset_index()\n",
    "    res = test_users.merge(res, how='left')\n",
    "    res['item_id'] = res['item_id'].fillna(\"\").apply(list)\n",
    "    return res"
   ]
  },
  {
   "cell_type": "markdown",
   "id": "bd0bd9ab",
   "metadata": {},
   "source": [
    "## LGBM Ranker"
   ]
  },
  {
   "cell_type": "code",
   "execution_count": 12,
   "id": "91cc9fb0",
   "metadata": {},
   "outputs": [],
   "source": [
    "from lightgbm import LGBMRanker"
   ]
  },
  {
   "cell_type": "code",
   "execution_count": 13,
   "id": "ec387330",
   "metadata": {},
   "outputs": [],
   "source": [
    "train = train.sort_values(by = 'basket_id')\n",
    "val = val.sort_values(by = 'basket_id')\n",
    "test = test.sort_values(by = 'basket_id')"
   ]
  },
  {
   "cell_type": "code",
   "execution_count": 14,
   "id": "b930692f",
   "metadata": {},
   "outputs": [],
   "source": [
    "# функция для группировки при ранжировании\n",
    "get_group_size = lambda df: df.reset_index().groupby(\"basket_id\")['basket_id'].count()"
   ]
  },
  {
   "cell_type": "code",
   "execution_count": 15,
   "id": "6a891f67",
   "metadata": {},
   "outputs": [],
   "source": [
    "# item_id - категориальная фича\n",
    "train['item_id'] = train['item_id'].sparse.to_dense().astype('category')\n",
    "val['item_id'] = val['item_id'].sparse.to_dense().astype('category')\n",
    "test['item_id'] = test['item_id'].sparse.to_dense().astype('category')\n",
    "\n",
    "train['basket_id'] = train['basket_id'].sparse.to_dense().astype('int')\n",
    "val['basket_id'] = val['basket_id'].sparse.to_dense().astype('int')\n",
    "test['basket_id'] = test['basket_id'].sparse.to_dense().astype('int')"
   ]
  },
  {
   "cell_type": "code",
   "execution_count": 16,
   "id": "1fdad585",
   "metadata": {},
   "outputs": [],
   "source": [
    "X_tr, y_tr = train.drop(['user_id','labels', 'basket_id'], axis=1), train.labels, \n",
    "X_val, y_val = val.drop(['user_id','labels', 'basket_id'], axis=1), val.labels\n",
    "X_test, y_test = test.drop(['user_id','labels', 'basket_id'], axis=1), test.labels"
   ]
  },
  {
   "cell_type": "code",
   "execution_count": 17,
   "id": "597e95bd",
   "metadata": {},
   "outputs": [],
   "source": [
    "train_groups = get_group_size(train)\n",
    "val_groups = get_group_size(val)"
   ]
  },
  {
   "cell_type": "code",
   "execution_count": 18,
   "id": "2f33168d",
   "metadata": {},
   "outputs": [],
   "source": [
    "ranker = LGBMRanker(n_estimators=300)"
   ]
  },
  {
   "cell_type": "code",
   "execution_count": 19,
   "id": "64579dc4",
   "metadata": {},
   "outputs": [
    {
     "name": "stderr",
     "output_type": "stream",
     "text": [
      "/Users/kat/opt/anaconda3/lib/python3.9/site-packages/lightgbm/basic.py:1433: UserWarning: Overriding the parameters from Reference Dataset.\n",
      "  _log_warning('Overriding the parameters from Reference Dataset.')\n",
      "/Users/kat/opt/anaconda3/lib/python3.9/site-packages/lightgbm/basic.py:1245: UserWarning: categorical_column in param dict is overridden.\n",
      "  _log_warning('{} in param dict is overridden.'.format(cat_alias))\n"
     ]
    },
    {
     "name": "stdout",
     "output_type": "stream",
     "text": [
      "[1]\tvalid_0's ndcg@5: 0.503759\tvalid_0's ndcg@10: 0.528215\tvalid_0's ndcg@20: 0.562548\n",
      "Training until validation scores don't improve for 100 rounds\n",
      "[2]\tvalid_0's ndcg@5: 0.535838\tvalid_0's ndcg@10: 0.55774\tvalid_0's ndcg@20: 0.588782\n",
      "[3]\tvalid_0's ndcg@5: 0.538518\tvalid_0's ndcg@10: 0.55969\tvalid_0's ndcg@20: 0.59257\n",
      "[4]\tvalid_0's ndcg@5: 0.540969\tvalid_0's ndcg@10: 0.562128\tvalid_0's ndcg@20: 0.593077\n",
      "[5]\tvalid_0's ndcg@5: 0.540405\tvalid_0's ndcg@10: 0.562367\tvalid_0's ndcg@20: 0.59312\n",
      "[6]\tvalid_0's ndcg@5: 0.541164\tvalid_0's ndcg@10: 0.563619\tvalid_0's ndcg@20: 0.594115\n",
      "[7]\tvalid_0's ndcg@5: 0.542061\tvalid_0's ndcg@10: 0.564278\tvalid_0's ndcg@20: 0.595464\n",
      "[8]\tvalid_0's ndcg@5: 0.540783\tvalid_0's ndcg@10: 0.563419\tvalid_0's ndcg@20: 0.595117\n",
      "[9]\tvalid_0's ndcg@5: 0.540875\tvalid_0's ndcg@10: 0.563503\tvalid_0's ndcg@20: 0.595209\n",
      "[10]\tvalid_0's ndcg@5: 0.541627\tvalid_0's ndcg@10: 0.563634\tvalid_0's ndcg@20: 0.595649\n",
      "[11]\tvalid_0's ndcg@5: 0.542221\tvalid_0's ndcg@10: 0.564331\tvalid_0's ndcg@20: 0.596439\n",
      "[12]\tvalid_0's ndcg@5: 0.541974\tvalid_0's ndcg@10: 0.56375\tvalid_0's ndcg@20: 0.596424\n",
      "[13]\tvalid_0's ndcg@5: 0.541665\tvalid_0's ndcg@10: 0.563129\tvalid_0's ndcg@20: 0.596081\n",
      "[14]\tvalid_0's ndcg@5: 0.541443\tvalid_0's ndcg@10: 0.564454\tvalid_0's ndcg@20: 0.596809\n",
      "[15]\tvalid_0's ndcg@5: 0.541689\tvalid_0's ndcg@10: 0.563452\tvalid_0's ndcg@20: 0.595868\n",
      "[16]\tvalid_0's ndcg@5: 0.542522\tvalid_0's ndcg@10: 0.563824\tvalid_0's ndcg@20: 0.596004\n",
      "[17]\tvalid_0's ndcg@5: 0.540185\tvalid_0's ndcg@10: 0.562227\tvalid_0's ndcg@20: 0.595011\n",
      "[18]\tvalid_0's ndcg@5: 0.540486\tvalid_0's ndcg@10: 0.561851\tvalid_0's ndcg@20: 0.594174\n",
      "[19]\tvalid_0's ndcg@5: 0.54131\tvalid_0's ndcg@10: 0.562448\tvalid_0's ndcg@20: 0.595908\n",
      "[20]\tvalid_0's ndcg@5: 0.539135\tvalid_0's ndcg@10: 0.561584\tvalid_0's ndcg@20: 0.594487\n",
      "[21]\tvalid_0's ndcg@5: 0.538896\tvalid_0's ndcg@10: 0.561752\tvalid_0's ndcg@20: 0.594474\n",
      "[22]\tvalid_0's ndcg@5: 0.54007\tvalid_0's ndcg@10: 0.562655\tvalid_0's ndcg@20: 0.595095\n",
      "[23]\tvalid_0's ndcg@5: 0.539573\tvalid_0's ndcg@10: 0.562433\tvalid_0's ndcg@20: 0.594573\n",
      "[24]\tvalid_0's ndcg@5: 0.540421\tvalid_0's ndcg@10: 0.562795\tvalid_0's ndcg@20: 0.594627\n",
      "[25]\tvalid_0's ndcg@5: 0.539716\tvalid_0's ndcg@10: 0.562328\tvalid_0's ndcg@20: 0.59384\n",
      "[26]\tvalid_0's ndcg@5: 0.541115\tvalid_0's ndcg@10: 0.56253\tvalid_0's ndcg@20: 0.594528\n",
      "[27]\tvalid_0's ndcg@5: 0.541519\tvalid_0's ndcg@10: 0.562717\tvalid_0's ndcg@20: 0.594306\n",
      "[28]\tvalid_0's ndcg@5: 0.541866\tvalid_0's ndcg@10: 0.563595\tvalid_0's ndcg@20: 0.594688\n",
      "[29]\tvalid_0's ndcg@5: 0.54209\tvalid_0's ndcg@10: 0.563483\tvalid_0's ndcg@20: 0.594577\n",
      "[30]\tvalid_0's ndcg@5: 0.542586\tvalid_0's ndcg@10: 0.563428\tvalid_0's ndcg@20: 0.594095\n",
      "[31]\tvalid_0's ndcg@5: 0.5422\tvalid_0's ndcg@10: 0.562964\tvalid_0's ndcg@20: 0.594373\n",
      "[32]\tvalid_0's ndcg@5: 0.542087\tvalid_0's ndcg@10: 0.563376\tvalid_0's ndcg@20: 0.594551\n",
      "[33]\tvalid_0's ndcg@5: 0.54226\tvalid_0's ndcg@10: 0.563563\tvalid_0's ndcg@20: 0.594413\n",
      "[34]\tvalid_0's ndcg@5: 0.542616\tvalid_0's ndcg@10: 0.563597\tvalid_0's ndcg@20: 0.594812\n",
      "[35]\tvalid_0's ndcg@5: 0.54184\tvalid_0's ndcg@10: 0.563703\tvalid_0's ndcg@20: 0.594384\n",
      "[36]\tvalid_0's ndcg@5: 0.541419\tvalid_0's ndcg@10: 0.56349\tvalid_0's ndcg@20: 0.594399\n",
      "[37]\tvalid_0's ndcg@5: 0.541177\tvalid_0's ndcg@10: 0.563601\tvalid_0's ndcg@20: 0.594974\n",
      "[38]\tvalid_0's ndcg@5: 0.541277\tvalid_0's ndcg@10: 0.563427\tvalid_0's ndcg@20: 0.594867\n",
      "[39]\tvalid_0's ndcg@5: 0.542197\tvalid_0's ndcg@10: 0.564421\tvalid_0's ndcg@20: 0.595578\n",
      "[40]\tvalid_0's ndcg@5: 0.542782\tvalid_0's ndcg@10: 0.564517\tvalid_0's ndcg@20: 0.596422\n",
      "[41]\tvalid_0's ndcg@5: 0.542932\tvalid_0's ndcg@10: 0.564994\tvalid_0's ndcg@20: 0.596756\n",
      "[42]\tvalid_0's ndcg@5: 0.542081\tvalid_0's ndcg@10: 0.564504\tvalid_0's ndcg@20: 0.596149\n",
      "[43]\tvalid_0's ndcg@5: 0.542202\tvalid_0's ndcg@10: 0.564883\tvalid_0's ndcg@20: 0.596263\n",
      "[44]\tvalid_0's ndcg@5: 0.541781\tvalid_0's ndcg@10: 0.565045\tvalid_0's ndcg@20: 0.596065\n",
      "[45]\tvalid_0's ndcg@5: 0.54187\tvalid_0's ndcg@10: 0.56476\tvalid_0's ndcg@20: 0.596038\n",
      "[46]\tvalid_0's ndcg@5: 0.542559\tvalid_0's ndcg@10: 0.565448\tvalid_0's ndcg@20: 0.596367\n",
      "[47]\tvalid_0's ndcg@5: 0.541909\tvalid_0's ndcg@10: 0.564965\tvalid_0's ndcg@20: 0.595833\n",
      "[48]\tvalid_0's ndcg@5: 0.542151\tvalid_0's ndcg@10: 0.564985\tvalid_0's ndcg@20: 0.595794\n",
      "[49]\tvalid_0's ndcg@5: 0.542512\tvalid_0's ndcg@10: 0.565115\tvalid_0's ndcg@20: 0.596106\n",
      "[50]\tvalid_0's ndcg@5: 0.542706\tvalid_0's ndcg@10: 0.565607\tvalid_0's ndcg@20: 0.596375\n",
      "[51]\tvalid_0's ndcg@5: 0.543459\tvalid_0's ndcg@10: 0.565979\tvalid_0's ndcg@20: 0.596705\n",
      "[52]\tvalid_0's ndcg@5: 0.542846\tvalid_0's ndcg@10: 0.565565\tvalid_0's ndcg@20: 0.596598\n",
      "[53]\tvalid_0's ndcg@5: 0.542541\tvalid_0's ndcg@10: 0.565749\tvalid_0's ndcg@20: 0.596579\n",
      "[54]\tvalid_0's ndcg@5: 0.542355\tvalid_0's ndcg@10: 0.565357\tvalid_0's ndcg@20: 0.596414\n",
      "[55]\tvalid_0's ndcg@5: 0.542697\tvalid_0's ndcg@10: 0.565318\tvalid_0's ndcg@20: 0.596589\n",
      "[56]\tvalid_0's ndcg@5: 0.542823\tvalid_0's ndcg@10: 0.565588\tvalid_0's ndcg@20: 0.596947\n",
      "[57]\tvalid_0's ndcg@5: 0.542478\tvalid_0's ndcg@10: 0.565247\tvalid_0's ndcg@20: 0.596941\n",
      "[58]\tvalid_0's ndcg@5: 0.542195\tvalid_0's ndcg@10: 0.565199\tvalid_0's ndcg@20: 0.596473\n",
      "[59]\tvalid_0's ndcg@5: 0.542633\tvalid_0's ndcg@10: 0.56525\tvalid_0's ndcg@20: 0.596682\n",
      "[60]\tvalid_0's ndcg@5: 0.542526\tvalid_0's ndcg@10: 0.565079\tvalid_0's ndcg@20: 0.596697\n",
      "[61]\tvalid_0's ndcg@5: 0.542622\tvalid_0's ndcg@10: 0.565147\tvalid_0's ndcg@20: 0.596771\n",
      "[62]\tvalid_0's ndcg@5: 0.542799\tvalid_0's ndcg@10: 0.565254\tvalid_0's ndcg@20: 0.596448\n",
      "[63]\tvalid_0's ndcg@5: 0.543464\tvalid_0's ndcg@10: 0.565757\tvalid_0's ndcg@20: 0.596807\n",
      "[64]\tvalid_0's ndcg@5: 0.543283\tvalid_0's ndcg@10: 0.56569\tvalid_0's ndcg@20: 0.596693\n",
      "[65]\tvalid_0's ndcg@5: 0.54369\tvalid_0's ndcg@10: 0.566198\tvalid_0's ndcg@20: 0.596965\n",
      "[66]\tvalid_0's ndcg@5: 0.543048\tvalid_0's ndcg@10: 0.565592\tvalid_0's ndcg@20: 0.59671\n",
      "[67]\tvalid_0's ndcg@5: 0.542776\tvalid_0's ndcg@10: 0.565465\tvalid_0's ndcg@20: 0.59688\n",
      "[68]\tvalid_0's ndcg@5: 0.542615\tvalid_0's ndcg@10: 0.565118\tvalid_0's ndcg@20: 0.59659\n",
      "[69]\tvalid_0's ndcg@5: 0.543006\tvalid_0's ndcg@10: 0.565776\tvalid_0's ndcg@20: 0.597358\n",
      "[70]\tvalid_0's ndcg@5: 0.542877\tvalid_0's ndcg@10: 0.565712\tvalid_0's ndcg@20: 0.597085\n",
      "[71]\tvalid_0's ndcg@5: 0.54268\tvalid_0's ndcg@10: 0.565791\tvalid_0's ndcg@20: 0.597122\n",
      "[72]\tvalid_0's ndcg@5: 0.542944\tvalid_0's ndcg@10: 0.566175\tvalid_0's ndcg@20: 0.597405\n",
      "[73]\tvalid_0's ndcg@5: 0.542732\tvalid_0's ndcg@10: 0.565848\tvalid_0's ndcg@20: 0.596949\n",
      "[74]\tvalid_0's ndcg@5: 0.54244\tvalid_0's ndcg@10: 0.565821\tvalid_0's ndcg@20: 0.596752\n",
      "[75]\tvalid_0's ndcg@5: 0.542402\tvalid_0's ndcg@10: 0.565837\tvalid_0's ndcg@20: 0.596664\n",
      "[76]\tvalid_0's ndcg@5: 0.542325\tvalid_0's ndcg@10: 0.565949\tvalid_0's ndcg@20: 0.596669\n",
      "[77]\tvalid_0's ndcg@5: 0.542831\tvalid_0's ndcg@10: 0.565904\tvalid_0's ndcg@20: 0.596718\n",
      "[78]\tvalid_0's ndcg@5: 0.543155\tvalid_0's ndcg@10: 0.565788\tvalid_0's ndcg@20: 0.59677\n",
      "[79]\tvalid_0's ndcg@5: 0.543096\tvalid_0's ndcg@10: 0.565905\tvalid_0's ndcg@20: 0.596739\n",
      "[80]\tvalid_0's ndcg@5: 0.543104\tvalid_0's ndcg@10: 0.565856\tvalid_0's ndcg@20: 0.59671\n",
      "[81]\tvalid_0's ndcg@5: 0.543104\tvalid_0's ndcg@10: 0.566026\tvalid_0's ndcg@20: 0.596916\n",
      "[82]\tvalid_0's ndcg@5: 0.542647\tvalid_0's ndcg@10: 0.565929\tvalid_0's ndcg@20: 0.596833\n",
      "[83]\tvalid_0's ndcg@5: 0.543162\tvalid_0's ndcg@10: 0.566458\tvalid_0's ndcg@20: 0.597307\n",
      "[84]\tvalid_0's ndcg@5: 0.543162\tvalid_0's ndcg@10: 0.566434\tvalid_0's ndcg@20: 0.597226\n",
      "[85]\tvalid_0's ndcg@5: 0.543006\tvalid_0's ndcg@10: 0.56644\tvalid_0's ndcg@20: 0.597293\n",
      "[86]\tvalid_0's ndcg@5: 0.543001\tvalid_0's ndcg@10: 0.566572\tvalid_0's ndcg@20: 0.597122\n",
      "[87]\tvalid_0's ndcg@5: 0.54342\tvalid_0's ndcg@10: 0.566734\tvalid_0's ndcg@20: 0.596833\n",
      "[88]\tvalid_0's ndcg@5: 0.543607\tvalid_0's ndcg@10: 0.567168\tvalid_0's ndcg@20: 0.597091\n",
      "[89]\tvalid_0's ndcg@5: 0.54362\tvalid_0's ndcg@10: 0.567421\tvalid_0's ndcg@20: 0.597153\n",
      "[90]\tvalid_0's ndcg@5: 0.543723\tvalid_0's ndcg@10: 0.567575\tvalid_0's ndcg@20: 0.597337\n",
      "[91]\tvalid_0's ndcg@5: 0.543355\tvalid_0's ndcg@10: 0.567193\tvalid_0's ndcg@20: 0.597395\n",
      "[92]\tvalid_0's ndcg@5: 0.542816\tvalid_0's ndcg@10: 0.56697\tvalid_0's ndcg@20: 0.59686\n",
      "[93]\tvalid_0's ndcg@5: 0.542606\tvalid_0's ndcg@10: 0.566947\tvalid_0's ndcg@20: 0.596621\n"
     ]
    },
    {
     "name": "stdout",
     "output_type": "stream",
     "text": [
      "[94]\tvalid_0's ndcg@5: 0.542718\tvalid_0's ndcg@10: 0.566479\tvalid_0's ndcg@20: 0.596647\n",
      "[95]\tvalid_0's ndcg@5: 0.542908\tvalid_0's ndcg@10: 0.566746\tvalid_0's ndcg@20: 0.597026\n",
      "[96]\tvalid_0's ndcg@5: 0.542787\tvalid_0's ndcg@10: 0.566433\tvalid_0's ndcg@20: 0.596946\n",
      "[97]\tvalid_0's ndcg@5: 0.542787\tvalid_0's ndcg@10: 0.566438\tvalid_0's ndcg@20: 0.596948\n",
      "[98]\tvalid_0's ndcg@5: 0.542797\tvalid_0's ndcg@10: 0.566637\tvalid_0's ndcg@20: 0.59671\n",
      "[99]\tvalid_0's ndcg@5: 0.542963\tvalid_0's ndcg@10: 0.566576\tvalid_0's ndcg@20: 0.596857\n",
      "[100]\tvalid_0's ndcg@5: 0.543127\tvalid_0's ndcg@10: 0.56657\tvalid_0's ndcg@20: 0.59685\n",
      "[101]\tvalid_0's ndcg@5: 0.543278\tvalid_0's ndcg@10: 0.566584\tvalid_0's ndcg@20: 0.596858\n",
      "[102]\tvalid_0's ndcg@5: 0.543335\tvalid_0's ndcg@10: 0.567115\tvalid_0's ndcg@20: 0.596669\n",
      "[103]\tvalid_0's ndcg@5: 0.543335\tvalid_0's ndcg@10: 0.567134\tvalid_0's ndcg@20: 0.59674\n",
      "[104]\tvalid_0's ndcg@5: 0.543243\tvalid_0's ndcg@10: 0.567144\tvalid_0's ndcg@20: 0.596767\n",
      "[105]\tvalid_0's ndcg@5: 0.543173\tvalid_0's ndcg@10: 0.56731\tvalid_0's ndcg@20: 0.596646\n",
      "[106]\tvalid_0's ndcg@5: 0.543065\tvalid_0's ndcg@10: 0.566749\tvalid_0's ndcg@20: 0.596133\n",
      "[107]\tvalid_0's ndcg@5: 0.543171\tvalid_0's ndcg@10: 0.566972\tvalid_0's ndcg@20: 0.596216\n",
      "[108]\tvalid_0's ndcg@5: 0.542962\tvalid_0's ndcg@10: 0.566835\tvalid_0's ndcg@20: 0.595971\n",
      "[109]\tvalid_0's ndcg@5: 0.542642\tvalid_0's ndcg@10: 0.566684\tvalid_0's ndcg@20: 0.596075\n",
      "[110]\tvalid_0's ndcg@5: 0.542642\tvalid_0's ndcg@10: 0.566637\tvalid_0's ndcg@20: 0.596042\n",
      "[111]\tvalid_0's ndcg@5: 0.542566\tvalid_0's ndcg@10: 0.566092\tvalid_0's ndcg@20: 0.595754\n",
      "[112]\tvalid_0's ndcg@5: 0.542457\tvalid_0's ndcg@10: 0.566084\tvalid_0's ndcg@20: 0.595738\n",
      "[113]\tvalid_0's ndcg@5: 0.542492\tvalid_0's ndcg@10: 0.566392\tvalid_0's ndcg@20: 0.59586\n",
      "[114]\tvalid_0's ndcg@5: 0.542706\tvalid_0's ndcg@10: 0.566761\tvalid_0's ndcg@20: 0.596216\n",
      "[115]\tvalid_0's ndcg@5: 0.542932\tvalid_0's ndcg@10: 0.567072\tvalid_0's ndcg@20: 0.596254\n",
      "[116]\tvalid_0's ndcg@5: 0.543109\tvalid_0's ndcg@10: 0.567269\tvalid_0's ndcg@20: 0.596723\n",
      "[117]\tvalid_0's ndcg@5: 0.543205\tvalid_0's ndcg@10: 0.567743\tvalid_0's ndcg@20: 0.59682\n",
      "[118]\tvalid_0's ndcg@5: 0.543031\tvalid_0's ndcg@10: 0.567839\tvalid_0's ndcg@20: 0.596813\n",
      "[119]\tvalid_0's ndcg@5: 0.543209\tvalid_0's ndcg@10: 0.567739\tvalid_0's ndcg@20: 0.596798\n",
      "[120]\tvalid_0's ndcg@5: 0.543209\tvalid_0's ndcg@10: 0.567873\tvalid_0's ndcg@20: 0.596824\n",
      "[121]\tvalid_0's ndcg@5: 0.543424\tvalid_0's ndcg@10: 0.568271\tvalid_0's ndcg@20: 0.597079\n",
      "[122]\tvalid_0's ndcg@5: 0.543424\tvalid_0's ndcg@10: 0.568216\tvalid_0's ndcg@20: 0.597264\n",
      "[123]\tvalid_0's ndcg@5: 0.54334\tvalid_0's ndcg@10: 0.567924\tvalid_0's ndcg@20: 0.597193\n",
      "[124]\tvalid_0's ndcg@5: 0.543231\tvalid_0's ndcg@10: 0.567917\tvalid_0's ndcg@20: 0.597195\n",
      "[125]\tvalid_0's ndcg@5: 0.543251\tvalid_0's ndcg@10: 0.567933\tvalid_0's ndcg@20: 0.59722\n",
      "[126]\tvalid_0's ndcg@5: 0.543446\tvalid_0's ndcg@10: 0.567799\tvalid_0's ndcg@20: 0.597092\n",
      "[127]\tvalid_0's ndcg@5: 0.543169\tvalid_0's ndcg@10: 0.566853\tvalid_0's ndcg@20: 0.596799\n",
      "[128]\tvalid_0's ndcg@5: 0.543296\tvalid_0's ndcg@10: 0.567187\tvalid_0's ndcg@20: 0.596965\n",
      "[129]\tvalid_0's ndcg@5: 0.543081\tvalid_0's ndcg@10: 0.566941\tvalid_0's ndcg@20: 0.596837\n",
      "[130]\tvalid_0's ndcg@5: 0.542401\tvalid_0's ndcg@10: 0.566181\tvalid_0's ndcg@20: 0.596363\n",
      "[131]\tvalid_0's ndcg@5: 0.542524\tvalid_0's ndcg@10: 0.566174\tvalid_0's ndcg@20: 0.596476\n",
      "[132]\tvalid_0's ndcg@5: 0.542328\tvalid_0's ndcg@10: 0.566426\tvalid_0's ndcg@20: 0.596644\n",
      "[133]\tvalid_0's ndcg@5: 0.542471\tvalid_0's ndcg@10: 0.566763\tvalid_0's ndcg@20: 0.596921\n",
      "[134]\tvalid_0's ndcg@5: 0.542987\tvalid_0's ndcg@10: 0.566873\tvalid_0's ndcg@20: 0.596875\n",
      "[135]\tvalid_0's ndcg@5: 0.54309\tvalid_0's ndcg@10: 0.566611\tvalid_0's ndcg@20: 0.596901\n",
      "[136]\tvalid_0's ndcg@5: 0.542773\tvalid_0's ndcg@10: 0.566325\tvalid_0's ndcg@20: 0.596767\n",
      "[137]\tvalid_0's ndcg@5: 0.542873\tvalid_0's ndcg@10: 0.566343\tvalid_0's ndcg@20: 0.596999\n",
      "[138]\tvalid_0's ndcg@5: 0.542704\tvalid_0's ndcg@10: 0.566169\tvalid_0's ndcg@20: 0.596762\n",
      "[139]\tvalid_0's ndcg@5: 0.543102\tvalid_0's ndcg@10: 0.566084\tvalid_0's ndcg@20: 0.596933\n",
      "[140]\tvalid_0's ndcg@5: 0.543675\tvalid_0's ndcg@10: 0.56627\tvalid_0's ndcg@20: 0.597476\n",
      "[141]\tvalid_0's ndcg@5: 0.543643\tvalid_0's ndcg@10: 0.566047\tvalid_0's ndcg@20: 0.597524\n",
      "[142]\tvalid_0's ndcg@5: 0.543311\tvalid_0's ndcg@10: 0.566193\tvalid_0's ndcg@20: 0.59756\n",
      "[143]\tvalid_0's ndcg@5: 0.543168\tvalid_0's ndcg@10: 0.566383\tvalid_0's ndcg@20: 0.597289\n",
      "[144]\tvalid_0's ndcg@5: 0.543173\tvalid_0's ndcg@10: 0.566391\tvalid_0's ndcg@20: 0.597299\n",
      "[145]\tvalid_0's ndcg@5: 0.543447\tvalid_0's ndcg@10: 0.566778\tvalid_0's ndcg@20: 0.597457\n",
      "[146]\tvalid_0's ndcg@5: 0.543405\tvalid_0's ndcg@10: 0.566939\tvalid_0's ndcg@20: 0.597362\n",
      "[147]\tvalid_0's ndcg@5: 0.543668\tvalid_0's ndcg@10: 0.567087\tvalid_0's ndcg@20: 0.597379\n",
      "[148]\tvalid_0's ndcg@5: 0.543715\tvalid_0's ndcg@10: 0.567287\tvalid_0's ndcg@20: 0.597589\n",
      "[149]\tvalid_0's ndcg@5: 0.543936\tvalid_0's ndcg@10: 0.567534\tvalid_0's ndcg@20: 0.598205\n",
      "[150]\tvalid_0's ndcg@5: 0.543789\tvalid_0's ndcg@10: 0.567605\tvalid_0's ndcg@20: 0.598206\n",
      "[151]\tvalid_0's ndcg@5: 0.544017\tvalid_0's ndcg@10: 0.567824\tvalid_0's ndcg@20: 0.598424\n",
      "[152]\tvalid_0's ndcg@5: 0.543765\tvalid_0's ndcg@10: 0.567664\tvalid_0's ndcg@20: 0.598149\n",
      "[153]\tvalid_0's ndcg@5: 0.5438\tvalid_0's ndcg@10: 0.567619\tvalid_0's ndcg@20: 0.598182\n",
      "[154]\tvalid_0's ndcg@5: 0.543574\tvalid_0's ndcg@10: 0.567961\tvalid_0's ndcg@20: 0.598191\n",
      "[155]\tvalid_0's ndcg@5: 0.542992\tvalid_0's ndcg@10: 0.567909\tvalid_0's ndcg@20: 0.597921\n",
      "[156]\tvalid_0's ndcg@5: 0.542864\tvalid_0's ndcg@10: 0.567933\tvalid_0's ndcg@20: 0.597704\n",
      "[157]\tvalid_0's ndcg@5: 0.542876\tvalid_0's ndcg@10: 0.567867\tvalid_0's ndcg@20: 0.597679\n",
      "[158]\tvalid_0's ndcg@5: 0.542876\tvalid_0's ndcg@10: 0.567867\tvalid_0's ndcg@20: 0.597562\n",
      "[159]\tvalid_0's ndcg@5: 0.54299\tvalid_0's ndcg@10: 0.567917\tvalid_0's ndcg@20: 0.597752\n",
      "[160]\tvalid_0's ndcg@5: 0.543258\tvalid_0's ndcg@10: 0.568052\tvalid_0's ndcg@20: 0.598128\n",
      "[161]\tvalid_0's ndcg@5: 0.543472\tvalid_0's ndcg@10: 0.568283\tvalid_0's ndcg@20: 0.598547\n",
      "[162]\tvalid_0's ndcg@5: 0.543631\tvalid_0's ndcg@10: 0.568321\tvalid_0's ndcg@20: 0.598664\n",
      "[163]\tvalid_0's ndcg@5: 0.543759\tvalid_0's ndcg@10: 0.568774\tvalid_0's ndcg@20: 0.598822\n",
      "[164]\tvalid_0's ndcg@5: 0.543618\tvalid_0's ndcg@10: 0.568431\tvalid_0's ndcg@20: 0.598481\n",
      "[165]\tvalid_0's ndcg@5: 0.543618\tvalid_0's ndcg@10: 0.568423\tvalid_0's ndcg@20: 0.59849\n",
      "[166]\tvalid_0's ndcg@5: 0.543512\tvalid_0's ndcg@10: 0.568366\tvalid_0's ndcg@20: 0.598434\n",
      "[167]\tvalid_0's ndcg@5: 0.543347\tvalid_0's ndcg@10: 0.568036\tvalid_0's ndcg@20: 0.598155\n",
      "[168]\tvalid_0's ndcg@5: 0.543463\tvalid_0's ndcg@10: 0.568346\tvalid_0's ndcg@20: 0.59841\n",
      "[169]\tvalid_0's ndcg@5: 0.543671\tvalid_0's ndcg@10: 0.568639\tvalid_0's ndcg@20: 0.598602\n",
      "[170]\tvalid_0's ndcg@5: 0.54393\tvalid_0's ndcg@10: 0.568446\tvalid_0's ndcg@20: 0.598708\n",
      "[171]\tvalid_0's ndcg@5: 0.54393\tvalid_0's ndcg@10: 0.56846\tvalid_0's ndcg@20: 0.59871\n",
      "[172]\tvalid_0's ndcg@5: 0.54379\tvalid_0's ndcg@10: 0.568273\tvalid_0's ndcg@20: 0.598414\n",
      "[173]\tvalid_0's ndcg@5: 0.543734\tvalid_0's ndcg@10: 0.568212\tvalid_0's ndcg@20: 0.598332\n",
      "[174]\tvalid_0's ndcg@5: 0.543785\tvalid_0's ndcg@10: 0.568355\tvalid_0's ndcg@20: 0.598443\n",
      "[175]\tvalid_0's ndcg@5: 0.544424\tvalid_0's ndcg@10: 0.568383\tvalid_0's ndcg@20: 0.598713\n",
      "[176]\tvalid_0's ndcg@5: 0.544446\tvalid_0's ndcg@10: 0.56841\tvalid_0's ndcg@20: 0.598705\n",
      "[177]\tvalid_0's ndcg@5: 0.543869\tvalid_0's ndcg@10: 0.568266\tvalid_0's ndcg@20: 0.598224\n",
      "[178]\tvalid_0's ndcg@5: 0.543643\tvalid_0's ndcg@10: 0.568208\tvalid_0's ndcg@20: 0.598148\n",
      "[179]\tvalid_0's ndcg@5: 0.543726\tvalid_0's ndcg@10: 0.568191\tvalid_0's ndcg@20: 0.59813\n",
      "[180]\tvalid_0's ndcg@5: 0.543914\tvalid_0's ndcg@10: 0.568404\tvalid_0's ndcg@20: 0.597916\n",
      "[181]\tvalid_0's ndcg@5: 0.543863\tvalid_0's ndcg@10: 0.568212\tvalid_0's ndcg@20: 0.597811\n",
      "[182]\tvalid_0's ndcg@5: 0.543934\tvalid_0's ndcg@10: 0.568276\tvalid_0's ndcg@20: 0.597865\n",
      "[183]\tvalid_0's ndcg@5: 0.543934\tvalid_0's ndcg@10: 0.568305\tvalid_0's ndcg@20: 0.597934\n",
      "[184]\tvalid_0's ndcg@5: 0.544184\tvalid_0's ndcg@10: 0.568511\tvalid_0's ndcg@20: 0.598156\n",
      "[185]\tvalid_0's ndcg@5: 0.544247\tvalid_0's ndcg@10: 0.568771\tvalid_0's ndcg@20: 0.598152\n",
      "[186]\tvalid_0's ndcg@5: 0.544235\tvalid_0's ndcg@10: 0.568757\tvalid_0's ndcg@20: 0.598173\n"
     ]
    },
    {
     "name": "stdout",
     "output_type": "stream",
     "text": [
      "[187]\tvalid_0's ndcg@5: 0.544235\tvalid_0's ndcg@10: 0.568757\tvalid_0's ndcg@20: 0.598171\n",
      "[188]\tvalid_0's ndcg@5: 0.544392\tvalid_0's ndcg@10: 0.568261\tvalid_0's ndcg@20: 0.597931\n",
      "[189]\tvalid_0's ndcg@5: 0.544308\tvalid_0's ndcg@10: 0.568196\tvalid_0's ndcg@20: 0.597867\n",
      "[190]\tvalid_0's ndcg@5: 0.544287\tvalid_0's ndcg@10: 0.567922\tvalid_0's ndcg@20: 0.597824\n",
      "[191]\tvalid_0's ndcg@5: 0.544003\tvalid_0's ndcg@10: 0.567753\tvalid_0's ndcg@20: 0.597695\n",
      "[192]\tvalid_0's ndcg@5: 0.543972\tvalid_0's ndcg@10: 0.567613\tvalid_0's ndcg@20: 0.597716\n",
      "[193]\tvalid_0's ndcg@5: 0.54401\tvalid_0's ndcg@10: 0.567705\tvalid_0's ndcg@20: 0.597853\n",
      "[194]\tvalid_0's ndcg@5: 0.543864\tvalid_0's ndcg@10: 0.567556\tvalid_0's ndcg@20: 0.597852\n",
      "[195]\tvalid_0's ndcg@5: 0.543819\tvalid_0's ndcg@10: 0.567515\tvalid_0's ndcg@20: 0.597838\n",
      "[196]\tvalid_0's ndcg@5: 0.543873\tvalid_0's ndcg@10: 0.567602\tvalid_0's ndcg@20: 0.597872\n",
      "[197]\tvalid_0's ndcg@5: 0.54399\tvalid_0's ndcg@10: 0.567725\tvalid_0's ndcg@20: 0.597801\n",
      "[198]\tvalid_0's ndcg@5: 0.54426\tvalid_0's ndcg@10: 0.567895\tvalid_0's ndcg@20: 0.597936\n",
      "[199]\tvalid_0's ndcg@5: 0.544225\tvalid_0's ndcg@10: 0.567898\tvalid_0's ndcg@20: 0.597879\n",
      "[200]\tvalid_0's ndcg@5: 0.544116\tvalid_0's ndcg@10: 0.567945\tvalid_0's ndcg@20: 0.597783\n",
      "[201]\tvalid_0's ndcg@5: 0.543985\tvalid_0's ndcg@10: 0.568215\tvalid_0's ndcg@20: 0.597924\n",
      "[202]\tvalid_0's ndcg@5: 0.543797\tvalid_0's ndcg@10: 0.568099\tvalid_0's ndcg@20: 0.597697\n",
      "[203]\tvalid_0's ndcg@5: 0.543823\tvalid_0's ndcg@10: 0.56811\tvalid_0's ndcg@20: 0.597711\n",
      "[204]\tvalid_0's ndcg@5: 0.543648\tvalid_0's ndcg@10: 0.567798\tvalid_0's ndcg@20: 0.597529\n",
      "[205]\tvalid_0's ndcg@5: 0.543936\tvalid_0's ndcg@10: 0.568117\tvalid_0's ndcg@20: 0.597851\n",
      "[206]\tvalid_0's ndcg@5: 0.543997\tvalid_0's ndcg@10: 0.568073\tvalid_0's ndcg@20: 0.59775\n",
      "[207]\tvalid_0's ndcg@5: 0.543992\tvalid_0's ndcg@10: 0.568139\tvalid_0's ndcg@20: 0.597848\n",
      "[208]\tvalid_0's ndcg@5: 0.543587\tvalid_0's ndcg@10: 0.567577\tvalid_0's ndcg@20: 0.597414\n",
      "[209]\tvalid_0's ndcg@5: 0.543365\tvalid_0's ndcg@10: 0.567393\tvalid_0's ndcg@20: 0.59721\n",
      "[210]\tvalid_0's ndcg@5: 0.543365\tvalid_0's ndcg@10: 0.567394\tvalid_0's ndcg@20: 0.59721\n",
      "[211]\tvalid_0's ndcg@5: 0.543209\tvalid_0's ndcg@10: 0.56725\tvalid_0's ndcg@20: 0.597143\n",
      "[212]\tvalid_0's ndcg@5: 0.543731\tvalid_0's ndcg@10: 0.567874\tvalid_0's ndcg@20: 0.597513\n",
      "[213]\tvalid_0's ndcg@5: 0.54398\tvalid_0's ndcg@10: 0.568193\tvalid_0's ndcg@20: 0.597815\n",
      "[214]\tvalid_0's ndcg@5: 0.544197\tvalid_0's ndcg@10: 0.568055\tvalid_0's ndcg@20: 0.597817\n",
      "[215]\tvalid_0's ndcg@5: 0.544209\tvalid_0's ndcg@10: 0.567585\tvalid_0's ndcg@20: 0.597894\n",
      "[216]\tvalid_0's ndcg@5: 0.544372\tvalid_0's ndcg@10: 0.567509\tvalid_0's ndcg@20: 0.597945\n",
      "[217]\tvalid_0's ndcg@5: 0.544503\tvalid_0's ndcg@10: 0.56788\tvalid_0's ndcg@20: 0.598113\n",
      "[218]\tvalid_0's ndcg@5: 0.544513\tvalid_0's ndcg@10: 0.567747\tvalid_0's ndcg@20: 0.598247\n",
      "[219]\tvalid_0's ndcg@5: 0.544482\tvalid_0's ndcg@10: 0.56775\tvalid_0's ndcg@20: 0.598248\n",
      "[220]\tvalid_0's ndcg@5: 0.544496\tvalid_0's ndcg@10: 0.567824\tvalid_0's ndcg@20: 0.598409\n",
      "[221]\tvalid_0's ndcg@5: 0.544496\tvalid_0's ndcg@10: 0.567758\tvalid_0's ndcg@20: 0.598429\n",
      "[222]\tvalid_0's ndcg@5: 0.544286\tvalid_0's ndcg@10: 0.567659\tvalid_0's ndcg@20: 0.598243\n",
      "[223]\tvalid_0's ndcg@5: 0.544488\tvalid_0's ndcg@10: 0.567761\tvalid_0's ndcg@20: 0.598339\n",
      "[224]\tvalid_0's ndcg@5: 0.544587\tvalid_0's ndcg@10: 0.56777\tvalid_0's ndcg@20: 0.59829\n",
      "[225]\tvalid_0's ndcg@5: 0.544666\tvalid_0's ndcg@10: 0.568133\tvalid_0's ndcg@20: 0.598522\n",
      "[226]\tvalid_0's ndcg@5: 0.544442\tvalid_0's ndcg@10: 0.567959\tvalid_0's ndcg@20: 0.598451\n",
      "[227]\tvalid_0's ndcg@5: 0.544273\tvalid_0's ndcg@10: 0.567913\tvalid_0's ndcg@20: 0.598505\n",
      "[228]\tvalid_0's ndcg@5: 0.54431\tvalid_0's ndcg@10: 0.568022\tvalid_0's ndcg@20: 0.598545\n",
      "[229]\tvalid_0's ndcg@5: 0.544298\tvalid_0's ndcg@10: 0.568119\tvalid_0's ndcg@20: 0.598494\n",
      "[230]\tvalid_0's ndcg@5: 0.544333\tvalid_0's ndcg@10: 0.568143\tvalid_0's ndcg@20: 0.598521\n",
      "[231]\tvalid_0's ndcg@5: 0.544319\tvalid_0's ndcg@10: 0.568142\tvalid_0's ndcg@20: 0.598512\n",
      "[232]\tvalid_0's ndcg@5: 0.544341\tvalid_0's ndcg@10: 0.568168\tvalid_0's ndcg@20: 0.598543\n",
      "[233]\tvalid_0's ndcg@5: 0.544233\tvalid_0's ndcg@10: 0.56826\tvalid_0's ndcg@20: 0.598544\n",
      "[234]\tvalid_0's ndcg@5: 0.544233\tvalid_0's ndcg@10: 0.567955\tvalid_0's ndcg@20: 0.598533\n",
      "[235]\tvalid_0's ndcg@5: 0.543928\tvalid_0's ndcg@10: 0.567878\tvalid_0's ndcg@20: 0.598533\n",
      "[236]\tvalid_0's ndcg@5: 0.543928\tvalid_0's ndcg@10: 0.567933\tvalid_0's ndcg@20: 0.598534\n",
      "[237]\tvalid_0's ndcg@5: 0.543928\tvalid_0's ndcg@10: 0.56793\tvalid_0's ndcg@20: 0.598485\n",
      "[238]\tvalid_0's ndcg@5: 0.543891\tvalid_0's ndcg@10: 0.567983\tvalid_0's ndcg@20: 0.598469\n",
      "[239]\tvalid_0's ndcg@5: 0.54377\tvalid_0's ndcg@10: 0.568022\tvalid_0's ndcg@20: 0.598462\n",
      "[240]\tvalid_0's ndcg@5: 0.54377\tvalid_0's ndcg@10: 0.567972\tvalid_0's ndcg@20: 0.598463\n",
      "[241]\tvalid_0's ndcg@5: 0.543429\tvalid_0's ndcg@10: 0.567871\tvalid_0's ndcg@20: 0.59845\n",
      "[242]\tvalid_0's ndcg@5: 0.543454\tvalid_0's ndcg@10: 0.567883\tvalid_0's ndcg@20: 0.598414\n",
      "[243]\tvalid_0's ndcg@5: 0.543431\tvalid_0's ndcg@10: 0.567951\tvalid_0's ndcg@20: 0.598445\n",
      "[244]\tvalid_0's ndcg@5: 0.543361\tvalid_0's ndcg@10: 0.567989\tvalid_0's ndcg@20: 0.598484\n",
      "[245]\tvalid_0's ndcg@5: 0.543308\tvalid_0's ndcg@10: 0.567948\tvalid_0's ndcg@20: 0.598507\n",
      "[246]\tvalid_0's ndcg@5: 0.543286\tvalid_0's ndcg@10: 0.567945\tvalid_0's ndcg@20: 0.59851\n",
      "[247]\tvalid_0's ndcg@5: 0.543443\tvalid_0's ndcg@10: 0.567997\tvalid_0's ndcg@20: 0.598503\n",
      "[248]\tvalid_0's ndcg@5: 0.543423\tvalid_0's ndcg@10: 0.568025\tvalid_0's ndcg@20: 0.598473\n",
      "[249]\tvalid_0's ndcg@5: 0.543519\tvalid_0's ndcg@10: 0.567957\tvalid_0's ndcg@20: 0.598471\n",
      "[250]\tvalid_0's ndcg@5: 0.543374\tvalid_0's ndcg@10: 0.567918\tvalid_0's ndcg@20: 0.598318\n",
      "[251]\tvalid_0's ndcg@5: 0.543374\tvalid_0's ndcg@10: 0.568021\tvalid_0's ndcg@20: 0.598289\n",
      "[252]\tvalid_0's ndcg@5: 0.543374\tvalid_0's ndcg@10: 0.568009\tvalid_0's ndcg@20: 0.598333\n",
      "[253]\tvalid_0's ndcg@5: 0.543463\tvalid_0's ndcg@10: 0.568004\tvalid_0's ndcg@20: 0.598328\n",
      "[254]\tvalid_0's ndcg@5: 0.543396\tvalid_0's ndcg@10: 0.568057\tvalid_0's ndcg@20: 0.598306\n",
      "[255]\tvalid_0's ndcg@5: 0.543396\tvalid_0's ndcg@10: 0.567974\tvalid_0's ndcg@20: 0.598312\n",
      "[256]\tvalid_0's ndcg@5: 0.543326\tvalid_0's ndcg@10: 0.567829\tvalid_0's ndcg@20: 0.598208\n",
      "[257]\tvalid_0's ndcg@5: 0.543579\tvalid_0's ndcg@10: 0.56808\tvalid_0's ndcg@20: 0.598458\n",
      "[258]\tvalid_0's ndcg@5: 0.543675\tvalid_0's ndcg@10: 0.568073\tvalid_0's ndcg@20: 0.59845\n",
      "[259]\tvalid_0's ndcg@5: 0.543675\tvalid_0's ndcg@10: 0.567834\tvalid_0's ndcg@20: 0.598437\n",
      "[260]\tvalid_0's ndcg@5: 0.543675\tvalid_0's ndcg@10: 0.567834\tvalid_0's ndcg@20: 0.598442\n",
      "[261]\tvalid_0's ndcg@5: 0.543675\tvalid_0's ndcg@10: 0.567781\tvalid_0's ndcg@20: 0.598438\n",
      "[262]\tvalid_0's ndcg@5: 0.543675\tvalid_0's ndcg@10: 0.567631\tvalid_0's ndcg@20: 0.598434\n",
      "[263]\tvalid_0's ndcg@5: 0.543639\tvalid_0's ndcg@10: 0.567613\tvalid_0's ndcg@20: 0.598408\n",
      "Early stopping, best iteration is:\n",
      "[163]\tvalid_0's ndcg@5: 0.543759\tvalid_0's ndcg@10: 0.568774\tvalid_0's ndcg@20: 0.598822\n"
     ]
    },
    {
     "data": {
      "text/plain": [
       "LGBMRanker(n_estimators=300)"
      ]
     },
     "execution_count": 19,
     "metadata": {},
     "output_type": "execute_result"
    }
   ],
   "source": [
    "ranker.fit(X_tr, y_tr, group=train_groups, \n",
    "           eval_set = [(X_val, y_val)], eval_group=[val_groups], \n",
    "           early_stopping_rounds=100, eval_at=(5, 10, 20))"
   ]
  },
  {
   "cell_type": "markdown",
   "id": "cdba9ad4",
   "metadata": {},
   "source": [
    "Важность признаков"
   ]
  },
  {
   "cell_type": "code",
   "execution_count": 20,
   "id": "13f98140",
   "metadata": {},
   "outputs": [
    {
     "data": {
      "text/plain": [
       "{'item_id': 3515,\n",
       " 49: 273,\n",
       " 'basket_date': 186,\n",
       " 48: 161,\n",
       " 47: 139,\n",
       " 46: 93,\n",
       " 45: 68,\n",
       " 44: 41,\n",
       " 43: 37,\n",
       " 39: 33,\n",
       " 42: 29,\n",
       " 40: 25,\n",
       " 34: 21,\n",
       " 41: 21,\n",
       " 36: 18,\n",
       " 38: 18,\n",
       " 37: 16,\n",
       " 33: 13,\n",
       " 35: 13,\n",
       " 32: 12,\n",
       " 0: 11,\n",
       " 25: 10,\n",
       " 4: 9,\n",
       " 30: 9,\n",
       " 31: 9,\n",
       " 6: 8,\n",
       " 9: 8,\n",
       " 12: 8,\n",
       " 21: 8,\n",
       " 5: 7,\n",
       " 26: 7,\n",
       " 28: 6,\n",
       " 20: 5,\n",
       " 23: 5,\n",
       " 24: 5,\n",
       " 29: 5,\n",
       " 2: 4,\n",
       " 10: 4,\n",
       " 19: 4,\n",
       " 22: 4,\n",
       " 11: 3,\n",
       " 13: 3,\n",
       " 15: 3,\n",
       " 1: 2,\n",
       " 7: 2,\n",
       " 14: 2,\n",
       " 16: 2,\n",
       " 18: 2,\n",
       " 8: 1,\n",
       " 17: 1,\n",
       " 27: 1,\n",
       " 3: 0}"
      ]
     },
     "execution_count": 20,
     "metadata": {},
     "output_type": "execute_result"
    }
   ],
   "source": [
    "dict(sorted(dict(zip(X_tr.columns, ranker.feature_importances_)).items(), key=lambda x:x[1],  reverse=True))"
   ]
  },
  {
   "cell_type": "code",
   "execution_count": 21,
   "id": "90529455",
   "metadata": {},
   "outputs": [
    {
     "data": {
      "text/plain": [
       "0.7766981149115562"
      ]
     },
     "execution_count": 21,
     "metadata": {},
     "output_type": "execute_result"
    }
   ],
   "source": [
    "preds = ranker.predict(X_test)\n",
    "roc_auc_score(y_test, preds)"
   ]
  },
  {
   "cell_type": "code",
   "execution_count": 22,
   "id": "c807141f",
   "metadata": {},
   "outputs": [
    {
     "name": "stderr",
     "output_type": "stream",
     "text": [
      "/var/folders/nz/k1054gp91_vbkyxszdr7wclh0000gn/T/ipykernel_20883/1321793452.py:11: FutureWarning: In a future version, passing a SparseArray to pd.Index will store that array directly instead of converting to a dense numpy ndarray. To retain the old behavior, use pd.Index(arr.to_numpy()) instead\n",
      "  res = df.groupby('user_id').agg({'item_id': list}).reset_index()\n"
     ]
    }
   ],
   "source": [
    "res = test[['user_id', 'item_id']].copy()\n",
    "res['preds_scores'] = preds\n",
    "result = predict(res, th = preds.min()-1)"
   ]
  },
  {
   "cell_type": "code",
   "execution_count": 23,
   "id": "bac3bfcc",
   "metadata": {},
   "outputs": [],
   "source": [
    "#result['item_id'] = result['item_id'].fillna(\"\").apply(list)"
   ]
  },
  {
   "cell_type": "code",
   "execution_count": 24,
   "id": "22467a02",
   "metadata": {},
   "outputs": [
    {
     "name": "stdout",
     "output_type": "stream",
     "text": [
      "predictions ready 1224\n",
      "number of final test users: 1224\n",
      "5\n",
      "recall: 0.1286724176006153\n",
      "ndcg: 0.18645087578871805\n",
      "10\n",
      "recall: 0.16508327518318464\n",
      "ndcg: 0.15243571079558688\n",
      "20\n",
      "recall: 0.2097245019043515\n",
      "ndcg: 0.11935744124234535\n",
      "B\n",
      "recall: 0.15028780622183388\n",
      "ndcg: 0.16846776049185638\n"
     ]
    }
   ],
   "source": [
    "test_baskets = pd.read_csv(path_test)\n",
    "user_test_baskets_df = test_baskets.groupby('user_id')['item_id'].apply(list).reset_index()\n",
    "user_test_baskets_dict = dict(zip( user_test_baskets_df['user_id'],user_test_baskets_df['item_id']))\n",
    "print('predictions ready', result.user_id.nunique())\n",
    "print('number of final test users:',result.user_id.nunique())\n",
    "for k in [5,10,20,'B']:\n",
    "    print(k)\n",
    "    recall_scores = {}\n",
    "    ndcg_scores = {}\n",
    "    #zero = 0\n",
    "    for user in result.user_id.unique():\n",
    "       \n",
    "        top_items = result[result.user_id==user].item_id.values[0]\n",
    "\n",
    "        if k == 'B':\n",
    "            recall_scores[user] = recall_k(user_test_baskets_dict[user],top_items,len(user_test_baskets_dict[user]))\n",
    "            ndcg_scores[user] = ndcg_k(user_test_baskets_dict[user],top_items,len(user_test_baskets_dict[user]))\n",
    "        else:\n",
    "            recall_scores[user] = recall_k(user_test_baskets_dict[user],top_items,k)\n",
    "            ndcg_scores[user] = ndcg_k(user_test_baskets_dict[user],top_items,k)\n",
    "    #print(zero)\n",
    "    print('recall:',np.mean(list(recall_scores.values())))\n",
    "    print('ndcg:',np.mean(list(ndcg_scores.values())))"
   ]
  },
  {
   "cell_type": "markdown",
   "id": "a8eeef33",
   "metadata": {},
   "source": [
    "# Catboost ranker"
   ]
  },
  {
   "cell_type": "code",
   "execution_count": 25,
   "id": "46eec077",
   "metadata": {},
   "outputs": [],
   "source": [
    "from catboost import CatBoostRanker, Pool"
   ]
  },
  {
   "cell_type": "code",
   "execution_count": 26,
   "id": "a5e46201",
   "metadata": {},
   "outputs": [],
   "source": [
    "#X_tr['item_id'] = X_tr['item_id'].astype('str')\n",
    "#X_val['item_id'] = X_val['item_id'].astype('str')\n",
    "#X_test['item_id'] = X_test['item_id'].astype('str')"
   ]
  },
  {
   "cell_type": "code",
   "execution_count": 27,
   "id": "1e37d182",
   "metadata": {},
   "outputs": [],
   "source": [
    "train_p = Pool(\n",
    "    data=X_tr,\n",
    "    label=y_tr,\n",
    "    group_id=train['basket_id'],\n",
    "    cat_features = ['item_id']\n",
    ")\n",
    "\n",
    "val_p = Pool(\n",
    "    data=X_val,\n",
    "    label=y_val,\n",
    "    group_id=val['basket_id'],\n",
    "    cat_features = ['item_id']\n",
    ")"
   ]
  },
  {
   "cell_type": "code",
   "execution_count": 50,
   "id": "747b6b64",
   "metadata": {},
   "outputs": [],
   "source": [
    "ranker = CatBoostRanker(cat_features = ['item_id'], iterations=10, \n",
    "                        eval_metric='NDCG', loss_function='PairLogit',\n",
    "                        #custom_metric = ['RecallAt:top=5', 'RecallAt:top=10','RecallAt:top=20', \n",
    "                        #                   'NDCG:top=5', 'NDCG:top=10', 'NDCG:top=20'],\n",
    "                        one_hot_max_size=300)"
   ]
  },
  {
   "cell_type": "code",
   "execution_count": 51,
   "id": "73c106e0",
   "metadata": {},
   "outputs": [
    {
     "name": "stdout",
     "output_type": "stream",
     "text": [
      "0:\ttest: 0.6070670\tbest: 0.6070670 (0)\ttotal: 51.5s\tremaining: 7m 43s\n",
      "1:\ttest: 0.6340900\tbest: 0.6340900 (1)\ttotal: 1m 51s\tremaining: 7m 27s\n",
      "2:\ttest: 0.6456531\tbest: 0.6456531 (2)\ttotal: 2m 59s\tremaining: 6m 58s\n",
      "3:\ttest: 0.6500381\tbest: 0.6500381 (3)\ttotal: 4m 14s\tremaining: 6m 21s\n",
      "4:\ttest: 0.6505601\tbest: 0.6505601 (4)\ttotal: 5m 21s\tremaining: 5m 21s\n",
      "5:\ttest: 0.6514450\tbest: 0.6514450 (5)\ttotal: 6m 34s\tremaining: 4m 23s\n",
      "6:\ttest: 0.6519955\tbest: 0.6519955 (6)\ttotal: 7m 44s\tremaining: 3m 19s\n",
      "7:\ttest: 0.6542293\tbest: 0.6542293 (7)\ttotal: 8m 53s\tremaining: 2m 13s\n",
      "8:\ttest: 0.6557606\tbest: 0.6557606 (8)\ttotal: 9m 54s\tremaining: 1m 6s\n",
      "9:\ttest: 0.6566788\tbest: 0.6566788 (9)\ttotal: 10m 55s\tremaining: 0us\n",
      "\n",
      "bestTest = 0.6566788376\n",
      "bestIteration = 9\n",
      "\n"
     ]
    },
    {
     "data": {
      "text/plain": [
       "<catboost.core.CatBoostRanker at 0x7fb8e92fd310>"
      ]
     },
     "execution_count": 51,
     "metadata": {},
     "output_type": "execute_result"
    }
   ],
   "source": [
    "ranker.fit(train_p, eval_set = val_p,\n",
    "           early_stopping_rounds=10)"
   ]
  },
  {
   "cell_type": "code",
   "execution_count": 52,
   "id": "5e4422b5",
   "metadata": {},
   "outputs": [
    {
     "data": {
      "text/plain": [
       "0.7638481642710191"
      ]
     },
     "execution_count": 52,
     "metadata": {},
     "output_type": "execute_result"
    }
   ],
   "source": [
    "preds = ranker.predict(X_test)\n",
    "roc_auc_score(y_test, preds)"
   ]
  },
  {
   "cell_type": "code",
   "execution_count": 53,
   "id": "6e5da258",
   "metadata": {},
   "outputs": [
    {
     "name": "stderr",
     "output_type": "stream",
     "text": [
      "/var/folders/nz/k1054gp91_vbkyxszdr7wclh0000gn/T/ipykernel_20883/1321793452.py:11: FutureWarning: In a future version, passing a SparseArray to pd.Index will store that array directly instead of converting to a dense numpy ndarray. To retain the old behavior, use pd.Index(arr.to_numpy()) instead\n",
      "  res = df.groupby('user_id').agg({'item_id': list}).reset_index()\n"
     ]
    }
   ],
   "source": [
    "res = test[['user_id', 'item_id']].copy()\n",
    "res['preds_scores'] = preds\n",
    "result = predict(res, th = preds.min()-1)"
   ]
  },
  {
   "cell_type": "code",
   "execution_count": 49,
   "id": "b237da3d",
   "metadata": {},
   "outputs": [
    {
     "name": "stdout",
     "output_type": "stream",
     "text": [
      "predictions ready 1224\n",
      "number of final test users: 1224\n",
      "5\n",
      "recall: 0.10936589371002715\n",
      "ndcg: 0.1744576899857848\n",
      "10\n",
      "recall: 0.15347440692784745\n",
      "ndcg: 0.14549135937490631\n",
      "20\n",
      "recall: 0.19890798093295847\n",
      "ndcg: 0.11406264366423985\n",
      "B\n",
      "recall: 0.11871559087978246\n",
      "ndcg: 0.13761358335925986\n"
     ]
    }
   ],
   "source": [
    "test_baskets = pd.read_csv(path_test)\n",
    "user_test_baskets_df = test_baskets.groupby('user_id')['item_id'].apply(list).reset_index()\n",
    "user_test_baskets_dict = dict(zip( user_test_baskets_df['user_id'],user_test_baskets_df['item_id']))\n",
    "print('predictions ready', result.user_id.nunique())\n",
    "print('number of final test users:',result.user_id.nunique())\n",
    "for k in [5,10,20,'B']:\n",
    "    print(k)\n",
    "    recall_scores = {}\n",
    "    ndcg_scores = {}\n",
    "    #zero = 0\n",
    "    for user in result.user_id.unique():\n",
    "       \n",
    "        top_items = result[result.user_id==user].item_id.values[0]\n",
    "\n",
    "        if k == 'B':\n",
    "            recall_scores[user] = recall_k(user_test_baskets_dict[user],top_items,len(user_test_baskets_dict[user]))\n",
    "            ndcg_scores[user] = ndcg_k(user_test_baskets_dict[user],top_items,len(user_test_baskets_dict[user]))\n",
    "        else:\n",
    "            recall_scores[user] = recall_k(user_test_baskets_dict[user],top_items,k)\n",
    "            ndcg_scores[user] = ndcg_k(user_test_baskets_dict[user],top_items,k)\n",
    "    #print(zero)\n",
    "    print('recall:',np.mean(list(recall_scores.values())))\n",
    "    print('ndcg:',np.mean(list(ndcg_scores.values())))"
   ]
  }
 ],
 "metadata": {
  "kernelspec": {
   "display_name": "Python 3 (ipykernel)",
   "language": "python",
   "name": "python3"
  },
  "language_info": {
   "codemirror_mode": {
    "name": "ipython",
    "version": 3
   },
   "file_extension": ".py",
   "mimetype": "text/x-python",
   "name": "python",
   "nbconvert_exporter": "python",
   "pygments_lexer": "ipython3",
   "version": "3.9.13"
  },
  "toc": {
   "base_numbering": 1,
   "nav_menu": {},
   "number_sections": true,
   "sideBar": true,
   "skip_h1_title": false,
   "title_cell": "Table of Contents",
   "title_sidebar": "Contents",
   "toc_cell": false,
   "toc_position": {
    "height": "calc(100% - 180px)",
    "left": "10px",
    "top": "150px",
    "width": "426.667px"
   },
   "toc_section_display": true,
   "toc_window_display": true
  }
 },
 "nbformat": 4,
 "nbformat_minor": 5
}
