{
  "cells": [
    {
      "cell_type": "markdown",
      "metadata": {
        "id": "VLnYMkab1Uw5"
      },
      "source": [
        "## RECANET"
      ]
    },
    {
      "cell_type": "markdown",
      "metadata": {
        "id": "h22Q9JFN2PU0"
      },
      "source": [
        "TODO:\n",
        "\n",
        "TOP PERSONAL BASELINE"
      ]
    },
    {
      "cell_type": "code",
      "execution_count": null,
      "metadata": {
        "colab": {
          "base_uri": "https://localhost:8080/"
        },
        "id": "wqQ1cZFTfO8y",
        "outputId": "0b04d9ac-3790-4e4d-ced9-34d8daf298a2"
      },
      "outputs": [
        {
          "output_type": "stream",
          "name": "stdout",
          "text": [
            "Mounted at /content/drive\n"
          ]
        }
      ],
      "source": [
        "from google.colab import drive\n",
        "drive.mount('/content/drive')\n",
        "\n",
        "#%cd /content/drive/MyDrive/recsys"
      ]
    },
    {
      "cell_type": "code",
      "source": [
        "import os\n",
        "os.chdir(\"/content/drive/MyDrive/recsys\")\n",
        "!ls"
      ],
      "metadata": {
        "colab": {
          "base_uri": "https://localhost:8080/"
        },
        "id": "wD83LFYuvpNF",
        "outputId": "88d22297-54db-456b-bc46-f85a8bcb29f8"
      },
      "execution_count": null,
      "outputs": [
        {
          "output_type": "stream",
          "name": "stdout",
          "text": [
            "checkpoints  metrics.py  __pycache__\t      recanet_model.py\n",
            "data\t     preprocess  recanet_datasets.py\n"
          ]
        }
      ]
    },
    {
      "cell_type": "code",
      "execution_count": null,
      "metadata": {
        "id": "YNLRyVlKe9k8"
      },
      "outputs": [],
      "source": [
        "import matplotlib.pyplot as plt\n",
        "import seaborn as sns\n",
        "sns.set(style='darkgrid', font_scale=1.2)\n",
        "\n",
        "from IPython.display import clear_output\n",
        "%matplotlib inline\n",
        "\n",
        "import pandas as pd\n",
        "import plotly.express as px\n",
        "import numpy as np\n",
        "from tqdm import tqdm\n",
        "\n",
        "tqdm.pandas()\n",
        "\n",
        "from sklearn.metrics import accuracy_score, roc_auc_score\n",
        "\n",
        "import torch\n",
        "from torch import nn\n",
        "from torch.utils.data import DataLoader\n",
        "#from torchvision import datasets, transforms\n",
        "\n",
        "import torch.nn.functional as F\n",
        "import torch.optim as optim\n",
        "#import torchvision.transforms as tt\n",
        "\n",
        "from tqdm.notebook import tqdm\n",
        "from torchsummary import summary\n"
      ]
    },
    {
      "cell_type": "code",
      "execution_count": null,
      "metadata": {
        "colab": {
          "base_uri": "https://localhost:8080/"
        },
        "id": "bKLUbY2Je9k-",
        "outputId": "150bc6ff-34ad-4116-d2bd-011be16cf7d1"
      },
      "outputs": [
        {
          "output_type": "stream",
          "name": "stdout",
          "text": [
            "Using cpu device\n"
          ]
        }
      ],
      "source": [
        "device = \"cuda\" if torch.cuda.is_available() else \"cpu\"\n",
        "print(f\"Using {device} device\")"
      ]
    },
    {
      "cell_type": "code",
      "execution_count": null,
      "metadata": {
        "colab": {
          "base_uri": "https://localhost:8080/"
        },
        "id": "SPl1PXIIgpOW",
        "outputId": "47b272f6-9fd0-4fb9-f904-d4f43c540498"
      },
      "outputs": [
        {
          "output_type": "stream",
          "name": "stdout",
          "text": [
            "NVIDIA-SMI has failed because it couldn't communicate with the NVIDIA driver. Make sure that the latest NVIDIA driver is installed and running.\n",
            "\n"
          ]
        }
      ],
      "source": [
        "!nvidia-smi"
      ]
    },
    {
      "cell_type": "markdown",
      "metadata": {
        "id": "gkKFW6see9k9"
      },
      "source": [
        "## Dataloader+dataset"
      ]
    },
    {
      "cell_type": "code",
      "execution_count": null,
      "metadata": {
        "id": "lIyfjbQoe9lB"
      },
      "outputs": [],
      "source": [
        "history_len=20\n",
        "item_embed_size=128\n",
        "user_embed_size=32\n",
        "\n",
        "h1 = 128\n",
        "h2 = 128\n",
        "h3 = 128\n",
        "h4 = 128\n",
        "h5 = 128\n",
        "\n",
        "dataset_name = 'dunnhumby_cj'"
      ]
    },
    {
      "cell_type": "code",
      "execution_count": null,
      "metadata": {
        "id": "gJm5YiWAK4DG"
      },
      "outputs": [],
      "source": [
        "from metrics import recall_k, ndcg_k, repeat_score_item, repeat_score_user\n",
        "from recanet_datasets import PreDataset, RCNDataset, DeviceDataLoader\n",
        "from recanet_model import ReCaNet"
      ]
    },
    {
      "cell_type": "code",
      "execution_count": null,
      "metadata": {
        "id": "dYRLlLV3sX3L"
      },
      "outputs": [],
      "source": [
        "from preprocess.create_data import create_dunnhumby_cj_data "
      ]
    },
    {
      "cell_type": "code",
      "execution_count": null,
      "metadata": {
        "id": "L7lXR1YCsX3L"
      },
      "outputs": [],
      "source": [
        "#path_dunnhumby = 'data/dunnhumby_cj/dunnhumby_The-Complete-Journey/dunnhumby - The Complete Journey CSV/transaction_data.csv'\n",
        "#create_dunnhumby_cj_data(path_dunnhumby)"
      ]
    },
    {
      "cell_type": "code",
      "execution_count": null,
      "metadata": {
        "id": "fofSmlgYe9k-"
      },
      "outputs": [],
      "source": [
        "path_train = f'data/{dataset_name}/baskets/train_baskets.csv'\n",
        "path_test = f'data/{dataset_name}/baskets/test_baskets.csv'\n",
        "path_val = f'data/{dataset_name}/baskets/valid_baskets.csv'"
      ]
    },
    {
      "cell_type": "code",
      "execution_count": null,
      "metadata": {
        "colab": {
          "base_uri": "https://localhost:8080/"
        },
        "id": "71Pf5N5He9lA",
        "outputId": "07feb1c7-1a17-4c05-d1fd-50d105492dc3"
      },
      "outputs": [
        {
          "output_type": "stream",
          "name": "stdout",
          "text": [
            "number of test users: 2483\n",
            "items: 91764\n",
            "filtered items: 36963\n"
          ]
        }
      ],
      "source": [
        "dataset = PreDataset(path_train,path_val, path_test, dataset=dataset_name, history_len=history_len,basket_count_min=3, min_item_count = 5)"
      ]
    },
    {
      "cell_type": "code",
      "execution_count": null,
      "metadata": {
        "colab": {
          "base_uri": "https://localhost:8080/"
        },
        "id": "ww4C7-AfmHpx",
        "outputId": "eda8d056-e09f-4be1-fd9d-6e02baced7aa"
      },
      "outputs": [
        {
          "output_type": "stream",
          "name": "stdout",
          "text": [
            "Data allready in use\n"
          ]
        }
      ],
      "source": [
        "batch_size = 2048\n",
        "\n",
        "train_dataset = RCNDataset(dataset, mode='train')\n",
        "train_loader = DataLoader(train_dataset, batch_size=batch_size, shuffle=True)\n",
        "\n",
        "val_dataset = RCNDataset(dataset, mode='val')\n",
        "val_loader = DataLoader(val_dataset, batch_size=batch_size, shuffle=False)\n",
        "\n",
        "test_dataset = RCNDataset(dataset, mode='test')\n",
        "test_loader = DataLoader(test_dataset, batch_size=batch_size, shuffle=False)"
      ]
    },
    {
      "cell_type": "code",
      "execution_count": null,
      "metadata": {
        "colab": {
          "base_uri": "https://localhost:8080/"
        },
        "id": "6yIYaTFdm1D9",
        "outputId": "6ac42351-d716-46cb-9d9f-8ede8802ae94"
      },
      "outputs": [
        {
          "output_type": "execute_result",
          "data": {
            "text/plain": [
              "(50176675, 643538, 658898)"
            ]
          },
          "metadata": {},
          "execution_count": 19
        }
      ],
      "source": [
        "len(train_loader.dataset), len(val_loader.dataset), len(test_loader.dataset)"
      ]
    },
    {
      "cell_type": "code",
      "execution_count": null,
      "metadata": {
        "id": "lnLwCG6_sX3O"
      },
      "outputs": [],
      "source": [
        "#sample\n",
        "#(409970, 26546, 29317)"
      ]
    },
    {
      "cell_type": "code",
      "execution_count": null,
      "metadata": {
        "id": "SfDD0cHgoKqr"
      },
      "outputs": [],
      "source": [
        "train_loader = DeviceDataLoader(train_loader, device)\n",
        "val_loader = DeviceDataLoader(val_loader, device)\n",
        "test_loader = DeviceDataLoader(test_loader, device)"
      ]
    },
    {
      "cell_type": "code",
      "execution_count": null,
      "metadata": {
        "id": "QtsVtjace9lD"
      },
      "outputs": [],
      "source": [
        "#summary(ReCaNet(num_items=duhumby.num_items, item_embed_size=32, num_users=duhumby.num_users, user_embed_size=128,\\\n",
        "#                h1 = 128,h2 = 128,h3 = 128,h4 = 128,h5 = 128).to(device), \\\n",
        "#       input_size=[ (None,1), (None,1), (None, 5), (None, 5)], device=device)"
      ]
    },
    {
      "cell_type": "markdown",
      "metadata": {
        "id": "zP-xGjw7K4DJ"
      },
      "source": [
        "## Train pipeline"
      ]
    },
    {
      "cell_type": "code",
      "execution_count": null,
      "metadata": {
        "id": "uHV52IO7e9lD"
      },
      "outputs": [],
      "source": [
        "def plot_training(loss_train, loss_val,score_train, score_val , recall_val,i, calc_recall):\n",
        "    plt.figure(figsize=(16, 3))\n",
        "    plt.plot(np.arange(i+1), loss_train, label='Train')\n",
        "    plt.plot(np.arange(i+1), loss_val, label='Validation')\n",
        "    plt.xlim(0, i+1)\n",
        "    plt.ylabel('Loss')\n",
        "    plt.legend()\n",
        "    plt.show()\n",
        "        \n",
        "    plt.figure(figsize=(16, 3))\n",
        "    plt.plot(np.arange(i+1), score_train, label='accuracy_train')\n",
        "    plt.plot(np.arange(i+1), score_val, label='accuracy_val')\n",
        "    plt.xlim(0, i+1)\n",
        "    #plt.ylim(0, 1)\n",
        "    plt.xlabel('Epoch')\n",
        "    plt.ylabel('Score')\n",
        "    plt.legend()\n",
        "    plt.show()\n",
        "\n",
        "    if calc_recall:\n",
        "        plt.figure(figsize=(16, 3))\n",
        "        plt.plot(np.arange(i+1), recall_val, label='recall_val')\n",
        "        plt.xlim(0, i+1)\n",
        "        #plt.ylim(0, 1)\n",
        "        plt.xlabel('Epoch')\n",
        "        plt.ylabel('Score')\n",
        "        plt.legend()\n",
        "        plt.show()"
      ]
    },
    {
      "cell_type": "code",
      "execution_count": null,
      "metadata": {
        "id": "9amf3Hrge9lE"
      },
      "outputs": [],
      "source": [
        "torch.cuda.empty_cache()"
      ]
    },
    {
      "cell_type": "code",
      "execution_count": null,
      "metadata": {
        "id": "vNhoA5NRe9lE"
      },
      "outputs": [],
      "source": [
        "def train(model, epochs, calc_recall=False, checkpoint=True):\n",
        "    torch.cuda.empty_cache()\n",
        "    #clear_output(wait=True)\n",
        "    loss_train = []\n",
        "    loss_val = []\n",
        "    metric_val = []\n",
        "    metric_train = []\n",
        "\n",
        "    recall_score = []\n",
        "   \n",
        "    best_model = None\n",
        "    best_recall = 0\n",
        "\n",
        "    parameters = filter(lambda p: p.requires_grad, model.parameters())\n",
        "    optimizer = torch.optim.Adam(parameters, lr=0.001)\n",
        "    criterion = nn.BCELoss(reduction='mean')\n",
        "\n",
        "    #validation\n",
        "    user_valid_baskets_df = dataset.valid_baskets.groupby('user_id')['item_id'].apply(list).reset_index()\n",
        "    user_valid_baskets_dict = dict(zip( user_valid_baskets_df['user_id'],user_valid_baskets_df['item_id']))\n",
        "    valid_items, valid_users, valid_history2 ,valid_labels = dataset.create_test_data('val')\n",
        "\n",
        "    \n",
        "    for i in tqdm(range(epochs)):\n",
        "        print(f'Epoch {i}')\n",
        "        loss_train_epoch = []\n",
        "        loss_val_epoch = []\n",
        "        metric_val_epoch = []\n",
        "        metric_train_epoch = []\n",
        "\n",
        "        model.train()\n",
        "        for x1, x2, x4, y in tqdm(train_loader):\n",
        "            optimizer.zero_grad()\n",
        "            \n",
        "            y_pred = model(x1, x2, x4)\n",
        "            predictions = [round(value) for value in y_pred.flatten().tolist()]\n",
        "        \n",
        "            loss = criterion(y_pred, y)\n",
        "            loss.backward()\n",
        "            optimizer.step()\n",
        "            \n",
        "            loss_train_epoch.append(loss.item())\n",
        "            metric_train_epoch.append(accuracy_score(y.detach().cpu().numpy(), predictions))\n",
        "        \n",
        "        loss_train.append(np.mean(loss_train_epoch))\n",
        "        metric_train.append(np.mean(metric_train_epoch))\n",
        "     \n",
        "\n",
        "        model.eval()\n",
        "        \n",
        "        full_y = []\n",
        "        full_predictions = []\n",
        "        pred_scores = []\n",
        "        for x1, x2,  x4, y in val_loader:\n",
        "            with torch.no_grad():\n",
        "                y_pred = model(x1, x2, x4)\n",
        "                \n",
        "                loss = criterion(y_pred, y)\n",
        "\n",
        "                predictions = [round(value) for value in y_pred.flatten().tolist()]\n",
        "                full_y.extend(y.detach().cpu())\n",
        "                pred_scores.extend(y_pred.detach().cpu())\n",
        "                full_predictions.extend(predictions)\n",
        "\n",
        "                loss_val_epoch.append(loss.item())\n",
        "                metric_val_epoch.append(accuracy_score(y.cpu(), predictions))\n",
        "                \n",
        "        \n",
        "        accuracy = accuracy_score(full_y, full_predictions)\n",
        "        print(\"Accuracy epoch: %.2f%%\" % (accuracy * 100.0))\n",
        "        \n",
        "        if calc_recall:\n",
        "            recall_per_epoch = epoch_recall(model,full_y,pred_scores, full_predictions, user_valid_baskets_dict, \\\n",
        "                                             valid_users, valid_items)\n",
        "            recall_score.append(recall_per_epoch)\n",
        "\n",
        "            if recall_per_epoch > best_recall:\n",
        "                best_model = model\n",
        "                best_recall = recall_per_epoch\n",
        "\n",
        "\n",
        "        loss_val.append(np.mean(loss_val_epoch))\n",
        "        metric_val.append(np.mean(metric_val_epoch))\n",
        "        \n",
        "        # отрисовка графиков\n",
        "        clear_output(wait=True)\n",
        "        plot_training(loss_train, loss_val,metric_train, metric_val, recall_score ,i=i, calc_recall=calc_recall)\n",
        "\n",
        "        if checkpoint:\n",
        "            path = f'checkpoints/epoch{i}_recanet_dunnhumby_20.pth'\n",
        "            torch.save(model.state_dict(), path)\n",
        "            np.save('checkpoints/loss_train.npy', loss_train)\n",
        "            np.save('checkpoints/loss_val.npy', loss_val)\n",
        "            np.save('checkpoints/metric_train.npy', metric_train)\n",
        "            np.save('checkpoints/metric_val.npy', metric_val)\n",
        "            np.save('checkpoints/recall_score.npy', recall_score)\n",
        "        \n",
        "    if calc_recall:\n",
        "        #print(recall_score)\n",
        "        print('Best epoch:', np.argmax(np.array(recall_score))) \n",
        "    return best_model, loss_train, loss_val\n",
        "     "
      ]
    },
    {
      "cell_type": "code",
      "execution_count": null,
      "metadata": {
        "id": "_tV1KKtdZmi4"
      },
      "outputs": [],
      "source": [
        "def epoch_recall(model, y_true ,y_pred, predictions, user_valid_baskets_dict, valid_users, valid_items):\n",
        "    recall_scores = []\n",
        "    for user in user_valid_baskets_dict:\n",
        "        top_items = []\n",
        "        if user in dataset.user_id_mapper:\n",
        "            user_id = dataset.user_id_mapper[user]\n",
        "            indices = np.argwhere(valid_users == user_id)\n",
        "            item_scores = np.array(y_pred)[indices].flatten()\n",
        "            item_ids = valid_items[indices].flatten()\n",
        "\n",
        "            item_score_dic = {}\n",
        "            for i, item_id in enumerate(item_ids):\n",
        "                item_score_dic[dataset.id_item_mapper[item_id]] = item_scores[i]\n",
        "            sorted_item_scores = sorted(item_score_dic.items(), key= lambda x: x[1], reverse = True)\n",
        "            top_items = [x[0] for x in sorted_item_scores]\n",
        "        recall_scores.append(recall_k(user_valid_baskets_dict[user],top_items,\n",
        "                                              len(user_valid_baskets_dict[user])))\n",
        "            \n",
        "    return np.mean(recall_scores)"
      ]
    },
    {
      "cell_type": "code",
      "execution_count": null,
      "metadata": {
        "id": "Cxfdb_vLe9lE"
      },
      "outputs": [],
      "source": [
        "model = ReCaNet(num_items=dataset.num_items, item_embed_size=item_embed_size, num_users=dataset.num_users, \n",
        "                user_embed_size=user_embed_size, history_len = history_len, h1 = h1,h2 = h2, h3 = h3,\n",
        "                h4 = h4, h5 = h5).to(device)"
      ]
    },
    {
      "cell_type": "code",
      "execution_count": null,
      "metadata": {
        "id": "Oa1NDvYYGzyM"
      },
      "outputs": [],
      "source": [
        "#!pip install torchinfo\n",
        "\n",
        "#import torchinfo\n",
        "\n",
        "#torchinfo.summary(model,input_size = [(batch_size, 1), (batch_size, 1), (batch_size, history_len), (batch_size, history_len)])"
      ]
    },
    {
      "cell_type": "code",
      "execution_count": null,
      "metadata": {
        "colab": {
          "base_uri": "https://localhost:8080/"
        },
        "id": "_XJfhjMN8WTR",
        "outputId": "3211b756-018f-49dc-c830-eacb7973dc12"
      },
      "outputs": [
        {
          "output_type": "execute_result",
          "data": {
            "text/plain": [
              "ReCaNet(\n",
              "  (item_embedding): Embedding(36964, 128)\n",
              "  (user_embedding): Embedding(2498, 32)\n",
              "  (fc1): Linear(in_features=160, out_features=128, bias=True)\n",
              "  (fc2): Linear(in_features=129, out_features=128, bias=True)\n",
              "  (lstm1): LSTM(128, 128, num_layers=2, batch_first=True)\n",
              "  (fc5): Linear(in_features=128, out_features=128, bias=True)\n",
              "  (fc6): Linear(in_features=128, out_features=128, bias=True)\n",
              "  (fc7): Linear(in_features=128, out_features=1, bias=True)\n",
              ")"
            ]
          },
          "metadata": {},
          "execution_count": 28
        }
      ],
      "source": [
        "model"
      ]
    },
    {
      "cell_type": "code",
      "execution_count": null,
      "metadata": {
        "colab": {
          "base_uri": "https://localhost:8080/"
        },
        "id": "wiqsZdYT8nB9",
        "outputId": "f8c0702f-42cf-479c-ec77-19632f90479a"
      },
      "outputs": [
        {
          "output_type": "stream",
          "name": "stdout",
          "text": [
            "+-----------------------+------------+\n",
            "|        Modules        | Parameters |\n",
            "+-----------------------+------------+\n",
            "| item_embedding.weight |  4731392   |\n",
            "| user_embedding.weight |   79936    |\n",
            "|       fc1.weight      |   20480    |\n",
            "|        fc1.bias       |    128     |\n",
            "|       fc2.weight      |   16512    |\n",
            "|        fc2.bias       |    128     |\n",
            "|   lstm1.weight_ih_l0  |   65536    |\n",
            "|   lstm1.weight_hh_l0  |   65536    |\n",
            "|    lstm1.bias_ih_l0   |    512     |\n",
            "|    lstm1.bias_hh_l0   |    512     |\n",
            "|   lstm1.weight_ih_l1  |   65536    |\n",
            "|   lstm1.weight_hh_l1  |   65536    |\n",
            "|    lstm1.bias_ih_l1   |    512     |\n",
            "|    lstm1.bias_hh_l1   |    512     |\n",
            "|       fc5.weight      |   16384    |\n",
            "|        fc5.bias       |    128     |\n",
            "|       fc6.weight      |   16384    |\n",
            "|        fc6.bias       |    128     |\n",
            "|       fc7.weight      |    128     |\n",
            "|        fc7.bias       |     1      |\n",
            "+-----------------------+------------+\n",
            "Total Trainable Params: 5145921\n"
          ]
        },
        {
          "output_type": "execute_result",
          "data": {
            "text/plain": [
              "5145921"
            ]
          },
          "metadata": {},
          "execution_count": 29
        }
      ],
      "source": [
        "from prettytable import PrettyTable\n",
        "\n",
        "def count_parameters(model):\n",
        "    table = PrettyTable([\"Modules\", \"Parameters\"])\n",
        "    total_params = 0\n",
        "    for name, parameter in model.named_parameters():\n",
        "        if not parameter.requires_grad: continue\n",
        "        params = parameter.numel()\n",
        "        table.add_row([name, params])\n",
        "        total_params+=params\n",
        "    print(table)\n",
        "    print(f\"Total Trainable Params: {total_params}\")\n",
        "    return total_params\n",
        "    \n",
        "count_parameters(model)"
      ]
    },
    {
      "cell_type": "code",
      "execution_count": null,
      "metadata": {
        "colab": {
          "base_uri": "https://localhost:8080/",
          "height": 716,
          "referenced_widgets": [
            "7218bbe280774f32a0566b20ed810d47",
            "9f06f859cac14d9b84dd449ff72150ac",
            "5208680fdaca42219a125f6b78a76789",
            "7cc4f85cca4844348ab5853b678a89d0",
            "fe1b122320ea447eb3f627b37e7f5328",
            "7ede57b97b04490a8f4f908e6936d109",
            "2a57b698b2744fadba753bad88b43a70",
            "8baabb92291b441c9ee6b27b1c67414c",
            "b6a6e582472b401eabc0633395166def",
            "038ff7090cf4427fb062d1cf612b2692",
            "1c3c2477886a4e08be9641c4e2897898",
            "4b4b8382a053441693ba606364b41a74",
            "e47f2d5eface4311b421a8589645e74d",
            "3a68a8975ad64a0c96d2aa12ccbaf1b8",
            "bb8d27330e3c416bae46cea0008ca1bc",
            "d12e1ebfa5ae4aa59cd4a3d47948b955",
            "83454d1bd6bc44c5b7141320e5d1bf39",
            "73dd3c1d61e240139d4a620fef146380",
            "24932e5a91ae484ca52995519d3cb1f8",
            "076a6957e45d4d5bb057bca9d1ecaf9a",
            "8b899595203e40ca8b72536e7c64bcfa",
            "4f3e2f8643e045b2b62759e85ce77393",
            "c7ca301d7bd94b9da899b526c05891f8",
            "d58911758f89451ea933713aaefa1ec9",
            "fa493e59f4214a9493151fc5debd0285",
            "e4def756c25049d39732501c1430b9aa",
            "3a9a1130cee642ab88282cb5daeb8aae",
            "c62ba2ec456740b485309382d1ff3e60",
            "13893c9dddd7464a95fab707d8760ab6",
            "121ba79de11a43a6878af35185839862",
            "7963c275dc9545a09d20e0154f4a0dd0",
            "7233dbccaf57434f9bf73e854382932c",
            "aaed77c6a5db4fb1828a7a57855036ae",
            "4205620b61214161b3bda6793e991de1",
            "44b0554e9da54df1b62d27b5ebc21764",
            "9a3bf8b9b1834e67be2fa5dd52bab652",
            "d5017d43939b4fc18548ef696af9e7d2",
            "13120789afe74f2d97d80715ce376441",
            "c4f79f1aedc54e419876170cdbd04bfc",
            "c5fbb87280d14595955f3dc933cb2a95",
            "2fbcf19af55e49d58eddad4fe620ec89",
            "721ddea47c4b4caa8553fe5a06f4086f",
            "24f20922e3344e62826bc672086334cc",
            "e4defb3a48bd4fff8e0ed5e7d6de57c4"
          ]
        },
        "id": "U2rlZrx4e9lE",
        "outputId": "94cfba99-571f-4dff-dca4-034798035b90",
        "scrolled": false
      },
      "outputs": [
        {
          "output_type": "display_data",
          "data": {
            "text/plain": [
              "<Figure size 1152x216 with 1 Axes>"
            ],
            "image/png": "[encoded data removed]"
          },
          "metadata": {
            "needs_background": "light"
          }
        },
        {
          "output_type": "display_data",
          "data": {
            "text/plain": [
              "<Figure size 1152x216 with 1 Axes>"
            ],
            "image/png": "[encoded data removed]"
          },
          "metadata": {
            "needs_background": "light"
          }
        },
        {
          "output_type": "display_data",
          "data": {
            "text/plain": [
              "<Figure size 1152x216 with 1 Axes>"
            ],
            "image/png": "[encoded data removed]"
          },
          "metadata": {
            "needs_background": "light"
          }
        },
        {
          "output_type": "stream",
          "name": "stdout",
          "text": [
            "Epoch 2\n"
          ]
        },
        {
          "output_type": "display_data",
          "data": {
            "text/plain": [
              "  0%|          | 0/24501 [00:00<?, ?it/s]"
            ],
            "application/vnd.jupyter.widget-view+json": {
              "version_major": 2,
              "version_minor": 0,
              "model_id": "4205620b61214161b3bda6793e991de1"
            }
          },
          "metadata": {}
        },
        {
          "output_type": "stream",
          "name": "stdout",
          "text": [
            "Accuracy epoch: 98.96%\n"
          ]
        }
      ],
      "source": [
        "info = train(model, epochs=10, calc_recall=True, checkpoint=True)"
      ]
    },
    {
      "cell_type": "markdown",
      "metadata": {
        "id": "F2gd_HasK4DL"
      },
      "source": [
        "## Prediction"
      ]
    },
    {
      "cell_type": "code",
      "execution_count": null,
      "metadata": {
        "id": "JoVhPhINat9X"
      },
      "outputs": [],
      "source": [
        "best_model = info[0]"
      ]
    },
    {
      "cell_type": "code",
      "execution_count": null,
      "metadata": {
        "id": "cExDFRh_sX3W"
      },
      "outputs": [],
      "source": [
        "path = 'checkpoints/recanet_dunnhumby_20.pth'\n",
        "torch.save(best_model.state_dict(), path)\n"
      ]
    },
    {
      "cell_type": "code",
      "source": [
        "model"
      ],
      "metadata": {
        "colab": {
          "base_uri": "https://localhost:8080/"
        },
        "id": "700DqYGBGBS1",
        "outputId": "36917a11-411e-4ff3-cb3f-07fc8410b853"
      },
      "execution_count": null,
      "outputs": [
        {
          "output_type": "execute_result",
          "data": {
            "text/plain": [
              "ReCaNet(\n",
              "  (item_embedding): Embedding(36964, 128)\n",
              "  (user_embedding): Embedding(2498, 32)\n",
              "  (fc1): Linear(in_features=160, out_features=128, bias=True)\n",
              "  (fc2): Linear(in_features=129, out_features=128, bias=True)\n",
              "  (lstm1): LSTM(128, 128, num_layers=2, batch_first=True)\n",
              "  (fc5): Linear(in_features=128, out_features=128, bias=True)\n",
              "  (fc6): Linear(in_features=128, out_features=128, bias=True)\n",
              "  (fc7): Linear(in_features=128, out_features=1, bias=True)\n",
              ")"
            ]
          },
          "metadata": {},
          "execution_count": 34
        }
      ]
    },
    {
      "cell_type": "code",
      "source": [
        "model.load_state_dict(torch.load('checkpoints/epoch1_recanet_dunnhumby_20.pth', map_location=torch.device('cpu')))"
      ],
      "metadata": {
        "colab": {
          "base_uri": "https://localhost:8080/"
        },
        "id": "9CsVBrTIEdaa",
        "outputId": "4a7cfe2c-2129-437d-8814-98dda5ea36ea"
      },
      "execution_count": null,
      "outputs": [
        {
          "output_type": "execute_result",
          "data": {
            "text/plain": [
              "<All keys matched successfully>"
            ]
          },
          "metadata": {},
          "execution_count": 36
        }
      ]
    },
    {
      "cell_type": "code",
      "source": [
        "best_model = model"
      ],
      "metadata": {
        "id": "oUxcN31pF6hh"
      },
      "execution_count": null,
      "outputs": []
    },
    {
      "cell_type": "code",
      "execution_count": null,
      "metadata": {
        "id": "EihGbOI-pGqu"
      },
      "outputs": [],
      "source": [
        "def predict(model, test_loader):\n",
        "    \n",
        "    test_items, test_users, test_history2, test_labels = dataset.create_test_data('test')\n",
        "    preds = []\n",
        "    pred_scores = []\n",
        "    \n",
        "    for x1, x2,  x4, y in tqdm(test_loader):\n",
        "        with torch.no_grad():\n",
        "            y_pred = model(x1, x2, x4)\n",
        "            pred = [round(value) for value in y_pred.flatten().tolist()]\n",
        "            preds.extend(pred)\n",
        "            pred_scores.extend(y_pred.flatten().tolist())\n",
        "            \n",
        "   \n",
        "    prediction_baskets = {}\n",
        "    prediction_scores = {}\n",
        "    for user in dataset.test_users:\n",
        "        top_items = []\n",
        "        if user in dataset.user_id_mapper:\n",
        "            user_id = dataset.user_id_mapper[user]\n",
        "            indices = np.argwhere(test_users == user_id)\n",
        "            item_scores = np.array(pred_scores)[indices].flatten()\n",
        "            item_ids = test_items[indices].flatten()\n",
        "            item_score_dic = {}\n",
        "            for i, item_id in enumerate(item_ids):\n",
        "                item_score_dic[dataset.id_item_mapper[item_id]] = item_scores[i]\n",
        "            sorted_item_scores = sorted(item_score_dic.items(), key= lambda x: x[1], reverse = True)\n",
        "            top_items = [x[0] for x in sorted_item_scores]\n",
        "            prediction_scores[user] = sorted_item_scores\n",
        "            \n",
        "        prediction_baskets[user] = top_items\n",
        "\n",
        "    return prediction_baskets"
      ]
    },
    {
      "cell_type": "code",
      "execution_count": null,
      "metadata": {
        "id": "lS9_0BI5K4DM",
        "colab": {
          "base_uri": "https://localhost:8080/",
          "height": 287,
          "referenced_widgets": [
            "263ef565bd6643e590540814570c1143",
            "3bb3323bb4314f19aa913d5d53be327c",
            "94c355683b6949068f3084f79629611e",
            "abb484d0f025490a935bf3fee36a0d63",
            "398b6f36f092462e966b9fa9d5a6f317",
            "7725d40ce0de4273a84a0c3d935624a6",
            "3e2a7e5579754232ab02f93e08835bbf",
            "1118a72e489c430d9c4b7feac2884132",
            "8bbe6477dba844a7b03729953327e5e0",
            "6b6dcdd5908241859d790e056e5d376c",
            "24b62e61ef5c4e4ea5df8645834fcae9"
          ]
        },
        "outputId": "1df22d7d-5d77-4c78-8780-3bac3e729709"
      },
      "outputs": [
        {
          "output_type": "display_data",
          "data": {
            "text/plain": [
              "  0%|          | 0/322 [00:00<?, ?it/s]"
            ],
            "application/vnd.jupyter.widget-view+json": {
              "version_major": 2,
              "version_minor": 0,
              "model_id": "263ef565bd6643e590540814570c1143"
            }
          },
          "metadata": {}
        },
        {
          "output_type": "stream",
          "name": "stdout",
          "text": [
            "predictions ready 2483\n",
            "number of final test users: 1243\n",
            "5\n",
            "recall: 0.1250107936643539\n",
            "ndcg: 0.18918372331486383\n",
            "10\n",
            "recall: 0.16716307337816846\n",
            "ndcg: 0.15559064113478038\n",
            "20\n",
            "recall: 0.21960974878551262\n",
            "ndcg: 0.1223453678741475\n",
            "B\n",
            "recall: 0.1368036419199789\n",
            "ndcg: 0.1576091195917918\n"
          ]
        }
      ],
      "source": [
        "test_baskets = pd.read_csv(path_test)\n",
        "user_test_baskets_df = test_baskets.groupby('user_id')['item_id'].apply(list).reset_index()\n",
        "user_test_baskets_dict = dict(zip( user_test_baskets_df['user_id'],user_test_baskets_df['item_id']))\n",
        "\n",
        "user_predictions = predict(best_model, test_loader)\n",
        "final_users = set(dataset.test_users).intersection(set(list(user_test_baskets_dict.keys())))\n",
        "print('predictions ready',len(user_predictions))\n",
        "print('number of final test users:',len(final_users))\n",
        "for k in [5,10,20,'B']:\n",
        "    print(k)\n",
        "    recall_scores = {}\n",
        "    ndcg_scores = {}\n",
        "    #zero = 0\n",
        "    for user in final_users:\n",
        "\n",
        "        top_items = []\n",
        "        if user in user_predictions:\n",
        "            top_items = user_predictions[user]\n",
        "        else:\n",
        "            zero+=1\n",
        "\n",
        "        if k == 'B':\n",
        "            recall_scores[user] = recall_k(user_test_baskets_dict[user],top_items,len(user_test_baskets_dict[user]))\n",
        "            ndcg_scores[user] = ndcg_k(user_test_baskets_dict[user],top_items,len(user_test_baskets_dict[user]))\n",
        "        else:\n",
        "            recall_scores[user] = recall_k(user_test_baskets_dict[user],top_items,k)\n",
        "            ndcg_scores[user] = ndcg_k(user_test_baskets_dict[user],top_items,k)\n",
        "    #print(zero)\n",
        "    print('recall:',np.mean(list(recall_scores.values())))\n",
        "    print('ndcg:',np.mean(list(ndcg_scores.values())))"
      ]
    },
    {
      "cell_type": "code",
      "source": [],
      "metadata": {
        "id": "fJgOizGrI5Uq"
      },
      "execution_count": null,
      "outputs": []
    }
  ],
  "metadata": {
    "accelerator": "GPU",
    "colab": {
      "provenance": []
    },
    "gpuClass": "standard",
    "kernelspec": {
      "display_name": "Python 3 (ipykernel)",
      "language": "python",
      "name": "python3"
    },
    "language_info": {
      "codemirror_mode": {
        "name": "ipython",
        "version": 3
      },
      "file_extension": ".py",
      "mimetype": "text/x-python",
      "name": "python",
      "nbconvert_exporter": "python",
      "pygments_lexer": "ipython3",
      "version": "3.9.7"
    },
    "toc": {
      "base_numbering": 1,
      "nav_menu": {},
      "number_sections": true,
      "sideBar": true,
      "skip_h1_title": false,
      "title_cell": "Table of Contents",
      "title_sidebar": "Contents",
      "toc_cell": false,
      "toc_position": {},
      "toc_section_display": true,
      "toc_window_display": false
    },
    "widgets": {
      "application/vnd.jupyter.widget-state+json": {
        "7218bbe280774f32a0566b20ed810d47": {
          "model_module": "@jupyter-widgets/controls",
          "model_name": "HBoxModel",
          "model_module_version": "1.5.0",
          "state": {
            "_dom_classes": [],
            "_model_module": "@jupyter-widgets/controls",
            "_model_module_version": "1.5.0",
            "_model_name": "HBoxModel",
            "_view_count": null,
            "_view_module": "@jupyter-widgets/controls",
            "_view_module_version": "1.5.0",
            "_view_name": "HBoxView",
            "box_style": "",
            "children": [
              "IPY_MODEL_9f06f859cac14d9b84dd449ff72150ac",
              "IPY_MODEL_5208680fdaca42219a125f6b78a76789",
              "IPY_MODEL_7cc4f85cca4844348ab5853b678a89d0"
            ],
            "layout": "IPY_MODEL_fe1b122320ea447eb3f627b37e7f5328"
          }
        },
        "9f06f859cac14d9b84dd449ff72150ac": {
          "model_module": "@jupyter-widgets/controls",
          "model_name": "HTMLModel",
          "model_module_version": "1.5.0",
          "state": {
            "_dom_classes": [],
            "_model_module": "@jupyter-widgets/controls",
            "_model_module_version": "1.5.0",
            "_model_name": "HTMLModel",
            "_view_count": null,
            "_view_module": "@jupyter-widgets/controls",
            "_view_module_version": "1.5.0",
            "_view_name": "HTMLView",
            "description": "",
            "description_tooltip": null,
            "layout": "IPY_MODEL_7ede57b97b04490a8f4f908e6936d109",
            "placeholder": "​",
            "style": "IPY_MODEL_2a57b698b2744fadba753bad88b43a70",
            "value": " 20%"
          }
        },
        "5208680fdaca42219a125f6b78a76789": {
          "model_module": "@jupyter-widgets/controls",
          "model_name": "FloatProgressModel",
          "model_module_version": "1.5.0",
          "state": {
            "_dom_classes": [],
            "_model_module": "@jupyter-widgets/controls",
            "_model_module_version": "1.5.0",
            "_model_name": "FloatProgressModel",
            "_view_count": null,
            "_view_module": "@jupyter-widgets/controls",
            "_view_module_version": "1.5.0",
            "_view_name": "ProgressView",
            "bar_style": "",
            "description": "",
            "description_tooltip": null,
            "layout": "IPY_MODEL_8baabb92291b441c9ee6b27b1c67414c",
            "max": 10,
            "min": 0,
            "orientation": "horizontal",
            "style": "IPY_MODEL_b6a6e582472b401eabc0633395166def",
            "value": 2
          }
        },
        "7cc4f85cca4844348ab5853b678a89d0": {
          "model_module": "@jupyter-widgets/controls",
          "model_name": "HTMLModel",
          "model_module_version": "1.5.0",
          "state": {
            "_dom_classes": [],
            "_model_module": "@jupyter-widgets/controls",
            "_model_module_version": "1.5.0",
            "_model_name": "HTMLModel",
            "_view_count": null,
            "_view_module": "@jupyter-widgets/controls",
            "_view_module_version": "1.5.0",
            "_view_name": "HTMLView",
            "description": "",
            "description_tooltip": null,
            "layout": "IPY_MODEL_038ff7090cf4427fb062d1cf612b2692",
            "placeholder": "​",
            "style": "IPY_MODEL_1c3c2477886a4e08be9641c4e2897898",
            "value": " 2/10 [3:26:26&lt;13:35:48, 6118.59s/it]"
          }
        },
        "fe1b122320ea447eb3f627b37e7f5328": {
          "model_module": "@jupyter-widgets/base",
          "model_name": "LayoutModel",
          "model_module_version": "1.2.0",
          "state": {
            "_model_module": "@jupyter-widgets/base",
            "_model_module_version": "1.2.0",
            "_model_name": "LayoutModel",
            "_view_count": null,
            "_view_module": "@jupyter-widgets/base",
            "_view_module_version": "1.2.0",
            "_view_name": "LayoutView",
            "align_content": null,
            "align_items": null,
            "align_self": null,
            "border": null,
            "bottom": null,
            "display": null,
            "flex": null,
            "flex_flow": null,
            "grid_area": null,
            "grid_auto_columns": null,
            "grid_auto_flow": null,
            "grid_auto_rows": null,
            "grid_column": null,
            "grid_gap": null,
            "grid_row": null,
            "grid_template_areas": null,
            "grid_template_columns": null,
            "grid_template_rows": null,
            "height": null,
            "justify_content": null,
            "justify_items": null,
            "left": null,
            "margin": null,
            "max_height": null,
            "max_width": null,
            "min_height": null,
            "min_width": null,
            "object_fit": null,
            "object_position": null,
            "order": null,
            "overflow": null,
            "overflow_x": null,
            "overflow_y": null,
            "padding": null,
            "right": null,
            "top": null,
            "visibility": null,
            "width": null
          }
        },
        "7ede57b97b04490a8f4f908e6936d109": {
          "model_module": "@jupyter-widgets/base",
          "model_name": "LayoutModel",
          "model_module_version": "1.2.0",
          "state": {
            "_model_module": "@jupyter-widgets/base",
            "_model_module_version": "1.2.0",
            "_model_name": "LayoutModel",
            "_view_count": null,
            "_view_module": "@jupyter-widgets/base",
            "_view_module_version": "1.2.0",
            "_view_name": "LayoutView",
            "align_content": null,
            "align_items": null,
            "align_self": null,
            "border": null,
            "bottom": null,
            "display": null,
            "flex": null,
            "flex_flow": null,
            "grid_area": null,
            "grid_auto_columns": null,
            "grid_auto_flow": null,
            "grid_auto_rows": null,
            "grid_column": null,
            "grid_gap": null,
            "grid_row": null,
            "grid_template_areas": null,
            "grid_template_columns": null,
            "grid_template_rows": null,
            "height": null,
            "justify_content": null,
            "justify_items": null,
            "left": null,
            "margin": null,
            "max_height": null,
            "max_width": null,
            "min_height": null,
            "min_width": null,
            "object_fit": null,
            "object_position": null,
            "order": null,
            "overflow": null,
            "overflow_x": null,
            "overflow_y": null,
            "padding": null,
            "right": null,
            "top": null,
            "visibility": null,
            "width": null
          }
        },
        "2a57b698b2744fadba753bad88b43a70": {
          "model_module": "@jupyter-widgets/controls",
          "model_name": "DescriptionStyleModel",
          "model_module_version": "1.5.0",
          "state": {
            "_model_module": "@jupyter-widgets/controls",
            "_model_module_version": "1.5.0",
            "_model_name": "DescriptionStyleModel",
            "_view_count": null,
            "_view_module": "@jupyter-widgets/base",
            "_view_module_version": "1.2.0",
            "_view_name": "StyleView",
            "description_width": ""
          }
        },
        "8baabb92291b441c9ee6b27b1c67414c": {
          "model_module": "@jupyter-widgets/base",
          "model_name": "LayoutModel",
          "model_module_version": "1.2.0",
          "state": {
            "_model_module": "@jupyter-widgets/base",
            "_model_module_version": "1.2.0",
            "_model_name": "LayoutModel",
            "_view_count": null,
            "_view_module": "@jupyter-widgets/base",
            "_view_module_version": "1.2.0",
            "_view_name": "LayoutView",
            "align_content": null,
            "align_items": null,
            "align_self": null,
            "border": null,
            "bottom": null,
            "display": null,
            "flex": null,
            "flex_flow": null,
            "grid_area": null,
            "grid_auto_columns": null,
            "grid_auto_flow": null,
            "grid_auto_rows": null,
            "grid_column": null,
            "grid_gap": null,
            "grid_row": null,
            "grid_template_areas": null,
            "grid_template_columns": null,
            "grid_template_rows": null,
            "height": null,
            "justify_content": null,
            "justify_items": null,
            "left": null,
            "margin": null,
            "max_height": null,
            "max_width": null,
            "min_height": null,
            "min_width": null,
            "object_fit": null,
            "object_position": null,
            "order": null,
            "overflow": null,
            "overflow_x": null,
            "overflow_y": null,
            "padding": null,
            "right": null,
            "top": null,
            "visibility": null,
            "width": null
          }
        },
        "b6a6e582472b401eabc0633395166def": {
          "model_module": "@jupyter-widgets/controls",
          "model_name": "ProgressStyleModel",
          "model_module_version": "1.5.0",
          "state": {
            "_model_module": "@jupyter-widgets/controls",
            "_model_module_version": "1.5.0",
            "_model_name": "ProgressStyleModel",
            "_view_count": null,
            "_view_module": "@jupyter-widgets/base",
            "_view_module_version": "1.2.0",
            "_view_name": "StyleView",
            "bar_color": null,
            "description_width": ""
          }
        },
        "038ff7090cf4427fb062d1cf612b2692": {
          "model_module": "@jupyter-widgets/base",
          "model_name": "LayoutModel",
          "model_module_version": "1.2.0",
          "state": {
            "_model_module": "@jupyter-widgets/base",
            "_model_module_version": "1.2.0",
            "_model_name": "LayoutModel",
            "_view_count": null,
            "_view_module": "@jupyter-widgets/base",
            "_view_module_version": "1.2.0",
            "_view_name": "LayoutView",
            "align_content": null,
            "align_items": null,
            "align_self": null,
            "border": null,
            "bottom": null,
            "display": null,
            "flex": null,
            "flex_flow": null,
            "grid_area": null,
            "grid_auto_columns": null,
            "grid_auto_flow": null,
            "grid_auto_rows": null,
            "grid_column": null,
            "grid_gap": null,
            "grid_row": null,
            "grid_template_areas": null,
            "grid_template_columns": null,
            "grid_template_rows": null,
            "height": null,
            "justify_content": null,
            "justify_items": null,
            "left": null,
            "margin": null,
            "max_height": null,
            "max_width": null,
            "min_height": null,
            "min_width": null,
            "object_fit": null,
            "object_position": null,
            "order": null,
            "overflow": null,
            "overflow_x": null,
            "overflow_y": null,
            "padding": null,
            "right": null,
            "top": null,
            "visibility": null,
            "width": null
          }
        },
        "1c3c2477886a4e08be9641c4e2897898": {
          "model_module": "@jupyter-widgets/controls",
          "model_name": "DescriptionStyleModel",
          "model_module_version": "1.5.0",
          "state": {
            "_model_module": "@jupyter-widgets/controls",
            "_model_module_version": "1.5.0",
            "_model_name": "DescriptionStyleModel",
            "_view_count": null,
            "_view_module": "@jupyter-widgets/base",
            "_view_module_version": "1.2.0",
            "_view_name": "StyleView",
            "description_width": ""
          }
        },
        "4b4b8382a053441693ba606364b41a74": {
          "model_module": "@jupyter-widgets/controls",
          "model_name": "HBoxModel",
          "model_module_version": "1.5.0",
          "state": {
            "_dom_classes": [],
            "_model_module": "@jupyter-widgets/controls",
            "_model_module_version": "1.5.0",
            "_model_name": "HBoxModel",
            "_view_count": null,
            "_view_module": "@jupyter-widgets/controls",
            "_view_module_version": "1.5.0",
            "_view_name": "HBoxView",
            "box_style": "",
            "children": [
              "IPY_MODEL_e47f2d5eface4311b421a8589645e74d",
              "IPY_MODEL_3a68a8975ad64a0c96d2aa12ccbaf1b8",
              "IPY_MODEL_bb8d27330e3c416bae46cea0008ca1bc"
            ],
            "layout": "IPY_MODEL_d12e1ebfa5ae4aa59cd4a3d47948b955"
          }
        },
        "e47f2d5eface4311b421a8589645e74d": {
          "model_module": "@jupyter-widgets/controls",
          "model_name": "HTMLModel",
          "model_module_version": "1.5.0",
          "state": {
            "_dom_classes": [],
            "_model_module": "@jupyter-widgets/controls",
            "_model_module_version": "1.5.0",
            "_model_name": "HTMLModel",
            "_view_count": null,
            "_view_module": "@jupyter-widgets/controls",
            "_view_module_version": "1.5.0",
            "_view_name": "HTMLView",
            "description": "",
            "description_tooltip": null,
            "layout": "IPY_MODEL_83454d1bd6bc44c5b7141320e5d1bf39",
            "placeholder": "​",
            "style": "IPY_MODEL_73dd3c1d61e240139d4a620fef146380",
            "value": "100%"
          }
        },
        "3a68a8975ad64a0c96d2aa12ccbaf1b8": {
          "model_module": "@jupyter-widgets/controls",
          "model_name": "FloatProgressModel",
          "model_module_version": "1.5.0",
          "state": {
            "_dom_classes": [],
            "_model_module": "@jupyter-widgets/controls",
            "_model_module_version": "1.5.0",
            "_model_name": "FloatProgressModel",
            "_view_count": null,
            "_view_module": "@jupyter-widgets/controls",
            "_view_module_version": "1.5.0",
            "_view_name": "ProgressView",
            "bar_style": "success",
            "description": "",
            "description_tooltip": null,
            "layout": "IPY_MODEL_24932e5a91ae484ca52995519d3cb1f8",
            "max": 24501,
            "min": 0,
            "orientation": "horizontal",
            "style": "IPY_MODEL_076a6957e45d4d5bb057bca9d1ecaf9a",
            "value": 24501
          }
        },
        "bb8d27330e3c416bae46cea0008ca1bc": {
          "model_module": "@jupyter-widgets/controls",
          "model_name": "HTMLModel",
          "model_module_version": "1.5.0",
          "state": {
            "_dom_classes": [],
            "_model_module": "@jupyter-widgets/controls",
            "_model_module_version": "1.5.0",
            "_model_name": "HTMLModel",
            "_view_count": null,
            "_view_module": "@jupyter-widgets/controls",
            "_view_module_version": "1.5.0",
            "_view_name": "HTMLView",
            "description": "",
            "description_tooltip": null,
            "layout": "IPY_MODEL_8b899595203e40ca8b72536e7c64bcfa",
            "placeholder": "​",
            "style": "IPY_MODEL_4f3e2f8643e045b2b62759e85ce77393",
            "value": " 24501/24501 [48:27&lt;00:00,  1.07it/s]"
          }
        },
        "d12e1ebfa5ae4aa59cd4a3d47948b955": {
          "model_module": "@jupyter-widgets/base",
          "model_name": "LayoutModel",
          "model_module_version": "1.2.0",
          "state": {
            "_model_module": "@jupyter-widgets/base",
            "_model_module_version": "1.2.0",
            "_model_name": "LayoutModel",
            "_view_count": null,
            "_view_module": "@jupyter-widgets/base",
            "_view_module_version": "1.2.0",
            "_view_name": "LayoutView",
            "align_content": null,
            "align_items": null,
            "align_self": null,
            "border": null,
            "bottom": null,
            "display": null,
            "flex": null,
            "flex_flow": null,
            "grid_area": null,
            "grid_auto_columns": null,
            "grid_auto_flow": null,
            "grid_auto_rows": null,
            "grid_column": null,
            "grid_gap": null,
            "grid_row": null,
            "grid_template_areas": null,
            "grid_template_columns": null,
            "grid_template_rows": null,
            "height": null,
            "justify_content": null,
            "justify_items": null,
            "left": null,
            "margin": null,
            "max_height": null,
            "max_width": null,
            "min_height": null,
            "min_width": null,
            "object_fit": null,
            "object_position": null,
            "order": null,
            "overflow": null,
            "overflow_x": null,
            "overflow_y": null,
            "padding": null,
            "right": null,
            "top": null,
            "visibility": null,
            "width": null
          }
        },
        "83454d1bd6bc44c5b7141320e5d1bf39": {
          "model_module": "@jupyter-widgets/base",
          "model_name": "LayoutModel",
          "model_module_version": "1.2.0",
          "state": {
            "_model_module": "@jupyter-widgets/base",
            "_model_module_version": "1.2.0",
            "_model_name": "LayoutModel",
            "_view_count": null,
            "_view_module": "@jupyter-widgets/base",
            "_view_module_version": "1.2.0",
            "_view_name": "LayoutView",
            "align_content": null,
            "align_items": null,
            "align_self": null,
            "border": null,
            "bottom": null,
            "display": null,
            "flex": null,
            "flex_flow": null,
            "grid_area": null,
            "grid_auto_columns": null,
            "grid_auto_flow": null,
            "grid_auto_rows": null,
            "grid_column": null,
            "grid_gap": null,
            "grid_row": null,
            "grid_template_areas": null,
            "grid_template_columns": null,
            "grid_template_rows": null,
            "height": null,
            "justify_content": null,
            "justify_items": null,
            "left": null,
            "margin": null,
            "max_height": null,
            "max_width": null,
            "min_height": null,
            "min_width": null,
            "object_fit": null,
            "object_position": null,
            "order": null,
            "overflow": null,
            "overflow_x": null,
            "overflow_y": null,
            "padding": null,
            "right": null,
            "top": null,
            "visibility": null,
            "width": null
          }
        },
        "73dd3c1d61e240139d4a620fef146380": {
          "model_module": "@jupyter-widgets/controls",
          "model_name": "DescriptionStyleModel",
          "model_module_version": "1.5.0",
          "state": {
            "_model_module": "@jupyter-widgets/controls",
            "_model_module_version": "1.5.0",
            "_model_name": "DescriptionStyleModel",
            "_view_count": null,
            "_view_module": "@jupyter-widgets/base",
            "_view_module_version": "1.2.0",
            "_view_name": "StyleView",
            "description_width": ""
          }
        },
        "24932e5a91ae484ca52995519d3cb1f8": {
          "model_module": "@jupyter-widgets/base",
          "model_name": "LayoutModel",
          "model_module_version": "1.2.0",
          "state": {
            "_model_module": "@jupyter-widgets/base",
            "_model_module_version": "1.2.0",
            "_model_name": "LayoutModel",
            "_view_count": null,
            "_view_module": "@jupyter-widgets/base",
            "_view_module_version": "1.2.0",
            "_view_name": "LayoutView",
            "align_content": null,
            "align_items": null,
            "align_self": null,
            "border": null,
            "bottom": null,
            "display": null,
            "flex": null,
            "flex_flow": null,
            "grid_area": null,
            "grid_auto_columns": null,
            "grid_auto_flow": null,
            "grid_auto_rows": null,
            "grid_column": null,
            "grid_gap": null,
            "grid_row": null,
            "grid_template_areas": null,
            "grid_template_columns": null,
            "grid_template_rows": null,
            "height": null,
            "justify_content": null,
            "justify_items": null,
            "left": null,
            "margin": null,
            "max_height": null,
            "max_width": null,
            "min_height": null,
            "min_width": null,
            "object_fit": null,
            "object_position": null,
            "order": null,
            "overflow": null,
            "overflow_x": null,
            "overflow_y": null,
            "padding": null,
            "right": null,
            "top": null,
            "visibility": null,
            "width": null
          }
        },
        "076a6957e45d4d5bb057bca9d1ecaf9a": {
          "model_module": "@jupyter-widgets/controls",
          "model_name": "ProgressStyleModel",
          "model_module_version": "1.5.0",
          "state": {
            "_model_module": "@jupyter-widgets/controls",
            "_model_module_version": "1.5.0",
            "_model_name": "ProgressStyleModel",
            "_view_count": null,
            "_view_module": "@jupyter-widgets/base",
            "_view_module_version": "1.2.0",
            "_view_name": "StyleView",
            "bar_color": null,
            "description_width": ""
          }
        },
        "8b899595203e40ca8b72536e7c64bcfa": {
          "model_module": "@jupyter-widgets/base",
          "model_name": "LayoutModel",
          "model_module_version": "1.2.0",
          "state": {
            "_model_module": "@jupyter-widgets/base",
            "_model_module_version": "1.2.0",
            "_model_name": "LayoutModel",
            "_view_count": null,
            "_view_module": "@jupyter-widgets/base",
            "_view_module_version": "1.2.0",
            "_view_name": "LayoutView",
            "align_content": null,
            "align_items": null,
            "align_self": null,
            "border": null,
            "bottom": null,
            "display": null,
            "flex": null,
            "flex_flow": null,
            "grid_area": null,
            "grid_auto_columns": null,
            "grid_auto_flow": null,
            "grid_auto_rows": null,
            "grid_column": null,
            "grid_gap": null,
            "grid_row": null,
            "grid_template_areas": null,
            "grid_template_columns": null,
            "grid_template_rows": null,
            "height": null,
            "justify_content": null,
            "justify_items": null,
            "left": null,
            "margin": null,
            "max_height": null,
            "max_width": null,
            "min_height": null,
            "min_width": null,
            "object_fit": null,
            "object_position": null,
            "order": null,
            "overflow": null,
            "overflow_x": null,
            "overflow_y": null,
            "padding": null,
            "right": null,
            "top": null,
            "visibility": null,
            "width": null
          }
        },
        "4f3e2f8643e045b2b62759e85ce77393": {
          "model_module": "@jupyter-widgets/controls",
          "model_name": "DescriptionStyleModel",
          "model_module_version": "1.5.0",
          "state": {
            "_model_module": "@jupyter-widgets/controls",
            "_model_module_version": "1.5.0",
            "_model_name": "DescriptionStyleModel",
            "_view_count": null,
            "_view_module": "@jupyter-widgets/base",
            "_view_module_version": "1.2.0",
            "_view_name": "StyleView",
            "description_width": ""
          }
        },
        "c7ca301d7bd94b9da899b526c05891f8": {
          "model_module": "@jupyter-widgets/controls",
          "model_name": "HBoxModel",
          "model_module_version": "1.5.0",
          "state": {
            "_dom_classes": [],
            "_model_module": "@jupyter-widgets/controls",
            "_model_module_version": "1.5.0",
            "_model_name": "HBoxModel",
            "_view_count": null,
            "_view_module": "@jupyter-widgets/controls",
            "_view_module_version": "1.5.0",
            "_view_name": "HBoxView",
            "box_style": "",
            "children": [
              "IPY_MODEL_d58911758f89451ea933713aaefa1ec9",
              "IPY_MODEL_fa493e59f4214a9493151fc5debd0285",
              "IPY_MODEL_e4def756c25049d39732501c1430b9aa"
            ],
            "layout": "IPY_MODEL_3a9a1130cee642ab88282cb5daeb8aae"
          }
        },
        "d58911758f89451ea933713aaefa1ec9": {
          "model_module": "@jupyter-widgets/controls",
          "model_name": "HTMLModel",
          "model_module_version": "1.5.0",
          "state": {
            "_dom_classes": [],
            "_model_module": "@jupyter-widgets/controls",
            "_model_module_version": "1.5.0",
            "_model_name": "HTMLModel",
            "_view_count": null,
            "_view_module": "@jupyter-widgets/controls",
            "_view_module_version": "1.5.0",
            "_view_name": "HTMLView",
            "description": "",
            "description_tooltip": null,
            "layout": "IPY_MODEL_c62ba2ec456740b485309382d1ff3e60",
            "placeholder": "​",
            "style": "IPY_MODEL_13893c9dddd7464a95fab707d8760ab6",
            "value": "100%"
          }
        },
        "fa493e59f4214a9493151fc5debd0285": {
          "model_module": "@jupyter-widgets/controls",
          "model_name": "FloatProgressModel",
          "model_module_version": "1.5.0",
          "state": {
            "_dom_classes": [],
            "_model_module": "@jupyter-widgets/controls",
            "_model_module_version": "1.5.0",
            "_model_name": "FloatProgressModel",
            "_view_count": null,
            "_view_module": "@jupyter-widgets/controls",
            "_view_module_version": "1.5.0",
            "_view_name": "ProgressView",
            "bar_style": "success",
            "description": "",
            "description_tooltip": null,
            "layout": "IPY_MODEL_121ba79de11a43a6878af35185839862",
            "max": 24501,
            "min": 0,
            "orientation": "horizontal",
            "style": "IPY_MODEL_7963c275dc9545a09d20e0154f4a0dd0",
            "value": 24501
          }
        },
        "e4def756c25049d39732501c1430b9aa": {
          "model_module": "@jupyter-widgets/controls",
          "model_name": "HTMLModel",
          "model_module_version": "1.5.0",
          "state": {
            "_dom_classes": [],
            "_model_module": "@jupyter-widgets/controls",
            "_model_module_version": "1.5.0",
            "_model_name": "HTMLModel",
            "_view_count": null,
            "_view_module": "@jupyter-widgets/controls",
            "_view_module_version": "1.5.0",
            "_view_name": "HTMLView",
            "description": "",
            "description_tooltip": null,
            "layout": "IPY_MODEL_7233dbccaf57434f9bf73e854382932c",
            "placeholder": "​",
            "style": "IPY_MODEL_aaed77c6a5db4fb1828a7a57855036ae",
            "value": " 24501/24501 [33:24&lt;00:00,  1.16it/s]"
          }
        },
        "3a9a1130cee642ab88282cb5daeb8aae": {
          "model_module": "@jupyter-widgets/base",
          "model_name": "LayoutModel",
          "model_module_version": "1.2.0",
          "state": {
            "_model_module": "@jupyter-widgets/base",
            "_model_module_version": "1.2.0",
            "_model_name": "LayoutModel",
            "_view_count": null,
            "_view_module": "@jupyter-widgets/base",
            "_view_module_version": "1.2.0",
            "_view_name": "LayoutView",
            "align_content": null,
            "align_items": null,
            "align_self": null,
            "border": null,
            "bottom": null,
            "display": null,
            "flex": null,
            "flex_flow": null,
            "grid_area": null,
            "grid_auto_columns": null,
            "grid_auto_flow": null,
            "grid_auto_rows": null,
            "grid_column": null,
            "grid_gap": null,
            "grid_row": null,
            "grid_template_areas": null,
            "grid_template_columns": null,
            "grid_template_rows": null,
            "height": null,
            "justify_content": null,
            "justify_items": null,
            "left": null,
            "margin": null,
            "max_height": null,
            "max_width": null,
            "min_height": null,
            "min_width": null,
            "object_fit": null,
            "object_position": null,
            "order": null,
            "overflow": null,
            "overflow_x": null,
            "overflow_y": null,
            "padding": null,
            "right": null,
            "top": null,
            "visibility": null,
            "width": null
          }
        },
        "c62ba2ec456740b485309382d1ff3e60": {
          "model_module": "@jupyter-widgets/base",
          "model_name": "LayoutModel",
          "model_module_version": "1.2.0",
          "state": {
            "_model_module": "@jupyter-widgets/base",
            "_model_module_version": "1.2.0",
            "_model_name": "LayoutModel",
            "_view_count": null,
            "_view_module": "@jupyter-widgets/base",
            "_view_module_version": "1.2.0",
            "_view_name": "LayoutView",
            "align_content": null,
            "align_items": null,
            "align_self": null,
            "border": null,
            "bottom": null,
            "display": null,
            "flex": null,
            "flex_flow": null,
            "grid_area": null,
            "grid_auto_columns": null,
            "grid_auto_flow": null,
            "grid_auto_rows": null,
            "grid_column": null,
            "grid_gap": null,
            "grid_row": null,
            "grid_template_areas": null,
            "grid_template_columns": null,
            "grid_template_rows": null,
            "height": null,
            "justify_content": null,
            "justify_items": null,
            "left": null,
            "margin": null,
            "max_height": null,
            "max_width": null,
            "min_height": null,
            "min_width": null,
            "object_fit": null,
            "object_position": null,
            "order": null,
            "overflow": null,
            "overflow_x": null,
            "overflow_y": null,
            "padding": null,
            "right": null,
            "top": null,
            "visibility": null,
            "width": null
          }
        },
        "13893c9dddd7464a95fab707d8760ab6": {
          "model_module": "@jupyter-widgets/controls",
          "model_name": "DescriptionStyleModel",
          "model_module_version": "1.5.0",
          "state": {
            "_model_module": "@jupyter-widgets/controls",
            "_model_module_version": "1.5.0",
            "_model_name": "DescriptionStyleModel",
            "_view_count": null,
            "_view_module": "@jupyter-widgets/base",
            "_view_module_version": "1.2.0",
            "_view_name": "StyleView",
            "description_width": ""
          }
        },
        "121ba79de11a43a6878af35185839862": {
          "model_module": "@jupyter-widgets/base",
          "model_name": "LayoutModel",
          "model_module_version": "1.2.0",
          "state": {
            "_model_module": "@jupyter-widgets/base",
            "_model_module_version": "1.2.0",
            "_model_name": "LayoutModel",
            "_view_count": null,
            "_view_module": "@jupyter-widgets/base",
            "_view_module_version": "1.2.0",
            "_view_name": "LayoutView",
            "align_content": null,
            "align_items": null,
            "align_self": null,
            "border": null,
            "bottom": null,
            "display": null,
            "flex": null,
            "flex_flow": null,
            "grid_area": null,
            "grid_auto_columns": null,
            "grid_auto_flow": null,
            "grid_auto_rows": null,
            "grid_column": null,
            "grid_gap": null,
            "grid_row": null,
            "grid_template_areas": null,
            "grid_template_columns": null,
            "grid_template_rows": null,
            "height": null,
            "justify_content": null,
            "justify_items": null,
            "left": null,
            "margin": null,
            "max_height": null,
            "max_width": null,
            "min_height": null,
            "min_width": null,
            "object_fit": null,
            "object_position": null,
            "order": null,
            "overflow": null,
            "overflow_x": null,
            "overflow_y": null,
            "padding": null,
            "right": null,
            "top": null,
            "visibility": null,
            "width": null
          }
        },
        "7963c275dc9545a09d20e0154f4a0dd0": {
          "model_module": "@jupyter-widgets/controls",
          "model_name": "ProgressStyleModel",
          "model_module_version": "1.5.0",
          "state": {
            "_model_module": "@jupyter-widgets/controls",
            "_model_module_version": "1.5.0",
            "_model_name": "ProgressStyleModel",
            "_view_count": null,
            "_view_module": "@jupyter-widgets/base",
            "_view_module_version": "1.2.0",
            "_view_name": "StyleView",
            "bar_color": null,
            "description_width": ""
          }
        },
        "7233dbccaf57434f9bf73e854382932c": {
          "model_module": "@jupyter-widgets/base",
          "model_name": "LayoutModel",
          "model_module_version": "1.2.0",
          "state": {
            "_model_module": "@jupyter-widgets/base",
            "_model_module_version": "1.2.0",
            "_model_name": "LayoutModel",
            "_view_count": null,
            "_view_module": "@jupyter-widgets/base",
            "_view_module_version": "1.2.0",
            "_view_name": "LayoutView",
            "align_content": null,
            "align_items": null,
            "align_self": null,
            "border": null,
            "bottom": null,
            "display": null,
            "flex": null,
            "flex_flow": null,
            "grid_area": null,
            "grid_auto_columns": null,
            "grid_auto_flow": null,
            "grid_auto_rows": null,
            "grid_column": null,
            "grid_gap": null,
            "grid_row": null,
            "grid_template_areas": null,
            "grid_template_columns": null,
            "grid_template_rows": null,
            "height": null,
            "justify_content": null,
            "justify_items": null,
            "left": null,
            "margin": null,
            "max_height": null,
            "max_width": null,
            "min_height": null,
            "min_width": null,
            "object_fit": null,
            "object_position": null,
            "order": null,
            "overflow": null,
            "overflow_x": null,
            "overflow_y": null,
            "padding": null,
            "right": null,
            "top": null,
            "visibility": null,
            "width": null
          }
        },
        "aaed77c6a5db4fb1828a7a57855036ae": {
          "model_module": "@jupyter-widgets/controls",
          "model_name": "DescriptionStyleModel",
          "model_module_version": "1.5.0",
          "state": {
            "_model_module": "@jupyter-widgets/controls",
            "_model_module_version": "1.5.0",
            "_model_name": "DescriptionStyleModel",
            "_view_count": null,
            "_view_module": "@jupyter-widgets/base",
            "_view_module_version": "1.2.0",
            "_view_name": "StyleView",
            "description_width": ""
          }
        },
        "4205620b61214161b3bda6793e991de1": {
          "model_module": "@jupyter-widgets/controls",
          "model_name": "HBoxModel",
          "model_module_version": "1.5.0",
          "state": {
            "_dom_classes": [],
            "_model_module": "@jupyter-widgets/controls",
            "_model_module_version": "1.5.0",
            "_model_name": "HBoxModel",
            "_view_count": null,
            "_view_module": "@jupyter-widgets/controls",
            "_view_module_version": "1.5.0",
            "_view_name": "HBoxView",
            "box_style": "",
            "children": [
              "IPY_MODEL_44b0554e9da54df1b62d27b5ebc21764",
              "IPY_MODEL_9a3bf8b9b1834e67be2fa5dd52bab652",
              "IPY_MODEL_d5017d43939b4fc18548ef696af9e7d2"
            ],
            "layout": "IPY_MODEL_13120789afe74f2d97d80715ce376441"
          }
        },
        "44b0554e9da54df1b62d27b5ebc21764": {
          "model_module": "@jupyter-widgets/controls",
          "model_name": "HTMLModel",
          "model_module_version": "1.5.0",
          "state": {
            "_dom_classes": [],
            "_model_module": "@jupyter-widgets/controls",
            "_model_module_version": "1.5.0",
            "_model_name": "HTMLModel",
            "_view_count": null,
            "_view_module": "@jupyter-widgets/controls",
            "_view_module_version": "1.5.0",
            "_view_name": "HTMLView",
            "description": "",
            "description_tooltip": null,
            "layout": "IPY_MODEL_c4f79f1aedc54e419876170cdbd04bfc",
            "placeholder": "​",
            "style": "IPY_MODEL_c5fbb87280d14595955f3dc933cb2a95",
            "value": "100%"
          }
        },
        "9a3bf8b9b1834e67be2fa5dd52bab652": {
          "model_module": "@jupyter-widgets/controls",
          "model_name": "FloatProgressModel",
          "model_module_version": "1.5.0",
          "state": {
            "_dom_classes": [],
            "_model_module": "@jupyter-widgets/controls",
            "_model_module_version": "1.5.0",
            "_model_name": "FloatProgressModel",
            "_view_count": null,
            "_view_module": "@jupyter-widgets/controls",
            "_view_module_version": "1.5.0",
            "_view_name": "ProgressView",
            "bar_style": "success",
            "description": "",
            "description_tooltip": null,
            "layout": "IPY_MODEL_2fbcf19af55e49d58eddad4fe620ec89",
            "max": 24501,
            "min": 0,
            "orientation": "horizontal",
            "style": "IPY_MODEL_721ddea47c4b4caa8553fe5a06f4086f",
            "value": 24501
          }
        },
        "d5017d43939b4fc18548ef696af9e7d2": {
          "model_module": "@jupyter-widgets/controls",
          "model_name": "HTMLModel",
          "model_module_version": "1.5.0",
          "state": {
            "_dom_classes": [],
            "_model_module": "@jupyter-widgets/controls",
            "_model_module_version": "1.5.0",
            "_model_name": "HTMLModel",
            "_view_count": null,
            "_view_module": "@jupyter-widgets/controls",
            "_view_module_version": "1.5.0",
            "_view_name": "HTMLView",
            "description": "",
            "description_tooltip": null,
            "layout": "IPY_MODEL_24f20922e3344e62826bc672086334cc",
            "placeholder": "​",
            "style": "IPY_MODEL_e4defb3a48bd4fff8e0ed5e7d6de57c4",
            "value": " 24501/24501 [33:23&lt;00:00,  1.15it/s]"
          }
        },
        "13120789afe74f2d97d80715ce376441": {
          "model_module": "@jupyter-widgets/base",
          "model_name": "LayoutModel",
          "model_module_version": "1.2.0",
          "state": {
            "_model_module": "@jupyter-widgets/base",
            "_model_module_version": "1.2.0",
            "_model_name": "LayoutModel",
            "_view_count": null,
            "_view_module": "@jupyter-widgets/base",
            "_view_module_version": "1.2.0",
            "_view_name": "LayoutView",
            "align_content": null,
            "align_items": null,
            "align_self": null,
            "border": null,
            "bottom": null,
            "display": null,
            "flex": null,
            "flex_flow": null,
            "grid_area": null,
            "grid_auto_columns": null,
            "grid_auto_flow": null,
            "grid_auto_rows": null,
            "grid_column": null,
            "grid_gap": null,
            "grid_row": null,
            "grid_template_areas": null,
            "grid_template_columns": null,
            "grid_template_rows": null,
            "height": null,
            "justify_content": null,
            "justify_items": null,
            "left": null,
            "margin": null,
            "max_height": null,
            "max_width": null,
            "min_height": null,
            "min_width": null,
            "object_fit": null,
            "object_position": null,
            "order": null,
            "overflow": null,
            "overflow_x": null,
            "overflow_y": null,
            "padding": null,
            "right": null,
            "top": null,
            "visibility": null,
            "width": null
          }
        },
        "c4f79f1aedc54e419876170cdbd04bfc": {
          "model_module": "@jupyter-widgets/base",
          "model_name": "LayoutModel",
          "model_module_version": "1.2.0",
          "state": {
            "_model_module": "@jupyter-widgets/base",
            "_model_module_version": "1.2.0",
            "_model_name": "LayoutModel",
            "_view_count": null,
            "_view_module": "@jupyter-widgets/base",
            "_view_module_version": "1.2.0",
            "_view_name": "LayoutView",
            "align_content": null,
            "align_items": null,
            "align_self": null,
            "border": null,
            "bottom": null,
            "display": null,
            "flex": null,
            "flex_flow": null,
            "grid_area": null,
            "grid_auto_columns": null,
            "grid_auto_flow": null,
            "grid_auto_rows": null,
            "grid_column": null,
            "grid_gap": null,
            "grid_row": null,
            "grid_template_areas": null,
            "grid_template_columns": null,
            "grid_template_rows": null,
            "height": null,
            "justify_content": null,
            "justify_items": null,
            "left": null,
            "margin": null,
            "max_height": null,
            "max_width": null,
            "min_height": null,
            "min_width": null,
            "object_fit": null,
            "object_position": null,
            "order": null,
            "overflow": null,
            "overflow_x": null,
            "overflow_y": null,
            "padding": null,
            "right": null,
            "top": null,
            "visibility": null,
            "width": null
          }
        },
        "c5fbb87280d14595955f3dc933cb2a95": {
          "model_module": "@jupyter-widgets/controls",
          "model_name": "DescriptionStyleModel",
          "model_module_version": "1.5.0",
          "state": {
            "_model_module": "@jupyter-widgets/controls",
            "_model_module_version": "1.5.0",
            "_model_name": "DescriptionStyleModel",
            "_view_count": null,
            "_view_module": "@jupyter-widgets/base",
            "_view_module_version": "1.2.0",
            "_view_name": "StyleView",
            "description_width": ""
          }
        },
        "2fbcf19af55e49d58eddad4fe620ec89": {
          "model_module": "@jupyter-widgets/base",
          "model_name": "LayoutModel",
          "model_module_version": "1.2.0",
          "state": {
            "_model_module": "@jupyter-widgets/base",
            "_model_module_version": "1.2.0",
            "_model_name": "LayoutModel",
            "_view_count": null,
            "_view_module": "@jupyter-widgets/base",
            "_view_module_version": "1.2.0",
            "_view_name": "LayoutView",
            "align_content": null,
            "align_items": null,
            "align_self": null,
            "border": null,
            "bottom": null,
            "display": null,
            "flex": null,
            "flex_flow": null,
            "grid_area": null,
            "grid_auto_columns": null,
            "grid_auto_flow": null,
            "grid_auto_rows": null,
            "grid_column": null,
            "grid_gap": null,
            "grid_row": null,
            "grid_template_areas": null,
            "grid_template_columns": null,
            "grid_template_rows": null,
            "height": null,
            "justify_content": null,
            "justify_items": null,
            "left": null,
            "margin": null,
            "max_height": null,
            "max_width": null,
            "min_height": null,
            "min_width": null,
            "object_fit": null,
            "object_position": null,
            "order": null,
            "overflow": null,
            "overflow_x": null,
            "overflow_y": null,
            "padding": null,
            "right": null,
            "top": null,
            "visibility": null,
            "width": null
          }
        },
        "721ddea47c4b4caa8553fe5a06f4086f": {
          "model_module": "@jupyter-widgets/controls",
          "model_name": "ProgressStyleModel",
          "model_module_version": "1.5.0",
          "state": {
            "_model_module": "@jupyter-widgets/controls",
            "_model_module_version": "1.5.0",
            "_model_name": "ProgressStyleModel",
            "_view_count": null,
            "_view_module": "@jupyter-widgets/base",
            "_view_module_version": "1.2.0",
            "_view_name": "StyleView",
            "bar_color": null,
            "description_width": ""
          }
        },
        "24f20922e3344e62826bc672086334cc": {
          "model_module": "@jupyter-widgets/base",
          "model_name": "LayoutModel",
          "model_module_version": "1.2.0",
          "state": {
            "_model_module": "@jupyter-widgets/base",
            "_model_module_version": "1.2.0",
            "_model_name": "LayoutModel",
            "_view_count": null,
            "_view_module": "@jupyter-widgets/base",
            "_view_module_version": "1.2.0",
            "_view_name": "LayoutView",
            "align_content": null,
            "align_items": null,
            "align_self": null,
            "border": null,
            "bottom": null,
            "display": null,
            "flex": null,
            "flex_flow": null,
            "grid_area": null,
            "grid_auto_columns": null,
            "grid_auto_flow": null,
            "grid_auto_rows": null,
            "grid_column": null,
            "grid_gap": null,
            "grid_row": null,
            "grid_template_areas": null,
            "grid_template_columns": null,
            "grid_template_rows": null,
            "height": null,
            "justify_content": null,
            "justify_items": null,
            "left": null,
            "margin": null,
            "max_height": null,
            "max_width": null,
            "min_height": null,
            "min_width": null,
            "object_fit": null,
            "object_position": null,
            "order": null,
            "overflow": null,
            "overflow_x": null,
            "overflow_y": null,
            "padding": null,
            "right": null,
            "top": null,
            "visibility": null,
            "width": null
          }
        },
        "e4defb3a48bd4fff8e0ed5e7d6de57c4": {
          "model_module": "@jupyter-widgets/controls",
          "model_name": "DescriptionStyleModel",
          "model_module_version": "1.5.0",
          "state": {
            "_model_module": "@jupyter-widgets/controls",
            "_model_module_version": "1.5.0",
            "_model_name": "DescriptionStyleModel",
            "_view_count": null,
            "_view_module": "@jupyter-widgets/base",
            "_view_module_version": "1.2.0",
            "_view_name": "StyleView",
            "description_width": ""
          }
        },
        "263ef565bd6643e590540814570c1143": {
          "model_module": "@jupyter-widgets/controls",
          "model_name": "HBoxModel",
          "model_module_version": "1.5.0",
          "state": {
            "_dom_classes": [],
            "_model_module": "@jupyter-widgets/controls",
            "_model_module_version": "1.5.0",
            "_model_name": "HBoxModel",
            "_view_count": null,
            "_view_module": "@jupyter-widgets/controls",
            "_view_module_version": "1.5.0",
            "_view_name": "HBoxView",
            "box_style": "",
            "children": [
              "IPY_MODEL_3bb3323bb4314f19aa913d5d53be327c",
              "IPY_MODEL_94c355683b6949068f3084f79629611e",
              "IPY_MODEL_abb484d0f025490a935bf3fee36a0d63"
            ],
            "layout": "IPY_MODEL_398b6f36f092462e966b9fa9d5a6f317"
          }
        },
        "3bb3323bb4314f19aa913d5d53be327c": {
          "model_module": "@jupyter-widgets/controls",
          "model_name": "HTMLModel",
          "model_module_version": "1.5.0",
          "state": {
            "_dom_classes": [],
            "_model_module": "@jupyter-widgets/controls",
            "_model_module_version": "1.5.0",
            "_model_name": "HTMLModel",
            "_view_count": null,
            "_view_module": "@jupyter-widgets/controls",
            "_view_module_version": "1.5.0",
            "_view_name": "HTMLView",
            "description": "",
            "description_tooltip": null,
            "layout": "IPY_MODEL_7725d40ce0de4273a84a0c3d935624a6",
            "placeholder": "​",
            "style": "IPY_MODEL_3e2a7e5579754232ab02f93e08835bbf",
            "value": "100%"
          }
        },
        "94c355683b6949068f3084f79629611e": {
          "model_module": "@jupyter-widgets/controls",
          "model_name": "FloatProgressModel",
          "model_module_version": "1.5.0",
          "state": {
            "_dom_classes": [],
            "_model_module": "@jupyter-widgets/controls",
            "_model_module_version": "1.5.0",
            "_model_name": "FloatProgressModel",
            "_view_count": null,
            "_view_module": "@jupyter-widgets/controls",
            "_view_module_version": "1.5.0",
            "_view_name": "ProgressView",
            "bar_style": "success",
            "description": "",
            "description_tooltip": null,
            "layout": "IPY_MODEL_1118a72e489c430d9c4b7feac2884132",
            "max": 322,
            "min": 0,
            "orientation": "horizontal",
            "style": "IPY_MODEL_8bbe6477dba844a7b03729953327e5e0",
            "value": 322
          }
        },
        "abb484d0f025490a935bf3fee36a0d63": {
          "model_module": "@jupyter-widgets/controls",
          "model_name": "HTMLModel",
          "model_module_version": "1.5.0",
          "state": {
            "_dom_classes": [],
            "_model_module": "@jupyter-widgets/controls",
            "_model_module_version": "1.5.0",
            "_model_name": "HTMLModel",
            "_view_count": null,
            "_view_module": "@jupyter-widgets/controls",
            "_view_module_version": "1.5.0",
            "_view_name": "HTMLView",
            "description": "",
            "description_tooltip": null,
            "layout": "IPY_MODEL_6b6dcdd5908241859d790e056e5d376c",
            "placeholder": "​",
            "style": "IPY_MODEL_24b62e61ef5c4e4ea5df8645834fcae9",
            "value": " 322/322 [03:31&lt;00:00,  1.71it/s]"
          }
        },
        "398b6f36f092462e966b9fa9d5a6f317": {
          "model_module": "@jupyter-widgets/base",
          "model_name": "LayoutModel",
          "model_module_version": "1.2.0",
          "state": {
            "_model_module": "@jupyter-widgets/base",
            "_model_module_version": "1.2.0",
            "_model_name": "LayoutModel",
            "_view_count": null,
            "_view_module": "@jupyter-widgets/base",
            "_view_module_version": "1.2.0",
            "_view_name": "LayoutView",
            "align_content": null,
            "align_items": null,
            "align_self": null,
            "border": null,
            "bottom": null,
            "display": null,
            "flex": null,
            "flex_flow": null,
            "grid_area": null,
            "grid_auto_columns": null,
            "grid_auto_flow": null,
            "grid_auto_rows": null,
            "grid_column": null,
            "grid_gap": null,
            "grid_row": null,
            "grid_template_areas": null,
            "grid_template_columns": null,
            "grid_template_rows": null,
            "height": null,
            "justify_content": null,
            "justify_items": null,
            "left": null,
            "margin": null,
            "max_height": null,
            "max_width": null,
            "min_height": null,
            "min_width": null,
            "object_fit": null,
            "object_position": null,
            "order": null,
            "overflow": null,
            "overflow_x": null,
            "overflow_y": null,
            "padding": null,
            "right": null,
            "top": null,
            "visibility": null,
            "width": null
          }
        },
        "7725d40ce0de4273a84a0c3d935624a6": {
          "model_module": "@jupyter-widgets/base",
          "model_name": "LayoutModel",
          "model_module_version": "1.2.0",
          "state": {
            "_model_module": "@jupyter-widgets/base",
            "_model_module_version": "1.2.0",
            "_model_name": "LayoutModel",
            "_view_count": null,
            "_view_module": "@jupyter-widgets/base",
            "_view_module_version": "1.2.0",
            "_view_name": "LayoutView",
            "align_content": null,
            "align_items": null,
            "align_self": null,
            "border": null,
            "bottom": null,
            "display": null,
            "flex": null,
            "flex_flow": null,
            "grid_area": null,
            "grid_auto_columns": null,
            "grid_auto_flow": null,
            "grid_auto_rows": null,
            "grid_column": null,
            "grid_gap": null,
            "grid_row": null,
            "grid_template_areas": null,
            "grid_template_columns": null,
            "grid_template_rows": null,
            "height": null,
            "justify_content": null,
            "justify_items": null,
            "left": null,
            "margin": null,
            "max_height": null,
            "max_width": null,
            "min_height": null,
            "min_width": null,
            "object_fit": null,
            "object_position": null,
            "order": null,
            "overflow": null,
            "overflow_x": null,
            "overflow_y": null,
            "padding": null,
            "right": null,
            "top": null,
            "visibility": null,
            "width": null
          }
        },
        "3e2a7e5579754232ab02f93e08835bbf": {
          "model_module": "@jupyter-widgets/controls",
          "model_name": "DescriptionStyleModel",
          "model_module_version": "1.5.0",
          "state": {
            "_model_module": "@jupyter-widgets/controls",
            "_model_module_version": "1.5.0",
            "_model_name": "DescriptionStyleModel",
            "_view_count": null,
            "_view_module": "@jupyter-widgets/base",
            "_view_module_version": "1.2.0",
            "_view_name": "StyleView",
            "description_width": ""
          }
        },
        "1118a72e489c430d9c4b7feac2884132": {
          "model_module": "@jupyter-widgets/base",
          "model_name": "LayoutModel",
          "model_module_version": "1.2.0",
          "state": {
            "_model_module": "@jupyter-widgets/base",
            "_model_module_version": "1.2.0",
            "_model_name": "LayoutModel",
            "_view_count": null,
            "_view_module": "@jupyter-widgets/base",
            "_view_module_version": "1.2.0",
            "_view_name": "LayoutView",
            "align_content": null,
            "align_items": null,
            "align_self": null,
            "border": null,
            "bottom": null,
            "display": null,
            "flex": null,
            "flex_flow": null,
            "grid_area": null,
            "grid_auto_columns": null,
            "grid_auto_flow": null,
            "grid_auto_rows": null,
            "grid_column": null,
            "grid_gap": null,
            "grid_row": null,
            "grid_template_areas": null,
            "grid_template_columns": null,
            "grid_template_rows": null,
            "height": null,
            "justify_content": null,
            "justify_items": null,
            "left": null,
            "margin": null,
            "max_height": null,
            "max_width": null,
            "min_height": null,
            "min_width": null,
            "object_fit": null,
            "object_position": null,
            "order": null,
            "overflow": null,
            "overflow_x": null,
            "overflow_y": null,
            "padding": null,
            "right": null,
            "top": null,
            "visibility": null,
            "width": null
          }
        },
        "8bbe6477dba844a7b03729953327e5e0": {
          "model_module": "@jupyter-widgets/controls",
          "model_name": "ProgressStyleModel",
          "model_module_version": "1.5.0",
          "state": {
            "_model_module": "@jupyter-widgets/controls",
            "_model_module_version": "1.5.0",
            "_model_name": "ProgressStyleModel",
            "_view_count": null,
            "_view_module": "@jupyter-widgets/base",
            "_view_module_version": "1.2.0",
            "_view_name": "StyleView",
            "bar_color": null,
            "description_width": ""
          }
        },
        "6b6dcdd5908241859d790e056e5d376c": {
          "model_module": "@jupyter-widgets/base",
          "model_name": "LayoutModel",
          "model_module_version": "1.2.0",
          "state": {
            "_model_module": "@jupyter-widgets/base",
            "_model_module_version": "1.2.0",
            "_model_name": "LayoutModel",
            "_view_count": null,
            "_view_module": "@jupyter-widgets/base",
            "_view_module_version": "1.2.0",
            "_view_name": "LayoutView",
            "align_content": null,
            "align_items": null,
            "align_self": null,
            "border": null,
            "bottom": null,
            "display": null,
            "flex": null,
            "flex_flow": null,
            "grid_area": null,
            "grid_auto_columns": null,
            "grid_auto_flow": null,
            "grid_auto_rows": null,
            "grid_column": null,
            "grid_gap": null,
            "grid_row": null,
            "grid_template_areas": null,
            "grid_template_columns": null,
            "grid_template_rows": null,
            "height": null,
            "justify_content": null,
            "justify_items": null,
            "left": null,
            "margin": null,
            "max_height": null,
            "max_width": null,
            "min_height": null,
            "min_width": null,
            "object_fit": null,
            "object_position": null,
            "order": null,
            "overflow": null,
            "overflow_x": null,
            "overflow_y": null,
            "padding": null,
            "right": null,
            "top": null,
            "visibility": null,
            "width": null
          }
        },
        "24b62e61ef5c4e4ea5df8645834fcae9": {
          "model_module": "@jupyter-widgets/controls",
          "model_name": "DescriptionStyleModel",
          "model_module_version": "1.5.0",
          "state": {
            "_model_module": "@jupyter-widgets/controls",
            "_model_module_version": "1.5.0",
            "_model_name": "DescriptionStyleModel",
            "_view_count": null,
            "_view_module": "@jupyter-widgets/base",
            "_view_module_version": "1.2.0",
            "_view_name": "StyleView",
            "description_width": ""
          }
        }
      }
    }
  },
  "nbformat": 4,
  "nbformat_minor": 0
}